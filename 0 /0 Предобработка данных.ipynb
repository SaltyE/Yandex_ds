{
 "cells": [
  {
   "cell_type": "markdown",
   "id": "a9c1ed06",
   "metadata": {},
   "source": [
    "# Исследование надежности заемщиков\n",
    "Заказчик — кредитный отдел банка. Нужно разобраться, влияет ли семейное положение и количество детей клиента на факт погашения кредита в срок. Входные данные от банка — статистика о платёжеспособности клиентов.\n",
    "\n",
    "Результаты исследования будут учтены при построении модели **кредитного скоринга** — специальной системы, которая оценивает способность потенциального заёмщика вернуть кредит банку."
   ]
  },
  {
   "cell_type": "markdown",
   "id": "b79f2b01",
   "metadata": {},
   "source": [
    "## Шаг 1. Откройте файл с данными и изучите общую информацию"
   ]
  },
  {
   "cell_type": "code",
   "execution_count": 1,
   "id": "1e1f3f0d",
   "metadata": {},
   "outputs": [],
   "source": [
    "import pandas as pd\n",
    "from scipy import stats\n",
    "from scipy.stats import chi2_contingency\n",
    "import seaborn as sns"
   ]
  },
  {
   "cell_type": "code",
   "execution_count": 2,
   "id": "2df4424d",
   "metadata": {},
   "outputs": [],
   "source": [
    "try:\n",
    "    data = pd.read_csv('/datasets/data.csv')\n",
    "except:\n",
    "    data = pd.read_csv('https://code.s3.yandex.net/datasets/data.csv')"
   ]
  },
  {
   "cell_type": "code",
   "execution_count": 3,
   "id": "4823d39a",
   "metadata": {},
   "outputs": [
    {
     "data": {
      "text/html": [
       "<div>\n",
       "<style scoped>\n",
       "    .dataframe tbody tr th:only-of-type {\n",
       "        vertical-align: middle;\n",
       "    }\n",
       "\n",
       "    .dataframe tbody tr th {\n",
       "        vertical-align: top;\n",
       "    }\n",
       "\n",
       "    .dataframe thead th {\n",
       "        text-align: right;\n",
       "    }\n",
       "</style>\n",
       "<table border=\"1\" class=\"dataframe\">\n",
       "  <thead>\n",
       "    <tr style=\"text-align: right;\">\n",
       "      <th></th>\n",
       "      <th>children</th>\n",
       "      <th>days_employed</th>\n",
       "      <th>dob_years</th>\n",
       "      <th>education</th>\n",
       "      <th>education_id</th>\n",
       "      <th>family_status</th>\n",
       "      <th>family_status_id</th>\n",
       "      <th>gender</th>\n",
       "      <th>income_type</th>\n",
       "      <th>debt</th>\n",
       "      <th>total_income</th>\n",
       "      <th>purpose</th>\n",
       "    </tr>\n",
       "  </thead>\n",
       "  <tbody>\n",
       "    <tr>\n",
       "      <th>0</th>\n",
       "      <td>1</td>\n",
       "      <td>-8437.673028</td>\n",
       "      <td>42</td>\n",
       "      <td>высшее</td>\n",
       "      <td>0</td>\n",
       "      <td>женат / замужем</td>\n",
       "      <td>0</td>\n",
       "      <td>F</td>\n",
       "      <td>сотрудник</td>\n",
       "      <td>0</td>\n",
       "      <td>253875.639453</td>\n",
       "      <td>покупка жилья</td>\n",
       "    </tr>\n",
       "    <tr>\n",
       "      <th>1</th>\n",
       "      <td>1</td>\n",
       "      <td>-4024.803754</td>\n",
       "      <td>36</td>\n",
       "      <td>среднее</td>\n",
       "      <td>1</td>\n",
       "      <td>женат / замужем</td>\n",
       "      <td>0</td>\n",
       "      <td>F</td>\n",
       "      <td>сотрудник</td>\n",
       "      <td>0</td>\n",
       "      <td>112080.014102</td>\n",
       "      <td>приобретение автомобиля</td>\n",
       "    </tr>\n",
       "    <tr>\n",
       "      <th>2</th>\n",
       "      <td>0</td>\n",
       "      <td>-5623.422610</td>\n",
       "      <td>33</td>\n",
       "      <td>Среднее</td>\n",
       "      <td>1</td>\n",
       "      <td>женат / замужем</td>\n",
       "      <td>0</td>\n",
       "      <td>M</td>\n",
       "      <td>сотрудник</td>\n",
       "      <td>0</td>\n",
       "      <td>145885.952297</td>\n",
       "      <td>покупка жилья</td>\n",
       "    </tr>\n",
       "    <tr>\n",
       "      <th>3</th>\n",
       "      <td>3</td>\n",
       "      <td>-4124.747207</td>\n",
       "      <td>32</td>\n",
       "      <td>среднее</td>\n",
       "      <td>1</td>\n",
       "      <td>женат / замужем</td>\n",
       "      <td>0</td>\n",
       "      <td>M</td>\n",
       "      <td>сотрудник</td>\n",
       "      <td>0</td>\n",
       "      <td>267628.550329</td>\n",
       "      <td>дополнительное образование</td>\n",
       "    </tr>\n",
       "    <tr>\n",
       "      <th>4</th>\n",
       "      <td>0</td>\n",
       "      <td>340266.072047</td>\n",
       "      <td>53</td>\n",
       "      <td>среднее</td>\n",
       "      <td>1</td>\n",
       "      <td>гражданский брак</td>\n",
       "      <td>1</td>\n",
       "      <td>F</td>\n",
       "      <td>пенсионер</td>\n",
       "      <td>0</td>\n",
       "      <td>158616.077870</td>\n",
       "      <td>сыграть свадьбу</td>\n",
       "    </tr>\n",
       "  </tbody>\n",
       "</table>\n",
       "</div>"
      ],
      "text/plain": [
       "   children  days_employed  dob_years education  education_id  \\\n",
       "0         1   -8437.673028         42    высшее             0   \n",
       "1         1   -4024.803754         36   среднее             1   \n",
       "2         0   -5623.422610         33   Среднее             1   \n",
       "3         3   -4124.747207         32   среднее             1   \n",
       "4         0  340266.072047         53   среднее             1   \n",
       "\n",
       "      family_status  family_status_id gender income_type  debt   total_income  \\\n",
       "0   женат / замужем                 0      F   сотрудник     0  253875.639453   \n",
       "1   женат / замужем                 0      F   сотрудник     0  112080.014102   \n",
       "2   женат / замужем                 0      M   сотрудник     0  145885.952297   \n",
       "3   женат / замужем                 0      M   сотрудник     0  267628.550329   \n",
       "4  гражданский брак                 1      F   пенсионер     0  158616.077870   \n",
       "\n",
       "                      purpose  \n",
       "0               покупка жилья  \n",
       "1     приобретение автомобиля  \n",
       "2               покупка жилья  \n",
       "3  дополнительное образование  \n",
       "4             сыграть свадьбу  "
      ]
     },
     "execution_count": 3,
     "metadata": {},
     "output_type": "execute_result"
    }
   ],
   "source": [
    "data.head(5)"
   ]
  },
  {
   "cell_type": "code",
   "execution_count": 4,
   "id": "7787b99c",
   "metadata": {},
   "outputs": [
    {
     "name": "stdout",
     "output_type": "stream",
     "text": [
      "<class 'pandas.core.frame.DataFrame'>\n",
      "RangeIndex: 21525 entries, 0 to 21524\n",
      "Data columns (total 12 columns):\n",
      " #   Column            Non-Null Count  Dtype  \n",
      "---  ------            --------------  -----  \n",
      " 0   children          21525 non-null  int64  \n",
      " 1   days_employed     19351 non-null  float64\n",
      " 2   dob_years         21525 non-null  int64  \n",
      " 3   education         21525 non-null  object \n",
      " 4   education_id      21525 non-null  int64  \n",
      " 5   family_status     21525 non-null  object \n",
      " 6   family_status_id  21525 non-null  int64  \n",
      " 7   gender            21525 non-null  object \n",
      " 8   income_type       21525 non-null  object \n",
      " 9   debt              21525 non-null  int64  \n",
      " 10  total_income      19351 non-null  float64\n",
      " 11  purpose           21525 non-null  object \n",
      "dtypes: float64(2), int64(5), object(5)\n",
      "memory usage: 2.0+ MB\n"
     ]
    }
   ],
   "source": [
    "data.info()"
   ]
  },
  {
   "cell_type": "markdown",
   "id": "6832b98e",
   "metadata": {},
   "source": [
    "**Вывод**\n",
    "\n",
    "В файле 12 колонок, 2 колонки типа float, 5 колонок типа int и 5 колонок типа object."
   ]
  },
  {
   "cell_type": "markdown",
   "id": "71b5b4f5",
   "metadata": {},
   "source": [
    "## Шаг 2. Предобработка данных\n",
    "\n",
    "Удаление пропусков"
   ]
  },
  {
   "cell_type": "code",
   "execution_count": 5,
   "id": "6e131966",
   "metadata": {},
   "outputs": [
    {
     "data": {
      "text/plain": [
       "children               0\n",
       "days_employed       2174\n",
       "dob_years              0\n",
       "education              0\n",
       "education_id           0\n",
       "family_status          0\n",
       "family_status_id       0\n",
       "gender                 0\n",
       "income_type            0\n",
       "debt                   0\n",
       "total_income        2174\n",
       "purpose                0\n",
       "dtype: int64"
      ]
     },
     "execution_count": 5,
     "metadata": {},
     "output_type": "execute_result"
    }
   ],
   "source": [
    "data.isna().sum()"
   ]
  },
  {
   "cell_type": "markdown",
   "id": "cd158170",
   "metadata": {},
   "source": [
    "`total_income` — хранит данные о доходах. На сумму дохода сильнее всего влияет тип занятости, поэтому заполнить пропуски в этом столбце нужно медианным значением по каждому типу из столбца `income_type`."
   ]
  },
  {
   "cell_type": "code",
   "execution_count": 6,
   "id": "4c4ea332",
   "metadata": {},
   "outputs": [],
   "source": [
    "for t in data['income_type'].unique():\n",
    "    data.loc[(data['income_type'] == t) & (data['total_income'].isna()), 'total_income'] = \\\n",
    "    data.loc[(data['income_type'] == t), 'total_income'].median()"
   ]
  },
  {
   "cell_type": "markdown",
   "id": "63ca1cce",
   "metadata": {},
   "source": [
    "Обработаем аномальные значения в стообце `days_employed` и выделим для каждого типа занятости выведите медианное значение трудового стажа `days_employed` в днях.     "
   ]
  },
  {
   "cell_type": "code",
   "execution_count": 7,
   "id": "db7c482b",
   "metadata": {},
   "outputs": [],
   "source": [
    "data['days_employed'] = data['days_employed'].abs()"
   ]
  },
  {
   "cell_type": "code",
   "execution_count": 8,
   "id": "d34bc324",
   "metadata": {},
   "outputs": [
    {
     "data": {
      "text/plain": [
       "income_type\n",
       "безработный        366413.652744\n",
       "в декрете            3296.759962\n",
       "госслужащий          2689.368353\n",
       "компаньон            1547.382223\n",
       "пенсионер          365213.306266\n",
       "предприниматель       520.848083\n",
       "сотрудник            1574.202821\n",
       "студент               578.751554\n",
       "Name: days_employed, dtype: float64"
      ]
     },
     "execution_count": 8,
     "metadata": {},
     "output_type": "execute_result"
    }
   ],
   "source": [
    "data.groupby('income_type')['days_employed'].agg('median')"
   ]
  },
  {
   "cell_type": "markdown",
   "id": "25b7a191",
   "metadata": {},
   "source": [
    "Заполним пропуски в столбце days_employed медианными значениями по каждого типа занятости `income_type`."
   ]
  },
  {
   "cell_type": "code",
   "execution_count": 9,
   "id": "a5dc1eca",
   "metadata": {},
   "outputs": [],
   "source": [
    "for t in data['income_type'].unique():\n",
    "    data.loc[(data['income_type'] == t) & (data['days_employed'].isna()), 'days_employed'] = \\\n",
    "    data.loc[(data['income_type'] == t), 'days_employed'].median()"
   ]
  },
  {
   "cell_type": "markdown",
   "id": "a54f765b",
   "metadata": {},
   "source": [
    "У двух типов (безработные и пенсионеры) получатся аномально большие значения. Исправить такие значения сложно, поэтому оставьте их как есть. Тем более этот столбец не понадобится вам для исследования."
   ]
  },
  {
   "cell_type": "markdown",
   "id": "1c1803f0",
   "metadata": {},
   "source": [
    "**Посмотрим на уникальные значения столбца `children`.**"
   ]
  },
  {
   "cell_type": "code",
   "execution_count": 10,
   "id": "d254e670",
   "metadata": {},
   "outputs": [
    {
     "data": {
      "text/plain": [
       "array([ 1,  0,  3,  2, -1,  4, 20,  5], dtype=int64)"
      ]
     },
     "execution_count": 10,
     "metadata": {},
     "output_type": "execute_result"
    }
   ],
   "source": [
    "data['children'].unique()"
   ]
  },
  {
   "cell_type": "code",
   "execution_count": 11,
   "id": "9da9d772",
   "metadata": {},
   "outputs": [],
   "source": [
    "data = data[(data['children'] != -1) & (data['children'] != 20)] #избавляемся от аномальных значений"
   ]
  },
  {
   "cell_type": "code",
   "execution_count": 12,
   "id": "1084c64b",
   "metadata": {},
   "outputs": [
    {
     "data": {
      "text/plain": [
       "array([1, 0, 3, 2, 4, 5], dtype=int64)"
      ]
     },
     "execution_count": 12,
     "metadata": {},
     "output_type": "execute_result"
    }
   ],
   "source": [
    "data['children'].unique()"
   ]
  },
  {
   "cell_type": "code",
   "execution_count": 13,
   "id": "4e1f8fc7",
   "metadata": {},
   "outputs": [
    {
     "data": {
      "text/plain": [
       "children            0\n",
       "days_employed       0\n",
       "dob_years           0\n",
       "education           0\n",
       "education_id        0\n",
       "family_status       0\n",
       "family_status_id    0\n",
       "gender              0\n",
       "income_type         0\n",
       "debt                0\n",
       "total_income        0\n",
       "purpose             0\n",
       "dtype: int64"
      ]
     },
     "execution_count": 13,
     "metadata": {},
     "output_type": "execute_result"
    }
   ],
   "source": [
    "data.isna().sum() # убедимся, что пропусков в данных больше нет"
   ]
  },
  {
   "cell_type": "markdown",
   "id": "ef837708",
   "metadata": {},
   "source": [
    "### Обработка дубликатов"
   ]
  },
  {
   "cell_type": "markdown",
   "id": "63fb6512",
   "metadata": {},
   "source": [
    "Обработаем неявные дубликаты в столбце `education`. В этом столбце есть одни и те же значения, но записанные по-разному: с использованием заглавных и строчных букв"
   ]
  },
  {
   "cell_type": "code",
   "execution_count": 14,
   "id": "a6c48be8",
   "metadata": {},
   "outputs": [],
   "source": [
    "data['education'] = data['education'].str.lower() # "
   ]
  },
  {
   "cell_type": "code",
   "execution_count": 15,
   "id": "d6b1f2e0",
   "metadata": {},
   "outputs": [
    {
     "data": {
      "text/plain": [
       "71"
      ]
     },
     "execution_count": 15,
     "metadata": {},
     "output_type": "execute_result"
    }
   ],
   "source": [
    "data.duplicated().sum()"
   ]
  },
  {
   "cell_type": "code",
   "execution_count": 16,
   "id": "5d7c08b6",
   "metadata": {},
   "outputs": [],
   "source": [
    "data = data.drop_duplicates() # удаляем дубликаты"
   ]
  },
  {
   "cell_type": "markdown",
   "id": "b463014c",
   "metadata": {},
   "source": [
    "### Категоризация данных"
   ]
  },
  {
   "cell_type": "markdown",
   "id": "633fd64a",
   "metadata": {},
   "source": [
    "**На основании диапазонов, указанных ниже, создайте в датафрейме `data` столбец `total_income_category` с категориями:**\n",
    "\n",
    "- 0–30000 — `'E'`;\n",
    "- 30001–50000 — `'D'`;\n",
    "- 50001–200000 — `'C'`;\n",
    "- 200001–1000000 — `'B'`;\n",
    "- 1000001 и выше — `'A'`."
   ]
  },
  {
   "cell_type": "code",
   "execution_count": 17,
   "id": "4e48079d",
   "metadata": {},
   "outputs": [],
   "source": [
    "def categorize_income(income):\n",
    "    try:\n",
    "        if 0 <= income <= 30000:\n",
    "            return 'E'\n",
    "        elif 30001 <= income <= 50000:\n",
    "            return 'D'\n",
    "        elif 50001 <= income <= 200000:\n",
    "            return 'C'\n",
    "        elif 200001 <= income <= 1000000:\n",
    "            return 'B'\n",
    "        elif income >= 1000001:\n",
    "            return 'A'\n",
    "    except:\n",
    "        pass"
   ]
  },
  {
   "cell_type": "code",
   "execution_count": 18,
   "id": "f6c93865",
   "metadata": {},
   "outputs": [],
   "source": [
    "data['total_income_category'] = data['total_income'].apply(categorize_income)"
   ]
  },
  {
   "cell_type": "markdown",
   "id": "98d3f4fe",
   "metadata": {},
   "source": [
    "**Выведем на экран перечень уникальных целей взятия кредита из столбца `purpose`.**"
   ]
  },
  {
   "cell_type": "code",
   "execution_count": 19,
   "id": "29461ae5",
   "metadata": {},
   "outputs": [
    {
     "data": {
      "text/plain": [
       "array(['покупка жилья', 'приобретение автомобиля',\n",
       "       'дополнительное образование', 'сыграть свадьбу',\n",
       "       'операции с жильем', 'образование', 'на проведение свадьбы',\n",
       "       'покупка жилья для семьи', 'покупка недвижимости',\n",
       "       'покупка коммерческой недвижимости', 'покупка жилой недвижимости',\n",
       "       'строительство собственной недвижимости', 'недвижимость',\n",
       "       'строительство недвижимости', 'на покупку подержанного автомобиля',\n",
       "       'на покупку своего автомобиля',\n",
       "       'операции с коммерческой недвижимостью',\n",
       "       'строительство жилой недвижимости', 'жилье',\n",
       "       'операции со своей недвижимостью', 'автомобили',\n",
       "       'заняться образованием', 'сделка с подержанным автомобилем',\n",
       "       'получение образования', 'автомобиль', 'свадьба',\n",
       "       'получение дополнительного образования', 'покупка своего жилья',\n",
       "       'операции с недвижимостью', 'получение высшего образования',\n",
       "       'свой автомобиль', 'сделка с автомобилем',\n",
       "       'профильное образование', 'высшее образование',\n",
       "       'покупка жилья для сдачи', 'на покупку автомобиля', 'ремонт жилью',\n",
       "       'заняться высшим образованием'], dtype=object)"
      ]
     },
     "execution_count": 19,
     "metadata": {},
     "output_type": "execute_result"
    }
   ],
   "source": [
    "data['purpose'].unique()"
   ]
  },
  {
   "cell_type": "markdown",
   "id": "20b55579",
   "metadata": {},
   "source": [
    "**Сформируем новый столбец `purpose_category`, в который войдут следующие категории:**\n",
    "\n",
    "- `'операции с автомобилем'`,\n",
    "- `'операции с недвижимостью'`,\n",
    "- `'проведение свадьбы'`,\n",
    "- `'получение образования'`."
   ]
  },
  {
   "cell_type": "code",
   "execution_count": 20,
   "id": "b3bc4053",
   "metadata": {},
   "outputs": [],
   "source": [
    "def categorize_purpose(row):\n",
    "    try:\n",
    "        if 'автом' in row:\n",
    "            return 'операции с автомобилем'\n",
    "        elif 'жил' in row or 'недвиж' in row:\n",
    "            return 'операции с недвижимостью'\n",
    "        elif 'свад' in row:\n",
    "            return 'проведение свадьбы'\n",
    "        elif 'образов' in row:\n",
    "            return 'получение образования'\n",
    "    except:\n",
    "        return 'нет категории'"
   ]
  },
  {
   "cell_type": "code",
   "execution_count": 21,
   "id": "449850c1",
   "metadata": {},
   "outputs": [],
   "source": [
    "data['purpose_category'] = data['purpose'].apply(categorize_purpose)"
   ]
  },
  {
   "cell_type": "markdown",
   "id": "30885cbb",
   "metadata": {},
   "source": [
    "### Шаг 3. Исследуйте данные и ответьте на вопросы"
   ]
  },
  {
   "cell_type": "markdown",
   "id": "86ec7acd",
   "metadata": {},
   "source": [
    "#### 3.1 Есть ли зависимость между количеством детей и возвратом кредита в срок?"
   ]
  },
  {
   "cell_type": "code",
   "execution_count": 22,
   "id": "094018a9",
   "metadata": {},
   "outputs": [
    {
     "name": "stdout",
     "output_type": "stream",
     "text": [
      "debt          0     1\n",
      "children             \n",
      "0         13028  1063\n",
      "1          4364   444\n",
      "2          1858   194\n",
      "3           303    27\n",
      "4            37     4\n",
      "5             9     0\n",
      "          count   sum    ratio%\n",
      "           debt  debt          \n",
      "children                       \n",
      "0         14091  1063  7.543822\n",
      "1          4808   444  9.234609\n",
      "2          2052   194  9.454191\n",
      "3           330    27  8.181818\n",
      "4            41     4  9.756098\n",
      "Chi2ContingencyResult(statistic=20.117395586863267, pvalue=0.0011878936268035906, dof=5, expected_freq=array([[1.29468618e+04, 1.14413820e+03],\n",
      "       [4.41760780e+03, 3.90392199e+02],\n",
      "       [1.88538503e+03, 1.66614974e+02],\n",
      "       [3.03205194e+02, 2.67948057e+01],\n",
      "       [3.76709484e+01, 3.32905162e+00],\n",
      "       [8.26923257e+00, 7.30767428e-01]]))\n"
     ]
    }
   ],
   "source": [
    "data_pivot = pd.crosstab(data.children,data.debt)\n",
    "print(data_pivot)\n",
    "\n",
    "\n",
    "#добавлю таблицу сопряженности.\n",
    "data_pivot_1 = data.pivot_table(index='children',values='debt',aggfunc=['count','sum'])\n",
    "data_pivot_1['ratio%'] = data_pivot_1['sum', 'debt'] / data_pivot_1['count', 'debt'] * 100\n",
    "print(data_pivot_1.head())\n",
    "print(chi2_contingency(data_pivot))"
   ]
  },
  {
   "cell_type": "markdown",
   "id": "4c0b208c",
   "metadata": {},
   "source": [
    "Тест хи-квадрат позволяет находит связи между двумя номинальными переменными на основе таблицы сопряженности \n",
    "и сравнениях ожидаемых и наблюдаемых частот.\n",
    "Гипотеза, которую мы проверяем: Количество детей и возврат кредита в срок подчиняется нормальному закону распределения.\n",
    "Х2 = 20.117, df = 5, p-value < 0.05. Можем отклонить нулевую гипотезу об отсутсвии связи между количеством детей и возвратом кредита в срок.\n",
    "По остаткам: количество людей без детей и без долгов больше ожидания, а с 1 ребенком и без долгов - самую малость меньше ожидания. "
   ]
  },
  {
   "cell_type": "markdown",
   "id": "b9e928c2",
   "metadata": {},
   "source": [
    "#### 3.2 Есть ли зависимость между семейным положением и возвратом кредита в срок?"
   ]
  },
  {
   "cell_type": "code",
   "execution_count": 23,
   "id": "755103b1",
   "metadata": {},
   "outputs": [
    {
     "name": "stdout",
     "output_type": "stream",
     "text": [
      "                       count  sum    ratio%\n",
      "                        debt debt          \n",
      "family_status                              \n",
      "Не женат / не замужем   2796  273  9.763948\n",
      "в разводе               1189   84  7.064760\n",
      "вдовец / вдова           951   63  6.624606\n",
      "гражданский брак        4134  385  9.313014\n",
      "женат / замужем        12261  927  7.560558\n"
     ]
    }
   ],
   "source": [
    "data_pivot2_2 = data.pivot_table(index='family_status',values='debt',aggfunc=['count','sum'])\n",
    "data_pivot2_2['ratio%'] = data_pivot2_2['sum', 'debt'] / data_pivot2_2['count', 'debt'] * 100\n",
    "print(data_pivot2_2.head())"
   ]
  },
  {
   "cell_type": "markdown",
   "id": "c0a6fe3e",
   "metadata": {},
   "source": [
    "Незамужные и неженатые(в том числе и проживающие в гражданском браке) реже остальных отдают кредиты в срок."
   ]
  },
  {
   "cell_type": "markdown",
   "id": "cbf1b33b",
   "metadata": {},
   "source": [
    "#### 3.3 Есть ли зависимость между уровнем дохода и возвратом кредита в срок?"
   ]
  },
  {
   "cell_type": "code",
   "execution_count": 24,
   "id": "77326acc",
   "metadata": {},
   "outputs": [
    {
     "name": "stdout",
     "output_type": "stream",
     "text": [
      "                       count   sum    ratio%          %\n",
      "                        debt  debt                     \n",
      "total_income_category                                  \n",
      "A                         25     2  8.000000   0.117200\n",
      "B                       5014   354  7.060231  23.505696\n",
      "C                      15921  1353  8.498210  74.637851\n",
      "D                        349    21  6.017192   1.636116\n",
      "E                         22     2  9.090909   0.103136\n"
     ]
    }
   ],
   "source": [
    "data_pivot3 = data.pivot_table(index='total_income_category',values='debt',aggfunc=['count','sum'])\n",
    "data_pivot3['ratio%'] = data_pivot3['sum', 'debt'] / data_pivot3['count', 'debt'] * 100\n",
    "data_pivot3['%'] = data_pivot3['count','debt'] / data_pivot3['count','debt'].sum() * 100\n",
    "print(data_pivot3)"
   ]
  },
  {
   "cell_type": "code",
   "execution_count": 25,
   "id": "af7f392a",
   "metadata": {},
   "outputs": [
    {
     "data": {
      "text/plain": [
       "Ttest_indResult(statistic=1.850694711638729, pvalue=0.06422730260815598)"
      ]
     },
     "execution_count": 25,
     "metadata": {},
     "output_type": "execute_result"
    }
   ],
   "source": [
    "stats.ttest_ind(data[data['debt'] == 0]['total_income'],data[data['debt'] == 1]['total_income'])"
   ]
  },
  {
   "cell_type": "markdown",
   "id": "94dfcbe8",
   "metadata": {},
   "source": [
    "Результаты Т-теста: p-value > 0.05, не можем отклонить нулевую гипотезу(отутствие свзяи между уровнем дохода и возвратом кредита в срок)\n",
    "\n",
    "Конверсия: если рассматривать категории B и С (состовляют 98% всей выборки): респонденты из категории B чаще возвращают кредит в срок."
   ]
  },
  {
   "cell_type": "markdown",
   "id": "8f7b11a7",
   "metadata": {},
   "source": [
    "#### 3.4 Как разные цели кредита влияют на его возврат в срок?"
   ]
  },
  {
   "cell_type": "code",
   "execution_count": 26,
   "id": "b8e1c9ef",
   "metadata": {},
   "outputs": [
    {
     "name": "stdout",
     "output_type": "stream",
     "text": [
      "                          count  sum    ratio%\n",
      "                           debt debt          \n",
      "purpose_category                              \n",
      "операции с автомобилем     4279  400  9.347978\n",
      "операции с недвижимостью  10751  780  7.255139\n",
      "получение образования      3988  369  9.252758\n",
      "проведение свадьбы         2313  183  7.911803\n"
     ]
    }
   ],
   "source": [
    "data_pivot4 = data.pivot_table(index='purpose_category',values='debt',aggfunc=['count','sum'])\n",
    "data_pivot4['ratio%'] = data_pivot4['sum', 'debt'] / data_pivot4['count', 'debt'] * 100\n",
    "print(data_pivot4)"
   ]
  },
  {
   "cell_type": "markdown",
   "id": "ec467fc6",
   "metadata": {},
   "source": [
    "Кредиты на образование и операции с авто возвращают реже, чем в остальных категориях."
   ]
  },
  {
   "cell_type": "markdown",
   "id": "a9024c73",
   "metadata": {},
   "source": [
    "#### 3.5 Приведите возможные причины появления пропусков в исходных данных."
   ]
  },
  {
   "cell_type": "markdown",
   "id": "37bc669e",
   "metadata": {},
   "source": [
    "Пропуски в строке ежемесечного дохода, если данные заполнял сам человек, скорее всего обусловлены нежеланием человека распространятся о своих доходах или сложностью в их подсчете. Избежать таких пропусков можно используя закрытый-альтернативный вид формулировки вопроса.\n",
    "\n",
    "Пропуски в общем трудовом стаже, скорее всего, тоже связаны с трудностью подсчета. "
   ]
  },
  {
   "cell_type": "markdown",
   "id": "1175fcc1",
   "metadata": {},
   "source": [
    "### Шаг 4: общий вывод."
   ]
  },
  {
   "cell_type": "markdown",
   "id": "a24f9413",
   "metadata": {},
   "source": [
    "Цель исследования надежности займщиков: формулировка и проверка гипотез о наличии зависимости между переменным.\n",
    "\n",
    "В результате исследования были подтверждены подтверждены гипотезы:\n",
    "\n",
    "Существует зависимость между количеством детей и возвратом кредита в срок. Отсутсвие ребенка положительно сказывается на вероятности возвращения кредита без просрочки. \n",
    "Существует зависимость между семейным положением и возвратом кредита в срок. Официально незамужные люди возвращают кредиты реже других. Вдовы и разведенные самые надежные клиенты.\n",
    "Существует зависимость между уровнем дохода и возвратом кредита в срок. Чем больше доход, тем чаще возвращают кредит во время. \n",
    "Цели кредита также влияют на вероятность возвращения его(кредита) в срок. Кредит на операцию с недвижимостью и свадьбу обладает наибольшей конверсией. "
   ]
  }
 ],
 "metadata": {
  "kernelspec": {
   "display_name": "Python 3 (ipykernel)",
   "language": "python",
   "name": "python3"
  },
  "language_info": {
   "codemirror_mode": {
    "name": "ipython",
    "version": 3
   },
   "file_extension": ".py",
   "mimetype": "text/x-python",
   "name": "python",
   "nbconvert_exporter": "python",
   "pygments_lexer": "ipython3",
   "version": "3.10.9"
  }
 },
 "nbformat": 4,
 "nbformat_minor": 5
}
