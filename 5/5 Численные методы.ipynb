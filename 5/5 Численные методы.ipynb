{
 "cells": [
  {
   "cell_type": "markdown",
   "metadata": {},
   "source": [
    "# Определение стоимости автомобилей"
   ]
  },
  {
   "cell_type": "markdown",
   "metadata": {},
   "source": [
    "Сервис по продаже автомобилей с пробегом «Не бит, не крашен» разрабатывает приложение для привлечения новых клиентов. В нём можно быстро узнать рыночную стоимость своего автомобиля. В вашем распоряжении исторические данные: технические характеристики, комплектации и цены автомобилей. Вам нужно построить модель для определения стоимости. \n",
    "\n",
    "Заказчику важны:\n",
    "\n",
    "- качество предсказания;\n",
    "- скорость предсказания;\n",
    "- время обучения."
   ]
  },
  {
   "cell_type": "markdown",
   "metadata": {},
   "source": [
    "Компания по продаже б/у автомобилей разрабатывает новую функцию своего приложения. В нём можно автоматически определить рыночную стоимость своего автомобиля.\n",
    "\n",
    "Задачи:\n",
    "1) Загрузить и подготовить данные.\n",
    "2) Обучить разные модели.\n",
    "3) Проанализировать скорость работы и качество моделей."
   ]
  },
  {
   "cell_type": "markdown",
   "metadata": {},
   "source": [
    "## Подготовка данных"
   ]
  },
  {
   "cell_type": "code",
   "execution_count": 1,
   "metadata": {},
   "outputs": [],
   "source": [
    "import pandas as pd\n",
    "import numpy as np\n",
    "import matplotlib.pyplot as plt\n",
    "import seaborn as sns\n",
    "\n",
    "from sklearn.model_selection import train_test_split\n",
    "from sklearn.preprocessing import StandardScaler\n",
    "from sklearn.linear_model import LinearRegression\n",
    "from sklearn.tree import DecisionTreeRegressor\n",
    "from sklearn.metrics import r2_score\n",
    "from sklearn.metrics import mean_squared_error\n",
    "from sklearn.model_selection import cross_val_score\n",
    "from sklearn.model_selection import GridSearchCV\n",
    "from sklearn.tree import DecisionTreeRegressor\n",
    "from sklearn.preprocessing import OneHotEncoder\n",
    "from sklearn.preprocessing import OrdinalEncoder\n",
    "from sklearn.preprocessing import StandardScaler\n",
    "from lightgbm import LGBMRegressor"
   ]
  },
  {
   "cell_type": "code",
   "execution_count": 2,
   "metadata": {},
   "outputs": [
    {
     "data": {
      "text/html": [
       "<div>\n",
       "<style scoped>\n",
       "    .dataframe tbody tr th:only-of-type {\n",
       "        vertical-align: middle;\n",
       "    }\n",
       "\n",
       "    .dataframe tbody tr th {\n",
       "        vertical-align: top;\n",
       "    }\n",
       "\n",
       "    .dataframe thead th {\n",
       "        text-align: right;\n",
       "    }\n",
       "</style>\n",
       "<table border=\"1\" class=\"dataframe\">\n",
       "  <thead>\n",
       "    <tr style=\"text-align: right;\">\n",
       "      <th></th>\n",
       "      <th>DateCrawled</th>\n",
       "      <th>Price</th>\n",
       "      <th>VehicleType</th>\n",
       "      <th>RegistrationYear</th>\n",
       "      <th>Gearbox</th>\n",
       "      <th>Power</th>\n",
       "      <th>Model</th>\n",
       "      <th>Kilometer</th>\n",
       "      <th>RegistrationMonth</th>\n",
       "      <th>FuelType</th>\n",
       "      <th>Brand</th>\n",
       "      <th>Repaired</th>\n",
       "      <th>DateCreated</th>\n",
       "      <th>NumberOfPictures</th>\n",
       "      <th>PostalCode</th>\n",
       "      <th>LastSeen</th>\n",
       "    </tr>\n",
       "  </thead>\n",
       "  <tbody>\n",
       "    <tr>\n",
       "      <th>0</th>\n",
       "      <td>2016-03-24 11:52:17</td>\n",
       "      <td>480</td>\n",
       "      <td>NaN</td>\n",
       "      <td>1993</td>\n",
       "      <td>manual</td>\n",
       "      <td>0</td>\n",
       "      <td>golf</td>\n",
       "      <td>150000</td>\n",
       "      <td>0</td>\n",
       "      <td>petrol</td>\n",
       "      <td>volkswagen</td>\n",
       "      <td>NaN</td>\n",
       "      <td>2016-03-24 00:00:00</td>\n",
       "      <td>0</td>\n",
       "      <td>70435</td>\n",
       "      <td>2016-04-07 03:16:57</td>\n",
       "    </tr>\n",
       "    <tr>\n",
       "      <th>1</th>\n",
       "      <td>2016-03-24 10:58:45</td>\n",
       "      <td>18300</td>\n",
       "      <td>coupe</td>\n",
       "      <td>2011</td>\n",
       "      <td>manual</td>\n",
       "      <td>190</td>\n",
       "      <td>NaN</td>\n",
       "      <td>125000</td>\n",
       "      <td>5</td>\n",
       "      <td>gasoline</td>\n",
       "      <td>audi</td>\n",
       "      <td>yes</td>\n",
       "      <td>2016-03-24 00:00:00</td>\n",
       "      <td>0</td>\n",
       "      <td>66954</td>\n",
       "      <td>2016-04-07 01:46:50</td>\n",
       "    </tr>\n",
       "    <tr>\n",
       "      <th>2</th>\n",
       "      <td>2016-03-14 12:52:21</td>\n",
       "      <td>9800</td>\n",
       "      <td>suv</td>\n",
       "      <td>2004</td>\n",
       "      <td>auto</td>\n",
       "      <td>163</td>\n",
       "      <td>grand</td>\n",
       "      <td>125000</td>\n",
       "      <td>8</td>\n",
       "      <td>gasoline</td>\n",
       "      <td>jeep</td>\n",
       "      <td>NaN</td>\n",
       "      <td>2016-03-14 00:00:00</td>\n",
       "      <td>0</td>\n",
       "      <td>90480</td>\n",
       "      <td>2016-04-05 12:47:46</td>\n",
       "    </tr>\n",
       "    <tr>\n",
       "      <th>3</th>\n",
       "      <td>2016-03-17 16:54:04</td>\n",
       "      <td>1500</td>\n",
       "      <td>small</td>\n",
       "      <td>2001</td>\n",
       "      <td>manual</td>\n",
       "      <td>75</td>\n",
       "      <td>golf</td>\n",
       "      <td>150000</td>\n",
       "      <td>6</td>\n",
       "      <td>petrol</td>\n",
       "      <td>volkswagen</td>\n",
       "      <td>no</td>\n",
       "      <td>2016-03-17 00:00:00</td>\n",
       "      <td>0</td>\n",
       "      <td>91074</td>\n",
       "      <td>2016-03-17 17:40:17</td>\n",
       "    </tr>\n",
       "    <tr>\n",
       "      <th>4</th>\n",
       "      <td>2016-03-31 17:25:20</td>\n",
       "      <td>3600</td>\n",
       "      <td>small</td>\n",
       "      <td>2008</td>\n",
       "      <td>manual</td>\n",
       "      <td>69</td>\n",
       "      <td>fabia</td>\n",
       "      <td>90000</td>\n",
       "      <td>7</td>\n",
       "      <td>gasoline</td>\n",
       "      <td>skoda</td>\n",
       "      <td>no</td>\n",
       "      <td>2016-03-31 00:00:00</td>\n",
       "      <td>0</td>\n",
       "      <td>60437</td>\n",
       "      <td>2016-04-06 10:17:21</td>\n",
       "    </tr>\n",
       "  </tbody>\n",
       "</table>\n",
       "</div>"
      ],
      "text/plain": [
       "           DateCrawled  Price VehicleType  RegistrationYear Gearbox  Power  \\\n",
       "0  2016-03-24 11:52:17    480         NaN              1993  manual      0   \n",
       "1  2016-03-24 10:58:45  18300       coupe              2011  manual    190   \n",
       "2  2016-03-14 12:52:21   9800         suv              2004    auto    163   \n",
       "3  2016-03-17 16:54:04   1500       small              2001  manual     75   \n",
       "4  2016-03-31 17:25:20   3600       small              2008  manual     69   \n",
       "\n",
       "   Model  Kilometer  RegistrationMonth  FuelType       Brand Repaired  \\\n",
       "0   golf     150000                  0    petrol  volkswagen      NaN   \n",
       "1    NaN     125000                  5  gasoline        audi      yes   \n",
       "2  grand     125000                  8  gasoline        jeep      NaN   \n",
       "3   golf     150000                  6    petrol  volkswagen       no   \n",
       "4  fabia      90000                  7  gasoline       skoda       no   \n",
       "\n",
       "           DateCreated  NumberOfPictures  PostalCode             LastSeen  \n",
       "0  2016-03-24 00:00:00                 0       70435  2016-04-07 03:16:57  \n",
       "1  2016-03-24 00:00:00                 0       66954  2016-04-07 01:46:50  \n",
       "2  2016-03-14 00:00:00                 0       90480  2016-04-05 12:47:46  \n",
       "3  2016-03-17 00:00:00                 0       91074  2016-03-17 17:40:17  \n",
       "4  2016-03-31 00:00:00                 0       60437  2016-04-06 10:17:21  "
      ]
     },
     "metadata": {},
     "output_type": "display_data"
    },
    {
     "name": "stdout",
     "output_type": "stream",
     "text": [
      "<class 'pandas.core.frame.DataFrame'>\n",
      "RangeIndex: 354369 entries, 0 to 354368\n",
      "Data columns (total 16 columns):\n",
      " #   Column             Non-Null Count   Dtype \n",
      "---  ------             --------------   ----- \n",
      " 0   DateCrawled        354369 non-null  object\n",
      " 1   Price              354369 non-null  int64 \n",
      " 2   VehicleType        316879 non-null  object\n",
      " 3   RegistrationYear   354369 non-null  int64 \n",
      " 4   Gearbox            334536 non-null  object\n",
      " 5   Power              354369 non-null  int64 \n",
      " 6   Model              334664 non-null  object\n",
      " 7   Kilometer          354369 non-null  int64 \n",
      " 8   RegistrationMonth  354369 non-null  int64 \n",
      " 9   FuelType           321474 non-null  object\n",
      " 10  Brand              354369 non-null  object\n",
      " 11  Repaired           283215 non-null  object\n",
      " 12  DateCreated        354369 non-null  object\n",
      " 13  NumberOfPictures   354369 non-null  int64 \n",
      " 14  PostalCode         354369 non-null  int64 \n",
      " 15  LastSeen           354369 non-null  object\n",
      "dtypes: int64(7), object(9)\n",
      "memory usage: 43.3+ MB\n"
     ]
    },
    {
     "data": {
      "text/plain": [
       "None"
      ]
     },
     "metadata": {},
     "output_type": "display_data"
    }
   ],
   "source": [
    "data = pd.read_csv('C:/Users/user/Downloads/auto.csv')\n",
    "display(data.head())\n",
    "display(data.info())"
   ]
  },
  {
   "cell_type": "code",
   "execution_count": 3,
   "metadata": {
    "scrolled": false
   },
   "outputs": [
    {
     "name": "stdout",
     "output_type": "stream",
     "text": [
      "Кол-во дубликатов: 4\n",
      "DateCrawled              0\n",
      "Price                    0\n",
      "VehicleType          37490\n",
      "RegistrationYear         0\n",
      "Gearbox              19833\n",
      "Power                    0\n",
      "Model                19705\n",
      "Kilometer                0\n",
      "RegistrationMonth        0\n",
      "FuelType             32895\n",
      "Brand                    0\n",
      "Repaired             71154\n",
      "DateCreated              0\n",
      "NumberOfPictures         0\n",
      "PostalCode               0\n",
      "LastSeen                 0\n",
      "dtype: int64\n"
     ]
    },
    {
     "data": {
      "text/html": [
       "<div>\n",
       "<style scoped>\n",
       "    .dataframe tbody tr th:only-of-type {\n",
       "        vertical-align: middle;\n",
       "    }\n",
       "\n",
       "    .dataframe tbody tr th {\n",
       "        vertical-align: top;\n",
       "    }\n",
       "\n",
       "    .dataframe thead th {\n",
       "        text-align: right;\n",
       "    }\n",
       "</style>\n",
       "<table border=\"1\" class=\"dataframe\">\n",
       "  <thead>\n",
       "    <tr style=\"text-align: right;\">\n",
       "      <th></th>\n",
       "      <th>Price</th>\n",
       "      <th>RegistrationYear</th>\n",
       "      <th>Power</th>\n",
       "      <th>Kilometer</th>\n",
       "      <th>RegistrationMonth</th>\n",
       "      <th>NumberOfPictures</th>\n",
       "      <th>PostalCode</th>\n",
       "    </tr>\n",
       "  </thead>\n",
       "  <tbody>\n",
       "    <tr>\n",
       "      <th>count</th>\n",
       "      <td>354369.000000</td>\n",
       "      <td>354369.000000</td>\n",
       "      <td>354369.000000</td>\n",
       "      <td>354369.000000</td>\n",
       "      <td>354369.000000</td>\n",
       "      <td>354369.0</td>\n",
       "      <td>354369.000000</td>\n",
       "    </tr>\n",
       "    <tr>\n",
       "      <th>mean</th>\n",
       "      <td>4416.656776</td>\n",
       "      <td>2004.234448</td>\n",
       "      <td>110.094337</td>\n",
       "      <td>128211.172535</td>\n",
       "      <td>5.714645</td>\n",
       "      <td>0.0</td>\n",
       "      <td>50508.689087</td>\n",
       "    </tr>\n",
       "    <tr>\n",
       "      <th>std</th>\n",
       "      <td>4514.158514</td>\n",
       "      <td>90.227958</td>\n",
       "      <td>189.850405</td>\n",
       "      <td>37905.341530</td>\n",
       "      <td>3.726421</td>\n",
       "      <td>0.0</td>\n",
       "      <td>25783.096248</td>\n",
       "    </tr>\n",
       "    <tr>\n",
       "      <th>min</th>\n",
       "      <td>0.000000</td>\n",
       "      <td>1000.000000</td>\n",
       "      <td>0.000000</td>\n",
       "      <td>5000.000000</td>\n",
       "      <td>0.000000</td>\n",
       "      <td>0.0</td>\n",
       "      <td>1067.000000</td>\n",
       "    </tr>\n",
       "    <tr>\n",
       "      <th>25%</th>\n",
       "      <td>1050.000000</td>\n",
       "      <td>1999.000000</td>\n",
       "      <td>69.000000</td>\n",
       "      <td>125000.000000</td>\n",
       "      <td>3.000000</td>\n",
       "      <td>0.0</td>\n",
       "      <td>30165.000000</td>\n",
       "    </tr>\n",
       "    <tr>\n",
       "      <th>50%</th>\n",
       "      <td>2700.000000</td>\n",
       "      <td>2003.000000</td>\n",
       "      <td>105.000000</td>\n",
       "      <td>150000.000000</td>\n",
       "      <td>6.000000</td>\n",
       "      <td>0.0</td>\n",
       "      <td>49413.000000</td>\n",
       "    </tr>\n",
       "    <tr>\n",
       "      <th>75%</th>\n",
       "      <td>6400.000000</td>\n",
       "      <td>2008.000000</td>\n",
       "      <td>143.000000</td>\n",
       "      <td>150000.000000</td>\n",
       "      <td>9.000000</td>\n",
       "      <td>0.0</td>\n",
       "      <td>71083.000000</td>\n",
       "    </tr>\n",
       "    <tr>\n",
       "      <th>max</th>\n",
       "      <td>20000.000000</td>\n",
       "      <td>9999.000000</td>\n",
       "      <td>20000.000000</td>\n",
       "      <td>150000.000000</td>\n",
       "      <td>12.000000</td>\n",
       "      <td>0.0</td>\n",
       "      <td>99998.000000</td>\n",
       "    </tr>\n",
       "  </tbody>\n",
       "</table>\n",
       "</div>"
      ],
      "text/plain": [
       "               Price  RegistrationYear          Power      Kilometer  \\\n",
       "count  354369.000000     354369.000000  354369.000000  354369.000000   \n",
       "mean     4416.656776       2004.234448     110.094337  128211.172535   \n",
       "std      4514.158514         90.227958     189.850405   37905.341530   \n",
       "min         0.000000       1000.000000       0.000000    5000.000000   \n",
       "25%      1050.000000       1999.000000      69.000000  125000.000000   \n",
       "50%      2700.000000       2003.000000     105.000000  150000.000000   \n",
       "75%      6400.000000       2008.000000     143.000000  150000.000000   \n",
       "max     20000.000000       9999.000000   20000.000000  150000.000000   \n",
       "\n",
       "       RegistrationMonth  NumberOfPictures     PostalCode  \n",
       "count      354369.000000          354369.0  354369.000000  \n",
       "mean            5.714645               0.0   50508.689087  \n",
       "std             3.726421               0.0   25783.096248  \n",
       "min             0.000000               0.0    1067.000000  \n",
       "25%             3.000000               0.0   30165.000000  \n",
       "50%             6.000000               0.0   49413.000000  \n",
       "75%             9.000000               0.0   71083.000000  \n",
       "max            12.000000               0.0   99998.000000  "
      ]
     },
     "execution_count": 3,
     "metadata": {},
     "output_type": "execute_result"
    }
   ],
   "source": [
    "print(\"Кол-во дубликатов:\",data.duplicated().sum())\n",
    "print(data.isna().sum())\n",
    "data.describe()"
   ]
  },
  {
   "cell_type": "markdown",
   "metadata": {},
   "source": [
    "1. Есть дубликаты, пропуски, аномальные значения(например в столбце power,RegistrationYear)\n",
    "2. Признаки NumberOfPictures,PostalCode,RegistrationMonth не несут полезной информации и будут лишними для модели. \n",
    "\n",
    "Избавимся от пропусков и ненужных признаков."
   ]
  },
  {
   "cell_type": "code",
   "execution_count": 4,
   "metadata": {},
   "outputs": [],
   "source": [
    "data = data.drop_duplicates()\n",
    "data = data.drop(['NumberOfPictures','PostalCode','RegistrationMonth','DateCrawled'],axis=1)"
   ]
  },
  {
   "cell_type": "markdown",
   "metadata": {},
   "source": [
    "Займемся пропусками и аномальными значениями.\n",
    "Построим матрицу графиков рассеяния."
   ]
  },
  {
   "cell_type": "code",
   "execution_count": 5,
   "metadata": {},
   "outputs": [
    {
     "data": {
      "text/plain": [
       "<seaborn.axisgrid.PairGrid at 0x284855b00d0>"
      ]
     },
     "execution_count": 5,
     "metadata": {},
     "output_type": "execute_result"
    },
    {
     "data": {
      "image/png": "[encoded data removed]",
      "text/plain": [
       "<Figure size 1000x1000 with 20 Axes>"
      ]
     },
     "metadata": {},
     "output_type": "display_data"
    }
   ],
   "source": [
    "sns.pairplot(data)"
   ]
  },
  {
   "cell_type": "code",
   "execution_count": 6,
   "metadata": {},
   "outputs": [
    {
     "data": {
      "text/plain": [
       "Price                   0\n",
       "VehicleType         37490\n",
       "RegistrationYear        0\n",
       "Gearbox             19833\n",
       "Power                   0\n",
       "Model               19705\n",
       "Kilometer               0\n",
       "FuelType            32895\n",
       "Brand                   0\n",
       "Repaired            71154\n",
       "DateCreated             0\n",
       "LastSeen                0\n",
       "dtype: int64"
      ]
     },
     "metadata": {},
     "output_type": "display_data"
    }
   ],
   "source": [
    "display(data.isna().sum())"
   ]
  },
  {
   "cell_type": "code",
   "execution_count": 7,
   "metadata": {},
   "outputs": [],
   "source": [
    "data = data.query('Price > 0')\n",
    "data = data.query('1960 < RegistrationYear <= 2023')"
   ]
  },
  {
   "cell_type": "code",
   "execution_count": 8,
   "metadata": {},
   "outputs": [],
   "source": [
    "data.loc[(data['Power'] > 1000) | (data['Power'] <= 0), 'Power'] = None\n",
    "data['Power'] = data['Power'].fillna(data.groupby('Model')['Power'].transform('median'))\n",
    "data = data.query('Power.notnull()')"
   ]
  },
  {
   "cell_type": "code",
   "execution_count": 9,
   "metadata": {},
   "outputs": [
    {
     "data": {
      "text/plain": [
       "<Axes: xlabel='Power', ylabel='Count'>"
      ]
     },
     "execution_count": 9,
     "metadata": {},
     "output_type": "execute_result"
    },
    {
     "data": {
      "image/png": "[encoded data removed]",
      "text/plain": [
       "<Figure size 640x480 with 1 Axes>"
      ]
     },
     "metadata": {},
     "output_type": "display_data"
    }
   ],
   "source": [
    "sns.histplot(data['Power'], bins=20)"
   ]
  },
  {
   "cell_type": "markdown",
   "metadata": {},
   "source": [
    "Признак Model восстановить никак не получится.\n",
    "\n",
    "VehicleType, Gearbox, FuelType - пропуски в этих признаках заполним наиболее типичными значениями по модели автомобиля.\n",
    "\n",
    "Пропуски признака Repaired заменим на 'unknown'."
   ]
  },
  {
   "cell_type": "code",
   "execution_count": 10,
   "metadata": {},
   "outputs": [],
   "source": [
    "data = data.query(\"Model.notnull()\")\n",
    "data['VehicleType'] = data.groupby('Model')['VehicleType'].transform(lambda x:x.fillna(x.mode()[0]))\n",
    "data['Gearbox'] = data.groupby('Model')['Gearbox'].transform(lambda x:x.fillna(x.mode()[0]))\n",
    "data['FuelType'] = data.groupby('Model')['FuelType'].transform(lambda x:x.fillna(x.mode()[0]))\n",
    "data['Repaired'] = data['Repaired'].fillna('unknown')"
   ]
  },
  {
   "cell_type": "markdown",
   "metadata": {},
   "source": [
    "Надо преобразовать типы данных. Признаки DateCreated и LastSeen скорее всего тоже будут лишними. "
   ]
  },
  {
   "cell_type": "code",
   "execution_count": 11,
   "metadata": {},
   "outputs": [],
   "source": [
    "data = data.drop(['DateCreated','LastSeen'],axis=1)"
   ]
  },
  {
   "cell_type": "code",
   "execution_count": 12,
   "metadata": {},
   "outputs": [],
   "source": [
    "data['Power'] = data['Power'].round()\n",
    "data['Power'] = pd.to_numeric(data['Power'], downcast='integer')"
   ]
  },
  {
   "cell_type": "code",
   "execution_count": 13,
   "metadata": {},
   "outputs": [
    {
     "name": "stdout",
     "output_type": "stream",
     "text": [
      "<class 'pandas.core.frame.DataFrame'>\n",
      "Int64Index: 325738 entries, 0 to 354368\n",
      "Data columns (total 10 columns):\n",
      " #   Column            Non-Null Count   Dtype \n",
      "---  ------            --------------   ----- \n",
      " 0   Price             325738 non-null  int64 \n",
      " 1   VehicleType       325738 non-null  object\n",
      " 2   RegistrationYear  325738 non-null  int64 \n",
      " 3   Gearbox           325738 non-null  object\n",
      " 4   Power             325738 non-null  int16 \n",
      " 5   Model             325738 non-null  object\n",
      " 6   Kilometer         325738 non-null  int64 \n",
      " 7   FuelType          325738 non-null  object\n",
      " 8   Brand             325738 non-null  object\n",
      " 9   Repaired          325738 non-null  object\n",
      "dtypes: int16(1), int64(3), object(6)\n",
      "memory usage: 25.5+ MB\n"
     ]
    }
   ],
   "source": [
    "data.info()"
   ]
  },
  {
   "cell_type": "markdown",
   "metadata": {},
   "source": [
    "Выводы:\n",
    "Данные загружены и изучены.\n",
    "Аномальные значения удалены, пропущенные заполнены.\n",
    "Отобраны необходимые признаки для обучения модели."
   ]
  },
  {
   "cell_type": "markdown",
   "metadata": {},
   "source": [
    "## Обучение моделей"
   ]
  },
  {
   "cell_type": "code",
   "execution_count": 14,
   "metadata": {},
   "outputs": [],
   "source": [
    "features = data.drop(['Price'], axis=1)\n",
    "target = data['Price']\n",
    "\n",
    "features_train, features_test, target_train, target_test = train_test_split(features,target,test_size=0.2,random_state=12345)"
   ]
  },
  {
   "cell_type": "code",
   "execution_count": 15,
   "metadata": {},
   "outputs": [],
   "source": [
    "features_train_ohe = pd.get_dummies(features_train, drop_first=True)\n",
    "features_test_ohe = pd.get_dummies(features_test, drop_first=True)"
   ]
  },
  {
   "cell_type": "code",
   "execution_count": 16,
   "metadata": {},
   "outputs": [
    {
     "name": "stdout",
     "output_type": "stream",
     "text": [
      "['RegistrationYear', 'Power', 'Kilometer']\n",
      "['VehicleType', 'Gearbox', 'Model', 'FuelType', 'Brand', 'Repaired']\n"
     ]
    }
   ],
   "source": [
    "num_features = features_train.select_dtypes(exclude='object').columns.to_list()\n",
    "print(num_features)\n",
    "ohe_features_ridge = features_train.select_dtypes(include='object').columns.to_list()\n",
    "print(ohe_features_ridge)"
   ]
  },
  {
   "cell_type": "code",
   "execution_count": 17,
   "metadata": {},
   "outputs": [],
   "source": [
    "encoder = OrdinalEncoder()\n",
    "encoder.fit(features_train[ohe_features_ridge])\n",
    "features_train_ord = features_train.copy()\n",
    "features_test_ord = features_test.copy()\n",
    "\n",
    "features_train_ord[ohe_features_ridge] = encoder.transform(features_train_ord[ohe_features_ridge])\n",
    "features_test_ord[ohe_features_ridge] = encoder.transform(features_test_ord[ohe_features_ridge])"
   ]
  },
  {
   "cell_type": "markdown",
   "metadata": {},
   "source": [
    "Удаляем лишние признаки"
   ]
  },
  {
   "cell_type": "code",
   "execution_count": 18,
   "metadata": {},
   "outputs": [],
   "source": [
    "train_cols = set(features_train_ohe.columns)\n",
    "test_cols = set(features_test_ohe.columns)\n",
    "extra_cols = train_cols - test_cols"
   ]
  },
  {
   "cell_type": "code",
   "execution_count": 19,
   "metadata": {},
   "outputs": [
    {
     "data": {
      "text/plain": [
       "{'Model_range_rover_evoque', 'Model_rangerover', 'Model_serie_3'}"
      ]
     },
     "execution_count": 19,
     "metadata": {},
     "output_type": "execute_result"
    }
   ],
   "source": [
    "extra_cols"
   ]
  },
  {
   "cell_type": "code",
   "execution_count": 20,
   "metadata": {},
   "outputs": [],
   "source": [
    "features_train_ohe = features_train_ohe.drop(columns=extra_cols)\n",
    "#features_test_ohe = features_test_ohe.drop(columns=extra_cols)"
   ]
  },
  {
   "cell_type": "code",
   "execution_count": 21,
   "metadata": {
    "scrolled": true
   },
   "outputs": [],
   "source": [
    "train_cols = set(features_train_ohe.columns)\n",
    "test_cols = set(features_test_ohe.columns)\n",
    "extra_cols = train_cols - test_cols"
   ]
  },
  {
   "cell_type": "markdown",
   "metadata": {},
   "source": [
    "Рассчитаем rmse для константной модели."
   ]
  },
  {
   "cell_type": "code",
   "execution_count": 22,
   "metadata": {},
   "outputs": [
    {
     "name": "stdout",
     "output_type": "stream",
     "text": [
      "4528.590220791851\n"
     ]
    }
   ],
   "source": [
    "constant = np.full_like(target,target.mean())\n",
    "rmse = np.sqrt(mean_squared_error(target, constant))\n",
    "print(rmse)"
   ]
  },
  {
   "cell_type": "markdown",
   "metadata": {},
   "source": [
    "# 2.1 Линейная регрессия."
   ]
  },
  {
   "cell_type": "code",
   "execution_count": 23,
   "metadata": {},
   "outputs": [
    {
     "name": "stdout",
     "output_type": "stream",
     "text": [
      "# Train for root_mean_squared_error\n",
      "\n",
      "Mean RMSE = 2704.471821280641\n",
      "CPU times: total: 1min 12s\n",
      "Wall time: 36.5 s\n"
     ]
    }
   ],
   "source": [
    "%%time\n",
    "model = LinearRegression()\n",
    "print('# Train for root_mean_squared_error')\n",
    "print()\n",
    "rmse_lr = (cross_val_score(model, \n",
    "                             features_train_ohe, \n",
    "                             target_train, \n",
    "                             cv=5, \n",
    "                             scoring='neg_mean_squared_error').mean() * -1) ** 0.5\n",
    "print('Mean RMSE =', rmse_lr)"
   ]
  },
  {
   "cell_type": "code",
   "execution_count": 24,
   "metadata": {},
   "outputs": [
    {
     "name": "stdout",
     "output_type": "stream",
     "text": [
      "CPU times: total: 18.6 s\n",
      "Wall time: 7.51 s\n"
     ]
    },
    {
     "data": {
      "text/html": [
       "<style>#sk-container-id-1 {color: black;background-color: white;}#sk-container-id-1 pre{padding: 0;}#sk-container-id-1 div.sk-toggleable {background-color: white;}#sk-container-id-1 label.sk-toggleable__label {cursor: pointer;display: block;width: 100%;margin-bottom: 0;padding: 0.3em;box-sizing: border-box;text-align: center;}#sk-container-id-1 label.sk-toggleable__label-arrow:before {content: \"▸\";float: left;margin-right: 0.25em;color: #696969;}#sk-container-id-1 label.sk-toggleable__label-arrow:hover:before {color: black;}#sk-container-id-1 div.sk-estimator:hover label.sk-toggleable__label-arrow:before {color: black;}#sk-container-id-1 div.sk-toggleable__content {max-height: 0;max-width: 0;overflow: hidden;text-align: left;background-color: #f0f8ff;}#sk-container-id-1 div.sk-toggleable__content pre {margin: 0.2em;color: black;border-radius: 0.25em;background-color: #f0f8ff;}#sk-container-id-1 input.sk-toggleable__control:checked~div.sk-toggleable__content {max-height: 200px;max-width: 100%;overflow: auto;}#sk-container-id-1 input.sk-toggleable__control:checked~label.sk-toggleable__label-arrow:before {content: \"▾\";}#sk-container-id-1 div.sk-estimator input.sk-toggleable__control:checked~label.sk-toggleable__label {background-color: #d4ebff;}#sk-container-id-1 div.sk-label input.sk-toggleable__control:checked~label.sk-toggleable__label {background-color: #d4ebff;}#sk-container-id-1 input.sk-hidden--visually {border: 0;clip: rect(1px 1px 1px 1px);clip: rect(1px, 1px, 1px, 1px);height: 1px;margin: -1px;overflow: hidden;padding: 0;position: absolute;width: 1px;}#sk-container-id-1 div.sk-estimator {font-family: monospace;background-color: #f0f8ff;border: 1px dotted black;border-radius: 0.25em;box-sizing: border-box;margin-bottom: 0.5em;}#sk-container-id-1 div.sk-estimator:hover {background-color: #d4ebff;}#sk-container-id-1 div.sk-parallel-item::after {content: \"\";width: 100%;border-bottom: 1px solid gray;flex-grow: 1;}#sk-container-id-1 div.sk-label:hover label.sk-toggleable__label {background-color: #d4ebff;}#sk-container-id-1 div.sk-serial::before {content: \"\";position: absolute;border-left: 1px solid gray;box-sizing: border-box;top: 0;bottom: 0;left: 50%;z-index: 0;}#sk-container-id-1 div.sk-serial {display: flex;flex-direction: column;align-items: center;background-color: white;padding-right: 0.2em;padding-left: 0.2em;position: relative;}#sk-container-id-1 div.sk-item {position: relative;z-index: 1;}#sk-container-id-1 div.sk-parallel {display: flex;align-items: stretch;justify-content: center;background-color: white;position: relative;}#sk-container-id-1 div.sk-item::before, #sk-container-id-1 div.sk-parallel-item::before {content: \"\";position: absolute;border-left: 1px solid gray;box-sizing: border-box;top: 0;bottom: 0;left: 50%;z-index: -1;}#sk-container-id-1 div.sk-parallel-item {display: flex;flex-direction: column;z-index: 1;position: relative;background-color: white;}#sk-container-id-1 div.sk-parallel-item:first-child::after {align-self: flex-end;width: 50%;}#sk-container-id-1 div.sk-parallel-item:last-child::after {align-self: flex-start;width: 50%;}#sk-container-id-1 div.sk-parallel-item:only-child::after {width: 0;}#sk-container-id-1 div.sk-dashed-wrapped {border: 1px dashed gray;margin: 0 0.4em 0.5em 0.4em;box-sizing: border-box;padding-bottom: 0.4em;background-color: white;}#sk-container-id-1 div.sk-label label {font-family: monospace;font-weight: bold;display: inline-block;line-height: 1.2em;}#sk-container-id-1 div.sk-label-container {text-align: center;}#sk-container-id-1 div.sk-container {/* jupyter's `normalize.less` sets `[hidden] { display: none; }` but bootstrap.min.css set `[hidden] { display: none !important; }` so we also need the `!important` here to be able to override the default hidden behavior on the sphinx rendered scikit-learn.org. See: https://github.com/scikit-learn/scikit-learn/issues/21755 */display: inline-block !important;position: relative;}#sk-container-id-1 div.sk-text-repr-fallback {display: none;}</style><div id=\"sk-container-id-1\" class=\"sk-top-container\"><div class=\"sk-text-repr-fallback\"><pre>LinearRegression()</pre><b>In a Jupyter environment, please rerun this cell to show the HTML representation or trust the notebook. <br />On GitHub, the HTML representation is unable to render, please try loading this page with nbviewer.org.</b></div><div class=\"sk-container\" hidden><div class=\"sk-item\"><div class=\"sk-estimator sk-toggleable\"><input class=\"sk-toggleable__control sk-hidden--visually\" id=\"sk-estimator-id-1\" type=\"checkbox\" checked><label for=\"sk-estimator-id-1\" class=\"sk-toggleable__label sk-toggleable__label-arrow\">LinearRegression</label><div class=\"sk-toggleable__content\"><pre>LinearRegression()</pre></div></div></div></div></div>"
      ],
      "text/plain": [
       "LinearRegression()"
      ]
     },
     "execution_count": 24,
     "metadata": {},
     "output_type": "execute_result"
    }
   ],
   "source": [
    "%%time\n",
    "\n",
    "model.fit(features_train_ohe, target_train)"
   ]
  },
  {
   "cell_type": "markdown",
   "metadata": {},
   "source": [
    "# 2.2 DecisionTreeRegressor"
   ]
  },
  {
   "cell_type": "code",
   "execution_count": 25,
   "metadata": {},
   "outputs": [
    {
     "name": "stdout",
     "output_type": "stream",
     "text": [
      "Наилучшие параметры:\n",
      "\n",
      "{'criterion': 'squared_error', 'max_depth': 14, 'random_state': 12345}\n",
      "\n",
      "Grid scores on development set:\n",
      "\n",
      "1919.2907367959992\n",
      "CPU times: total: 24.6 s\n",
      "Wall time: 26.4 s\n"
     ]
    }
   ],
   "source": [
    "%%time\n",
    "model = DecisionTreeRegressor()\n",
    "max_depth_list = [x for x in range(2, 15)]\n",
    "hyperparams = [{'criterion':['squared_error'], \n",
    "                'max_depth':max_depth_list, \n",
    "                'random_state':[12345]}]\n",
    "\n",
    "clf = GridSearchCV(model, hyperparams, scoring='neg_mean_squared_error')\n",
    "clf.fit(features_train_ord, target_train)\n",
    "print(\"Наилучшие параметры:\")\n",
    "print()\n",
    "print(clf.best_params_)\n",
    "print()\n",
    "print(\"Grid scores on development set:\")\n",
    "print()\n",
    "means = clf.cv_results_['mean_test_score']\n",
    "\n",
    "RMSE = (max(means)*-1) ** 0.5\n",
    "print(RMSE)"
   ]
  },
  {
   "cell_type": "code",
   "execution_count": 26,
   "metadata": {},
   "outputs": [
    {
     "data": {
      "text/plain": [
       "0.3824452803685115"
      ]
     },
     "execution_count": 26,
     "metadata": {},
     "output_type": "execute_result"
    }
   ],
   "source": [
    "fit_time = clf.cv_results_['mean_fit_time']\n",
    "fit_time.mean()"
   ]
  },
  {
   "cell_type": "markdown",
   "metadata": {},
   "source": [
    "# 2.3 Регрессия LGBMRegressor"
   ]
  },
  {
   "cell_type": "code",
   "execution_count": 27,
   "metadata": {},
   "outputs": [
    {
     "name": "stdout",
     "output_type": "stream",
     "text": [
      "Наилучшие параметры:\n",
      "{'learning_rate': 0.3, 'num_leaves': 200, 'random_state': 12345}\n",
      "\n",
      "CPU times: total: 6min 2s\n",
      "Wall time: 3min 4s\n"
     ]
    }
   ],
   "source": [
    "%%time\n",
    "model = LGBMRegressor() \n",
    "hyperparams = [{'num_leaves':[31, 100, 200], \n",
    "                'learning_rate':[0.1, 0.3, 0.5],\n",
    "                'random_state':[12345]}]\n",
    "clf = GridSearchCV(model, hyperparams, scoring='neg_mean_squared_error')\n",
    "clf.fit(features_train_ohe, target_train)\n",
    "print(\"Наилучшие параметры:\")\n",
    "print(clf.best_params_)\n",
    "print()\n",
    "means = clf.cv_results_['mean_test_score']\n",
    "\n",
    "RMSE = (max(means)*-1) ** 0.5"
   ]
  },
  {
   "cell_type": "code",
   "execution_count": 28,
   "metadata": {},
   "outputs": [
    {
     "name": "stdout",
     "output_type": "stream",
     "text": [
      "1587.007102626928\n"
     ]
    }
   ],
   "source": [
    "print(RMSE)"
   ]
  },
  {
   "cell_type": "code",
   "execution_count": 29,
   "metadata": {},
   "outputs": [
    {
     "data": {
      "text/plain": [
       "0.3824452803685115"
      ]
     },
     "execution_count": 29,
     "metadata": {},
     "output_type": "execute_result"
    }
   ],
   "source": [
    "fit_time_lgbmr = clf.cv_results_['mean_fit_time']\n",
    "fit_time.mean()"
   ]
  },
  {
   "cell_type": "markdown",
   "metadata": {},
   "source": [
    "## Анализ моделей"
   ]
  },
  {
   "cell_type": "markdown",
   "metadata": {},
   "source": [
    "Все модели улучшили показатели RMSE константной модели.\n",
    "\n",
    "**Линейная регрессия:\n",
    "\n",
    "- Mean RMSE = 2704.359312312232\n",
    "- Wall time: 36.5 s\n",
    "\n",
    "\n",
    "**DecisionTreeRegressor:\n",
    "\n",
    "- RMSE = 1919.9795844951286\n",
    "- Wall time: 26.4 s\n",
    "\n",
    "\n",
    "**LGBMRegressor:\n",
    "\n",
    "- RMSE = 1587.007102626928\n",
    "- время обучения: Wall time: 3min 4s\n",
    "- время предикта: Wall time: 681 ms\n"
   ]
  },
  {
   "cell_type": "markdown",
   "metadata": {},
   "source": [
    "Время обучения у линейной регрессии самое низкое, но метрика RMSE почти в два раза больше чем у LightGBM.\n",
    "DecisionTreeRegressor обучался дольше всех моделей, по качеству уступает LGBMRegressor.\n"
   ]
  },
  {
   "cell_type": "markdown",
   "metadata": {},
   "source": [
    "## Тестирование лучшей модели"
   ]
  },
  {
   "cell_type": "markdown",
   "metadata": {},
   "source": [
    "Рекомендуемая модель LGBMRegressor"
   ]
  },
  {
   "cell_type": "code",
   "execution_count": 30,
   "metadata": {},
   "outputs": [
    {
     "name": "stdout",
     "output_type": "stream",
     "text": [
      "CPU times: total: 8.95 s\n",
      "Wall time: 3.86 s\n"
     ]
    },
    {
     "data": {
      "text/html": [
       "<style>#sk-container-id-2 {color: black;background-color: white;}#sk-container-id-2 pre{padding: 0;}#sk-container-id-2 div.sk-toggleable {background-color: white;}#sk-container-id-2 label.sk-toggleable__label {cursor: pointer;display: block;width: 100%;margin-bottom: 0;padding: 0.3em;box-sizing: border-box;text-align: center;}#sk-container-id-2 label.sk-toggleable__label-arrow:before {content: \"▸\";float: left;margin-right: 0.25em;color: #696969;}#sk-container-id-2 label.sk-toggleable__label-arrow:hover:before {color: black;}#sk-container-id-2 div.sk-estimator:hover label.sk-toggleable__label-arrow:before {color: black;}#sk-container-id-2 div.sk-toggleable__content {max-height: 0;max-width: 0;overflow: hidden;text-align: left;background-color: #f0f8ff;}#sk-container-id-2 div.sk-toggleable__content pre {margin: 0.2em;color: black;border-radius: 0.25em;background-color: #f0f8ff;}#sk-container-id-2 input.sk-toggleable__control:checked~div.sk-toggleable__content {max-height: 200px;max-width: 100%;overflow: auto;}#sk-container-id-2 input.sk-toggleable__control:checked~label.sk-toggleable__label-arrow:before {content: \"▾\";}#sk-container-id-2 div.sk-estimator input.sk-toggleable__control:checked~label.sk-toggleable__label {background-color: #d4ebff;}#sk-container-id-2 div.sk-label input.sk-toggleable__control:checked~label.sk-toggleable__label {background-color: #d4ebff;}#sk-container-id-2 input.sk-hidden--visually {border: 0;clip: rect(1px 1px 1px 1px);clip: rect(1px, 1px, 1px, 1px);height: 1px;margin: -1px;overflow: hidden;padding: 0;position: absolute;width: 1px;}#sk-container-id-2 div.sk-estimator {font-family: monospace;background-color: #f0f8ff;border: 1px dotted black;border-radius: 0.25em;box-sizing: border-box;margin-bottom: 0.5em;}#sk-container-id-2 div.sk-estimator:hover {background-color: #d4ebff;}#sk-container-id-2 div.sk-parallel-item::after {content: \"\";width: 100%;border-bottom: 1px solid gray;flex-grow: 1;}#sk-container-id-2 div.sk-label:hover label.sk-toggleable__label {background-color: #d4ebff;}#sk-container-id-2 div.sk-serial::before {content: \"\";position: absolute;border-left: 1px solid gray;box-sizing: border-box;top: 0;bottom: 0;left: 50%;z-index: 0;}#sk-container-id-2 div.sk-serial {display: flex;flex-direction: column;align-items: center;background-color: white;padding-right: 0.2em;padding-left: 0.2em;position: relative;}#sk-container-id-2 div.sk-item {position: relative;z-index: 1;}#sk-container-id-2 div.sk-parallel {display: flex;align-items: stretch;justify-content: center;background-color: white;position: relative;}#sk-container-id-2 div.sk-item::before, #sk-container-id-2 div.sk-parallel-item::before {content: \"\";position: absolute;border-left: 1px solid gray;box-sizing: border-box;top: 0;bottom: 0;left: 50%;z-index: -1;}#sk-container-id-2 div.sk-parallel-item {display: flex;flex-direction: column;z-index: 1;position: relative;background-color: white;}#sk-container-id-2 div.sk-parallel-item:first-child::after {align-self: flex-end;width: 50%;}#sk-container-id-2 div.sk-parallel-item:last-child::after {align-self: flex-start;width: 50%;}#sk-container-id-2 div.sk-parallel-item:only-child::after {width: 0;}#sk-container-id-2 div.sk-dashed-wrapped {border: 1px dashed gray;margin: 0 0.4em 0.5em 0.4em;box-sizing: border-box;padding-bottom: 0.4em;background-color: white;}#sk-container-id-2 div.sk-label label {font-family: monospace;font-weight: bold;display: inline-block;line-height: 1.2em;}#sk-container-id-2 div.sk-label-container {text-align: center;}#sk-container-id-2 div.sk-container {/* jupyter's `normalize.less` sets `[hidden] { display: none; }` but bootstrap.min.css set `[hidden] { display: none !important; }` so we also need the `!important` here to be able to override the default hidden behavior on the sphinx rendered scikit-learn.org. See: https://github.com/scikit-learn/scikit-learn/issues/21755 */display: inline-block !important;position: relative;}#sk-container-id-2 div.sk-text-repr-fallback {display: none;}</style><div id=\"sk-container-id-2\" class=\"sk-top-container\"><div class=\"sk-text-repr-fallback\"><pre>LGBMRegressor(learning_rate=0.3, num_leaves=200, random_state=12345)</pre><b>In a Jupyter environment, please rerun this cell to show the HTML representation or trust the notebook. <br />On GitHub, the HTML representation is unable to render, please try loading this page with nbviewer.org.</b></div><div class=\"sk-container\" hidden><div class=\"sk-item\"><div class=\"sk-estimator sk-toggleable\"><input class=\"sk-toggleable__control sk-hidden--visually\" id=\"sk-estimator-id-2\" type=\"checkbox\" checked><label for=\"sk-estimator-id-2\" class=\"sk-toggleable__label sk-toggleable__label-arrow\">LGBMRegressor</label><div class=\"sk-toggleable__content\"><pre>LGBMRegressor(learning_rate=0.3, num_leaves=200, random_state=12345)</pre></div></div></div></div></div>"
      ],
      "text/plain": [
       "LGBMRegressor(learning_rate=0.3, num_leaves=200, random_state=12345)"
      ]
     },
     "execution_count": 30,
     "metadata": {},
     "output_type": "execute_result"
    }
   ],
   "source": [
    "%%time\n",
    "\n",
    "model = LGBMRegressor(learning_rate=0.3, \n",
    "                      num_leaves=200, \n",
    "                      random_state=12345)\n",
    "\n",
    "model.fit(features_train_ohe, target_train)"
   ]
  },
  {
   "cell_type": "code",
   "execution_count": 31,
   "metadata": {},
   "outputs": [
    {
     "name": "stdout",
     "output_type": "stream",
     "text": [
      "1549.2267257015526\n",
      "CPU times: total: 1.58 s\n",
      "Wall time: 681 ms\n"
     ]
    }
   ],
   "source": [
    "%%time\n",
    "target_predict = model.predict(features_test_ohe)\n",
    "test_RMSE = mean_squared_error(target_test, target_predict) ** 0.5\n",
    "print(test_RMSE)"
   ]
  },
  {
   "cell_type": "markdown",
   "metadata": {},
   "source": [
    "Вывод:\n",
    "Данные загружены и обработаны. Исследовано несколько моделей с использованием различных гиперпараметров. Выбрана лучшая модель.\n",
    "\n",
    "Наилучшей моделью оказалась LGBMRegressor."
   ]
  }
 ],
 "metadata": {
  "ExecuteTimeLog": [
   {
    "duration": 1569,
    "start_time": "2023-03-18T09:02:09.405Z"
   },
   {
    "duration": 1181,
    "start_time": "2023-03-18T09:03:10.452Z"
   },
   {
    "duration": 966,
    "start_time": "2023-03-18T09:03:58.807Z"
   },
   {
    "duration": 902,
    "start_time": "2023-03-18T09:04:03.533Z"
   },
   {
    "duration": 994,
    "start_time": "2023-03-18T09:04:25.443Z"
   },
   {
    "duration": 146,
    "start_time": "2023-03-18T09:05:12.586Z"
   },
   {
    "duration": 427,
    "start_time": "2023-03-18T09:05:37.266Z"
   },
   {
    "duration": 385,
    "start_time": "2023-03-18T09:05:50.146Z"
   },
   {
    "duration": 543,
    "start_time": "2023-03-18T09:06:42.777Z"
   },
   {
    "duration": 530,
    "start_time": "2023-03-18T09:06:46.201Z"
   },
   {
    "duration": 672,
    "start_time": "2023-03-18T09:07:11.191Z"
   },
   {
    "duration": 695,
    "start_time": "2023-03-18T09:09:45.999Z"
   },
   {
    "duration": 667,
    "start_time": "2023-03-18T09:10:31.302Z"
   },
   {
    "duration": 662,
    "start_time": "2023-03-18T09:10:41.686Z"
   },
   {
    "duration": 681,
    "start_time": "2023-03-18T09:11:09.148Z"
   },
   {
    "duration": 75,
    "start_time": "2023-03-18T09:45:51.819Z"
   },
   {
    "duration": 533,
    "start_time": "2023-03-18T09:46:02.498Z"
   },
   {
    "duration": 13,
    "start_time": "2023-03-18T09:46:07.675Z"
   },
   {
    "duration": 9,
    "start_time": "2023-03-18T09:46:17.483Z"
   },
   {
    "duration": 13,
    "start_time": "2023-03-18T09:46:26.196Z"
   },
   {
    "duration": 89173,
    "start_time": "2023-03-18T09:48:58.450Z"
   },
   {
    "duration": 1256,
    "start_time": "2023-03-18T09:54:33.757Z"
   },
   {
    "duration": 7,
    "start_time": "2023-03-18T09:54:40.526Z"
   },
   {
    "duration": 5,
    "start_time": "2023-03-18T09:54:51.726Z"
   },
   {
    "duration": 13,
    "start_time": "2023-03-18T09:55:18.885Z"
   },
   {
    "duration": 356,
    "start_time": "2023-03-18T09:55:26.468Z"
   },
   {
    "duration": 326,
    "start_time": "2023-03-18T09:55:40.974Z"
   },
   {
    "duration": 93149,
    "start_time": "2023-03-18T09:56:36.444Z"
   },
   {
    "duration": 1576,
    "start_time": "2023-03-18T09:59:22.762Z"
   },
   {
    "duration": 3126,
    "start_time": "2023-03-18T09:59:57.994Z"
   },
   {
    "duration": 1648,
    "start_time": "2023-03-18T10:00:04.273Z"
   },
   {
    "duration": 1569,
    "start_time": "2023-03-18T10:00:26.801Z"
   },
   {
    "duration": 18055,
    "start_time": "2023-03-18T10:00:45.448Z"
   },
   {
    "duration": 322,
    "start_time": "2023-03-18T10:01:10.208Z"
   },
   {
    "duration": 340,
    "start_time": "2023-03-18T10:01:14.753Z"
   },
   {
    "duration": 310,
    "start_time": "2023-03-18T10:01:22.632Z"
   },
   {
    "duration": 291,
    "start_time": "2023-03-18T10:02:47.719Z"
   },
   {
    "duration": 423,
    "start_time": "2023-03-18T10:02:51.414Z"
   },
   {
    "duration": 358,
    "start_time": "2023-03-18T10:02:59.471Z"
   },
   {
    "duration": 342,
    "start_time": "2023-03-18T10:03:19.479Z"
   },
   {
    "duration": 1621,
    "start_time": "2023-03-18T10:48:35.693Z"
   },
   {
    "duration": 32,
    "start_time": "2023-03-18T10:50:13.403Z"
   },
   {
    "duration": 1665,
    "start_time": "2023-03-18T10:50:18.195Z"
   },
   {
    "duration": 15,
    "start_time": "2023-03-18T10:50:39.780Z"
   },
   {
    "duration": 12,
    "start_time": "2023-03-18T10:50:54.482Z"
   },
   {
    "duration": 337,
    "start_time": "2023-03-18T10:50:59.961Z"
   },
   {
    "duration": 77,
    "start_time": "2023-03-18T10:51:30.280Z"
   },
   {
    "duration": 6,
    "start_time": "2023-03-18T10:51:34.384Z"
   },
   {
    "duration": 124,
    "start_time": "2023-03-18T10:53:04.096Z"
   },
   {
    "duration": 57,
    "start_time": "2023-03-18T10:55:40.799Z"
   },
   {
    "duration": 74,
    "start_time": "2023-03-18T10:56:04.951Z"
   },
   {
    "duration": 37,
    "start_time": "2023-03-18T10:57:04.518Z"
   },
   {
    "duration": 5,
    "start_time": "2023-03-18T11:01:05.246Z"
   },
   {
    "duration": 116,
    "start_time": "2023-03-18T11:01:09.179Z"
   },
   {
    "duration": 9,
    "start_time": "2023-03-18T11:01:23.163Z"
   },
   {
    "duration": 27,
    "start_time": "2023-03-18T11:01:42.684Z"
   },
   {
    "duration": 14,
    "start_time": "2023-03-18T11:01:50.147Z"
   },
   {
    "duration": 22,
    "start_time": "2023-03-18T11:02:49.097Z"
   },
   {
    "duration": 57297,
    "start_time": "2023-03-18T11:03:15.873Z"
   },
   {
    "duration": 167,
    "start_time": "2023-03-18T11:04:13.176Z"
   },
   {
    "duration": 337,
    "start_time": "2023-03-18T11:04:27.359Z"
   },
   {
    "duration": 14,
    "start_time": "2023-03-18T11:04:35.919Z"
   },
   {
    "duration": 85,
    "start_time": "2023-03-18T11:04:40.984Z"
   },
   {
    "duration": 10,
    "start_time": "2023-03-18T11:04:42.592Z"
   },
   {
    "duration": 19902,
    "start_time": "2023-03-18T11:05:50.791Z"
   },
   {
    "duration": 301,
    "start_time": "2023-03-18T11:06:23.976Z"
   },
   {
    "duration": 53,
    "start_time": "2023-03-18T11:34:41.976Z"
   },
   {
    "duration": 4,
    "start_time": "2023-03-18T11:35:40.553Z"
   },
   {
    "duration": 12,
    "start_time": "2023-03-18T11:37:56.337Z"
   },
   {
    "duration": 81,
    "start_time": "2023-03-18T11:41:43.867Z"
   },
   {
    "duration": 7,
    "start_time": "2023-03-18T11:41:48.267Z"
   },
   {
    "duration": 15,
    "start_time": "2023-03-18T11:42:18.366Z"
   },
   {
    "duration": 44,
    "start_time": "2023-03-18T11:42:24.884Z"
   },
   {
    "duration": 78,
    "start_time": "2023-03-18T11:43:12.283Z"
   },
   {
    "duration": 35,
    "start_time": "2023-03-18T11:43:14.394Z"
   },
   {
    "duration": 7,
    "start_time": "2023-03-18T11:44:04.753Z"
   },
   {
    "duration": 7,
    "start_time": "2023-03-18T11:44:10.074Z"
   },
   {
    "duration": 5,
    "start_time": "2023-03-18T11:44:15.026Z"
   },
   {
    "duration": 78,
    "start_time": "2023-03-18T11:45:44.913Z"
   },
   {
    "duration": 37,
    "start_time": "2023-03-18T11:45:49.624Z"
   },
   {
    "duration": 35,
    "start_time": "2023-03-18T11:45:52.481Z"
   },
   {
    "duration": 5,
    "start_time": "2023-03-18T11:45:59.040Z"
   },
   {
    "duration": 40,
    "start_time": "2023-03-18T11:48:28.583Z"
   },
   {
    "duration": 8,
    "start_time": "2023-03-18T11:48:30.583Z"
   },
   {
    "duration": 121,
    "start_time": "2023-03-18T11:49:10.246Z"
   },
   {
    "duration": 310,
    "start_time": "2023-03-18T11:49:47.389Z"
   },
   {
    "duration": 66,
    "start_time": "2023-03-18T11:55:19.410Z"
   },
   {
    "duration": 113,
    "start_time": "2023-03-18T11:55:22.077Z"
   },
   {
    "duration": 62,
    "start_time": "2023-03-18T11:56:31.417Z"
   },
   {
    "duration": 19,
    "start_time": "2023-03-18T12:16:35.984Z"
   },
   {
    "duration": 289,
    "start_time": "2023-03-18T12:16:45.161Z"
   },
   {
    "duration": 17,
    "start_time": "2023-03-18T12:16:47.379Z"
   },
   {
    "duration": 715,
    "start_time": "2023-03-18T12:17:37.248Z"
   },
   {
    "duration": 45,
    "start_time": "2023-03-18T12:17:52.160Z"
   },
   {
    "duration": 19,
    "start_time": "2023-03-18T12:17:58.175Z"
   },
   {
    "duration": 115,
    "start_time": "2023-03-18T12:18:06.263Z"
   },
   {
    "duration": 20,
    "start_time": "2023-03-18T12:19:48.303Z"
   },
   {
    "duration": 109,
    "start_time": "2023-03-18T12:19:50.942Z"
   },
   {
    "duration": 16498,
    "start_time": "2023-03-18T12:20:20.135Z"
   },
   {
    "duration": 93,
    "start_time": "2023-03-18T12:24:24.451Z"
   },
   {
    "duration": 73,
    "start_time": "2023-03-18T12:24:25.747Z"
   },
   {
    "duration": 299,
    "start_time": "2023-03-18T12:24:27.539Z"
   },
   {
    "duration": 110,
    "start_time": "2023-03-18T12:26:17.554Z"
   },
   {
    "duration": 22,
    "start_time": "2023-03-18T12:29:49.863Z"
   },
   {
    "duration": 85,
    "start_time": "2023-03-18T12:29:51.791Z"
   },
   {
    "duration": 20,
    "start_time": "2023-03-18T12:45:32.163Z"
   },
   {
    "duration": 87,
    "start_time": "2023-03-18T12:45:34.371Z"
   },
   {
    "duration": 6,
    "start_time": "2023-03-18T12:46:10.842Z"
   },
   {
    "duration": 21,
    "start_time": "2023-03-18T12:47:03.506Z"
   },
   {
    "duration": 93,
    "start_time": "2023-03-18T12:47:06.290Z"
   },
   {
    "duration": 6,
    "start_time": "2023-03-18T12:49:29.367Z"
   },
   {
    "duration": 6,
    "start_time": "2023-03-18T12:49:34.632Z"
   },
   {
    "duration": 5,
    "start_time": "2023-03-18T12:49:37.184Z"
   },
   {
    "duration": 7,
    "start_time": "2023-03-18T12:49:39.199Z"
   },
   {
    "duration": 5,
    "start_time": "2023-03-18T12:49:44.576Z"
   },
   {
    "duration": 11,
    "start_time": "2023-03-18T12:49:46.112Z"
   },
   {
    "duration": 87,
    "start_time": "2023-03-18T12:49:48.232Z"
   },
   {
    "duration": 14,
    "start_time": "2023-03-18T12:50:01.183Z"
   },
   {
    "duration": 8,
    "start_time": "2023-03-18T12:50:11.872Z"
   },
   {
    "duration": 6,
    "start_time": "2023-03-18T12:50:34.439Z"
   },
   {
    "duration": 107,
    "start_time": "2023-03-18T12:51:22.400Z"
   },
   {
    "duration": 76,
    "start_time": "2023-03-18T12:53:06.592Z"
   },
   {
    "duration": 8,
    "start_time": "2023-03-18T13:19:26.979Z"
   },
   {
    "duration": 867,
    "start_time": "2023-03-18T13:19:52.737Z"
   },
   {
    "duration": 42,
    "start_time": "2023-03-18T13:20:00.241Z"
   },
   {
    "duration": 43,
    "start_time": "2023-03-18T13:20:09.137Z"
   },
   {
    "duration": 11,
    "start_time": "2023-03-18T13:25:31.950Z"
   },
   {
    "duration": 6,
    "start_time": "2023-03-18T13:25:37.797Z"
   },
   {
    "duration": 20,
    "start_time": "2023-03-18T13:25:42.060Z"
   },
   {
    "duration": 43,
    "start_time": "2023-03-18T13:25:51.845Z"
   },
   {
    "duration": 9,
    "start_time": "2023-03-18T13:26:05.414Z"
   },
   {
    "duration": 5,
    "start_time": "2023-03-18T13:26:08.092Z"
   },
   {
    "duration": 22,
    "start_time": "2023-03-18T13:26:23.100Z"
   },
   {
    "duration": 18,
    "start_time": "2023-03-18T13:26:40.182Z"
   },
   {
    "duration": 26,
    "start_time": "2023-03-18T13:26:52.124Z"
   },
   {
    "duration": 2,
    "start_time": "2023-03-18T13:27:28.444Z"
   },
   {
    "duration": 830,
    "start_time": "2023-03-18T13:36:31.477Z"
   },
   {
    "duration": 54,
    "start_time": "2023-03-18T13:36:37.429Z"
   },
   {
    "duration": 45,
    "start_time": "2023-03-18T13:36:43.052Z"
   },
   {
    "duration": 6,
    "start_time": "2023-03-18T13:36:53.717Z"
   },
   {
    "duration": 46,
    "start_time": "2023-03-18T13:37:05.246Z"
   },
   {
    "duration": 44,
    "start_time": "2023-03-18T13:37:11.621Z"
   },
   {
    "duration": 52,
    "start_time": "2023-03-18T13:37:17.077Z"
   },
   {
    "duration": 46,
    "start_time": "2023-03-18T13:37:21.165Z"
   },
   {
    "duration": 367,
    "start_time": "2023-03-18T14:38:00.238Z"
   },
   {
    "duration": 460,
    "start_time": "2023-03-18T14:39:20.750Z"
   },
   {
    "duration": 5,
    "start_time": "2023-03-18T14:39:40.917Z"
   },
   {
    "duration": 5,
    "start_time": "2023-03-18T14:39:47.104Z"
   },
   {
    "duration": 4,
    "start_time": "2023-03-18T14:50:08.461Z"
   },
   {
    "duration": 23,
    "start_time": "2023-03-18T14:50:45.396Z"
   },
   {
    "duration": 4,
    "start_time": "2023-03-18T14:51:00.660Z"
   },
   {
    "duration": 17,
    "start_time": "2023-03-18T14:51:06.083Z"
   },
   {
    "duration": 19,
    "start_time": "2023-03-18T15:10:43.989Z"
   },
   {
    "duration": 3,
    "start_time": "2023-03-18T15:11:04.662Z"
   },
   {
    "duration": 1227,
    "start_time": "2023-03-18T15:11:22.955Z"
   },
   {
    "duration": 902,
    "start_time": "2023-03-18T15:11:34.014Z"
   },
   {
    "duration": 4,
    "start_time": "2023-03-18T15:11:38.700Z"
   },
   {
    "duration": 1900,
    "start_time": "2023-03-18T15:11:41.765Z"
   },
   {
    "duration": 877,
    "start_time": "2023-03-18T15:11:43.667Z"
   },
   {
    "duration": 703,
    "start_time": "2023-03-18T15:11:44.834Z"
   },
   {
    "duration": 97790,
    "start_time": "2023-03-18T15:11:45.733Z"
   },
   {
    "duration": 131,
    "start_time": "2023-03-18T15:13:23.525Z"
   },
   {
    "duration": 100,
    "start_time": "2023-03-18T15:13:23.658Z"
   },
   {
    "duration": 104,
    "start_time": "2023-03-18T15:13:23.761Z"
   },
   {
    "duration": 355,
    "start_time": "2023-03-18T15:13:23.867Z"
   },
   {
    "duration": 862,
    "start_time": "2023-03-18T15:13:24.224Z"
   },
   {
    "duration": 29,
    "start_time": "2023-03-18T15:13:25.091Z"
   },
   {
    "duration": 15,
    "start_time": "2023-03-18T15:13:25.123Z"
   },
   {
    "duration": 163,
    "start_time": "2023-03-18T15:13:25.141Z"
   },
   {
    "duration": 1008,
    "start_time": "2023-03-18T15:13:25.307Z"
   },
   {
    "duration": 4,
    "start_time": "2023-03-18T15:13:26.318Z"
   },
   {
    "duration": 8,
    "start_time": "2023-03-18T15:13:26.324Z"
   },
   {
    "duration": 439,
    "start_time": "2023-03-18T15:13:26.334Z"
   },
   {
    "duration": 8,
    "start_time": "2023-03-18T15:13:26.776Z"
   },
   {
    "duration": 226141,
    "start_time": "2023-03-18T15:13:37.545Z"
   },
   {
    "duration": 8,
    "start_time": "2023-03-18T15:18:00.394Z"
   },
   {
    "duration": 15,
    "start_time": "2023-03-18T15:18:28.217Z"
   },
   {
    "duration": 363,
    "start_time": "2023-03-18T15:18:38.695Z"
   },
   {
    "duration": 74,
    "start_time": "2023-03-18T15:18:47.520Z"
   },
   {
    "duration": 6,
    "start_time": "2023-03-18T15:18:50.656Z"
   },
   {
    "duration": 8,
    "start_time": "2023-03-18T15:19:12.432Z"
   },
   {
    "duration": 91,
    "start_time": "2023-03-18T15:19:25.060Z"
   },
   {
    "duration": 323,
    "start_time": "2023-03-18T15:19:29.164Z"
   },
   {
    "duration": 311,
    "start_time": "2023-03-18T15:20:02.808Z"
   },
   {
    "duration": 351,
    "start_time": "2023-03-18T15:20:20.207Z"
   },
   {
    "duration": 280553,
    "start_time": "2023-03-18T15:20:25.536Z"
   },
   {
    "duration": 92664,
    "start_time": "2023-03-18T15:25:36.075Z"
   },
   {
    "duration": 78278,
    "start_time": "2023-03-18T15:40:06.915Z"
   },
   {
    "duration": 40,
    "start_time": "2023-03-18T15:51:10.826Z"
   },
   {
    "duration": 21,
    "start_time": "2023-03-18T15:52:00.496Z"
   },
   {
    "duration": 23,
    "start_time": "2023-03-18T16:19:39.594Z"
   },
   {
    "duration": 129,
    "start_time": "2023-03-18T16:19:46.011Z"
   },
   {
    "duration": 38,
    "start_time": "2023-03-18T16:19:53.626Z"
   },
   {
    "duration": 26,
    "start_time": "2023-03-18T16:20:18.297Z"
   },
   {
    "duration": 80,
    "start_time": "2023-03-18T16:24:43.831Z"
   },
   {
    "duration": 16,
    "start_time": "2023-03-18T16:24:59.406Z"
   },
   {
    "duration": 27,
    "start_time": "2023-03-18T16:25:19.103Z"
   },
   {
    "duration": 11,
    "start_time": "2023-03-18T16:25:23.781Z"
   },
   {
    "duration": 22684,
    "start_time": "2023-03-18T16:25:37.111Z"
   },
   {
    "duration": 284309,
    "start_time": "2023-03-18T16:26:01.016Z"
   },
   {
    "duration": 5,
    "start_time": "2023-03-18T16:31:49.410Z"
   },
   {
    "duration": 43,
    "start_time": "2023-03-18T16:32:00.806Z"
   },
   {
    "duration": 136,
    "start_time": "2023-03-18T16:43:27.792Z"
   },
   {
    "duration": 11,
    "start_time": "2023-03-18T16:43:53.176Z"
   },
   {
    "duration": 125,
    "start_time": "2023-03-18T16:43:57.621Z"
   },
   {
    "duration": 7462,
    "start_time": "2023-03-18T18:27:47.542Z"
   },
   {
    "duration": 144277,
    "start_time": "2023-03-18T18:27:59.309Z"
   },
   {
    "duration": 4,
    "start_time": "2023-03-18T18:30:28.528Z"
   },
   {
    "duration": 1043,
    "start_time": "2023-03-18T18:30:39.830Z"
   },
   {
    "duration": 1547,
    "start_time": "2023-03-18T18:30:52.999Z"
   },
   {
    "duration": 1197,
    "start_time": "2023-03-18T18:30:56.168Z"
   },
   {
    "duration": 830,
    "start_time": "2023-03-18T18:31:01.104Z"
   },
   {
    "duration": 712,
    "start_time": "2023-03-18T18:31:05.615Z"
   },
   {
    "duration": 96436,
    "start_time": "2023-03-18T18:31:10.175Z"
   },
   {
    "duration": 137,
    "start_time": "2023-03-18T18:32:46.613Z"
   },
   {
    "duration": 102,
    "start_time": "2023-03-18T18:32:46.752Z"
   },
   {
    "duration": 104,
    "start_time": "2023-03-18T18:32:46.857Z"
   },
   {
    "duration": 343,
    "start_time": "2023-03-18T18:32:46.963Z"
   },
   {
    "duration": 821,
    "start_time": "2023-03-18T18:32:47.308Z"
   },
   {
    "duration": 22,
    "start_time": "2023-03-18T18:32:48.131Z"
   },
   {
    "duration": 24,
    "start_time": "2023-03-18T18:32:48.155Z"
   },
   {
    "duration": 115,
    "start_time": "2023-03-18T18:32:48.182Z"
   },
   {
    "duration": 144,
    "start_time": "2023-03-18T18:32:48.300Z"
   },
   {
    "duration": 0,
    "start_time": "2023-03-18T18:32:48.446Z"
   },
   {
    "duration": 862,
    "start_time": "2023-03-18T18:32:58.502Z"
   },
   {
    "duration": 3,
    "start_time": "2023-03-18T18:32:59.599Z"
   },
   {
    "duration": 3,
    "start_time": "2023-03-18T18:33:00.334Z"
   },
   {
    "duration": 418,
    "start_time": "2023-03-18T18:33:00.878Z"
   },
   {
    "duration": 8,
    "start_time": "2023-03-18T18:33:02.813Z"
   },
   {
    "duration": 89,
    "start_time": "2023-03-18T18:33:14.024Z"
   },
   {
    "duration": 263938,
    "start_time": "2023-03-18T18:33:21.144Z"
   },
   {
    "duration": 67788,
    "start_time": "2023-03-18T18:38:47.201Z"
   },
   {
    "duration": 0,
    "start_time": "2023-03-18T18:39:55.005Z"
   },
   {
    "duration": 255184,
    "start_time": "2023-03-18T18:39:58.683Z"
   },
   {
    "duration": 1051792,
    "start_time": "2023-03-18T18:44:37.606Z"
   },
   {
    "duration": 72,
    "start_time": "2023-03-18T19:02:09.400Z"
   },
   {
    "duration": 28158,
    "start_time": "2023-03-18T19:03:29.527Z"
   },
   {
    "duration": 30620,
    "start_time": "2023-03-18T19:04:35.166Z"
   },
   {
    "duration": 6632,
    "start_time": "2023-03-18T19:10:49.625Z"
   },
   {
    "duration": 987319,
    "start_time": "2023-03-18T19:10:56.259Z"
   },
   {
    "duration": 1589,
    "start_time": "2023-03-18T19:35:10.754Z"
   },
   {
    "duration": 1183,
    "start_time": "2023-03-18T19:35:13.258Z"
   },
   {
    "duration": 845,
    "start_time": "2023-03-18T19:35:14.443Z"
   },
   {
    "duration": 649,
    "start_time": "2023-03-18T19:35:15.305Z"
   },
   {
    "duration": 93136,
    "start_time": "2023-03-18T19:35:16.442Z"
   },
   {
    "duration": 130,
    "start_time": "2023-03-18T19:36:49.608Z"
   },
   {
    "duration": 99,
    "start_time": "2023-03-18T19:36:49.740Z"
   },
   {
    "duration": 92,
    "start_time": "2023-03-18T19:36:49.841Z"
   },
   {
    "duration": 323,
    "start_time": "2023-03-18T19:36:49.935Z"
   },
   {
    "duration": 772,
    "start_time": "2023-03-18T19:36:50.260Z"
   },
   {
    "duration": 21,
    "start_time": "2023-03-18T19:36:51.035Z"
   },
   {
    "duration": 23,
    "start_time": "2023-03-18T19:36:51.058Z"
   },
   {
    "duration": 98,
    "start_time": "2023-03-18T19:36:51.083Z"
   },
   {
    "duration": 783,
    "start_time": "2023-03-18T19:36:51.184Z"
   },
   {
    "duration": 8,
    "start_time": "2023-03-18T19:36:51.969Z"
   },
   {
    "duration": 7,
    "start_time": "2023-03-18T19:36:51.979Z"
   },
   {
    "duration": 432,
    "start_time": "2023-03-18T19:36:51.988Z"
   },
   {
    "duration": 9,
    "start_time": "2023-03-18T19:36:52.423Z"
   },
   {
    "duration": 120844,
    "start_time": "2023-03-18T19:36:52.436Z"
   },
   {
    "duration": 244950,
    "start_time": "2023-03-18T19:38:53.283Z"
   },
   {
    "duration": 117,
    "start_time": "2023-03-21T18:21:18.543Z"
   },
   {
    "duration": 3321,
    "start_time": "2023-03-21T18:21:45.379Z"
   },
   {
    "duration": 2056,
    "start_time": "2023-03-21T18:21:53.492Z"
   },
   {
    "duration": 847,
    "start_time": "2023-03-21T18:21:55.550Z"
   },
   {
    "duration": 651,
    "start_time": "2023-03-21T18:21:56.399Z"
   },
   {
    "duration": 94577,
    "start_time": "2023-03-21T18:21:57.685Z"
   },
   {
    "duration": 126,
    "start_time": "2023-03-21T18:23:32.264Z"
   },
   {
    "duration": 198,
    "start_time": "2023-03-21T18:23:32.392Z"
   },
   {
    "duration": 90,
    "start_time": "2023-03-21T18:23:32.593Z"
   },
   {
    "duration": 301,
    "start_time": "2023-03-21T18:23:32.685Z"
   },
   {
    "duration": 777,
    "start_time": "2023-03-21T18:23:32.987Z"
   },
   {
    "duration": 22,
    "start_time": "2023-03-21T18:23:33.766Z"
   },
   {
    "duration": 28,
    "start_time": "2023-03-21T18:23:33.790Z"
   },
   {
    "duration": 85,
    "start_time": "2023-03-21T18:23:33.826Z"
   },
   {
    "duration": 78,
    "start_time": "2023-03-21T18:23:33.917Z"
   },
   {
    "duration": 22,
    "start_time": "2023-03-21T18:23:36.804Z"
   },
   {
    "duration": 153,
    "start_time": "2023-03-21T18:24:35.527Z"
   },
   {
    "duration": 4,
    "start_time": "2023-03-21T18:25:03.682Z"
   },
   {
    "duration": 22,
    "start_time": "2023-03-21T18:25:09.646Z"
   },
   {
    "duration": 18,
    "start_time": "2023-03-21T18:25:39.367Z"
   },
   {
    "duration": 3,
    "start_time": "2023-03-21T18:25:53.337Z"
   },
   {
    "duration": 26,
    "start_time": "2023-03-21T18:26:01.056Z"
   },
   {
    "duration": 26,
    "start_time": "2023-03-21T18:26:45.134Z"
   },
   {
    "duration": 23,
    "start_time": "2023-03-21T18:26:59.473Z"
   },
   {
    "duration": 29,
    "start_time": "2023-03-21T18:27:28.893Z"
   },
   {
    "duration": 30,
    "start_time": "2023-03-21T18:28:01.684Z"
   },
   {
    "duration": 4,
    "start_time": "2023-03-21T18:28:40.438Z"
   },
   {
    "duration": 29,
    "start_time": "2023-03-21T18:28:53.532Z"
   },
   {
    "duration": 99,
    "start_time": "2023-03-21T18:29:44.083Z"
   },
   {
    "duration": 22,
    "start_time": "2023-03-21T18:30:16.385Z"
   },
   {
    "duration": 20,
    "start_time": "2023-03-21T18:30:21.542Z"
   },
   {
    "duration": 3,
    "start_time": "2023-03-21T18:30:33.770Z"
   },
   {
    "duration": 34,
    "start_time": "2023-03-21T18:30:42.838Z"
   },
   {
    "duration": 3,
    "start_time": "2023-03-21T18:32:03.937Z"
   },
   {
    "duration": 86,
    "start_time": "2023-03-21T18:32:04.976Z"
   },
   {
    "duration": 4,
    "start_time": "2023-03-21T18:32:26.672Z"
   },
   {
    "duration": 20,
    "start_time": "2023-03-21T18:32:30.772Z"
   },
   {
    "duration": 23,
    "start_time": "2023-03-21T18:33:54.529Z"
   },
   {
    "duration": 17,
    "start_time": "2023-03-21T18:34:17.238Z"
   },
   {
    "duration": 3,
    "start_time": "2023-03-21T18:34:39.064Z"
   },
   {
    "duration": 19,
    "start_time": "2023-03-21T18:34:44.871Z"
   },
   {
    "duration": 18,
    "start_time": "2023-03-21T18:35:33.342Z"
   },
   {
    "duration": 1504,
    "start_time": "2023-03-21T18:38:09.736Z"
   },
   {
    "duration": 199,
    "start_time": "2023-03-21T18:38:31.188Z"
   },
   {
    "duration": 1375,
    "start_time": "2023-03-21T18:39:13.276Z"
   },
   {
    "duration": 793,
    "start_time": "2023-03-21T18:39:20.975Z"
   },
   {
    "duration": 634,
    "start_time": "2023-03-21T18:39:26.607Z"
   },
   {
    "duration": 87,
    "start_time": "2023-03-21T18:39:31.376Z"
   },
   {
    "duration": 91,
    "start_time": "2023-03-21T18:39:33.591Z"
   },
   {
    "duration": 316,
    "start_time": "2023-03-21T18:39:35.230Z"
   },
   {
    "duration": 769,
    "start_time": "2023-03-21T18:39:38.255Z"
   },
   {
    "duration": 25,
    "start_time": "2023-03-21T18:39:40.564Z"
   },
   {
    "duration": 19,
    "start_time": "2023-03-21T18:39:42.912Z"
   },
   {
    "duration": 99,
    "start_time": "2023-03-21T18:39:44.302Z"
   },
   {
    "duration": 72,
    "start_time": "2023-03-21T18:39:51.135Z"
   },
   {
    "duration": 21,
    "start_time": "2023-03-21T18:50:09.216Z"
   },
   {
    "duration": 15,
    "start_time": "2023-03-21T18:50:12.591Z"
   },
   {
    "duration": 3,
    "start_time": "2023-03-21T18:50:15.638Z"
   },
   {
    "duration": 28,
    "start_time": "2023-03-21T18:50:17.335Z"
   },
   {
    "duration": 4,
    "start_time": "2023-03-21T18:56:10.194Z"
   },
   {
    "duration": 1002,
    "start_time": "2023-03-21T18:56:14.978Z"
   },
   {
    "duration": 658,
    "start_time": "2023-03-21T18:56:15.982Z"
   },
   {
    "duration": 616,
    "start_time": "2023-03-21T18:56:16.641Z"
   },
   {
    "duration": 84430,
    "start_time": "2023-03-21T18:56:17.259Z"
   },
   {
    "duration": 120,
    "start_time": "2023-03-21T18:57:41.710Z"
   },
   {
    "duration": 99,
    "start_time": "2023-03-21T18:57:41.832Z"
   },
   {
    "duration": 80,
    "start_time": "2023-03-21T18:57:41.933Z"
   },
   {
    "duration": 286,
    "start_time": "2023-03-21T18:57:42.015Z"
   },
   {
    "duration": 701,
    "start_time": "2023-03-21T18:57:42.308Z"
   },
   {
    "duration": 21,
    "start_time": "2023-03-21T18:57:43.011Z"
   },
   {
    "duration": 11,
    "start_time": "2023-03-21T18:57:43.034Z"
   },
   {
    "duration": 91,
    "start_time": "2023-03-21T18:57:43.046Z"
   },
   {
    "duration": 89,
    "start_time": "2023-03-21T18:57:43.139Z"
   },
   {
    "duration": 17,
    "start_time": "2023-03-21T18:58:28.656Z"
   },
   {
    "duration": 13,
    "start_time": "2023-03-21T18:58:30.024Z"
   },
   {
    "duration": 3,
    "start_time": "2023-03-21T18:58:30.464Z"
   },
   {
    "duration": 19,
    "start_time": "2023-03-21T18:58:31.384Z"
   },
   {
    "duration": 4,
    "start_time": "2023-03-21T18:58:43.596Z"
   },
   {
    "duration": 18,
    "start_time": "2023-03-21T18:58:44.606Z"
   },
   {
    "duration": 3,
    "start_time": "2023-03-21T18:58:58.654Z"
   },
   {
    "duration": 64,
    "start_time": "2023-03-21T18:58:59.592Z"
   },
   {
    "duration": 21,
    "start_time": "2023-03-21T18:59:22.348Z"
   },
   {
    "duration": 22,
    "start_time": "2023-03-21T18:59:32.404Z"
   },
   {
    "duration": 21,
    "start_time": "2023-03-21T18:59:38.804Z"
   },
   {
    "duration": 3,
    "start_time": "2023-03-21T18:59:41.812Z"
   },
   {
    "duration": 71,
    "start_time": "2023-03-21T18:59:42.702Z"
   },
   {
    "duration": 1206,
    "start_time": "2023-03-21T18:59:44.052Z"
   },
   {
    "duration": 4,
    "start_time": "2023-03-21T19:00:58.931Z"
   },
   {
    "duration": 35,
    "start_time": "2023-03-21T19:01:35.834Z"
   },
   {
    "duration": 75,
    "start_time": "2023-03-21T19:01:53.114Z"
   },
   {
    "duration": 17,
    "start_time": "2023-03-21T19:01:54.434Z"
   },
   {
    "duration": 13,
    "start_time": "2023-03-21T19:01:55.922Z"
   },
   {
    "duration": 3,
    "start_time": "2023-03-21T19:01:56.687Z"
   },
   {
    "duration": 67,
    "start_time": "2023-03-21T19:01:57.426Z"
   },
   {
    "duration": 1219,
    "start_time": "2023-03-21T19:02:00.002Z"
   },
   {
    "duration": 939,
    "start_time": "2023-03-21T19:03:06.541Z"
   },
   {
    "duration": 1862,
    "start_time": "2023-03-21T19:04:32.416Z"
   },
   {
    "duration": 1332,
    "start_time": "2023-03-21T19:04:40.162Z"
   },
   {
    "duration": 1297,
    "start_time": "2023-03-21T19:04:48.221Z"
   },
   {
    "duration": 8520,
    "start_time": "2023-03-21T19:05:15.832Z"
   },
   {
    "duration": 1321,
    "start_time": "2023-03-21T19:05:38.930Z"
   },
   {
    "duration": 2612,
    "start_time": "2023-03-21T19:05:52.259Z"
   },
   {
    "duration": 1081,
    "start_time": "2023-03-21T19:05:59.885Z"
   },
   {
    "duration": 727,
    "start_time": "2023-03-21T19:06:00.968Z"
   },
   {
    "duration": 572,
    "start_time": "2023-03-21T19:06:01.887Z"
   },
   {
    "duration": 87705,
    "start_time": "2023-03-21T19:06:02.747Z"
   },
   {
    "duration": 117,
    "start_time": "2023-03-21T19:07:30.471Z"
   },
   {
    "duration": 115,
    "start_time": "2023-03-21T19:07:30.589Z"
   },
   {
    "duration": 80,
    "start_time": "2023-03-21T19:07:30.707Z"
   },
   {
    "duration": 320,
    "start_time": "2023-03-21T19:07:30.789Z"
   },
   {
    "duration": 702,
    "start_time": "2023-03-21T19:07:31.111Z"
   },
   {
    "duration": 21,
    "start_time": "2023-03-21T19:07:31.814Z"
   },
   {
    "duration": 10,
    "start_time": "2023-03-21T19:07:31.837Z"
   },
   {
    "duration": 96,
    "start_time": "2023-03-21T19:07:31.849Z"
   },
   {
    "duration": 72,
    "start_time": "2023-03-21T19:07:35.500Z"
   },
   {
    "duration": 17,
    "start_time": "2023-03-21T19:07:39.256Z"
   },
   {
    "duration": 13,
    "start_time": "2023-03-21T19:07:40.385Z"
   },
   {
    "duration": 3,
    "start_time": "2023-03-21T19:07:41.018Z"
   },
   {
    "duration": 72,
    "start_time": "2023-03-21T19:07:41.504Z"
   },
   {
    "duration": 75,
    "start_time": "2023-03-21T19:08:31.790Z"
   },
   {
    "duration": 2574,
    "start_time": "2023-03-21T19:09:29.896Z"
   },
   {
    "duration": 1250,
    "start_time": "2023-03-21T19:09:33.144Z"
   },
   {
    "duration": 736,
    "start_time": "2023-03-21T19:09:35.193Z"
   },
   {
    "duration": 597,
    "start_time": "2023-03-21T19:09:37.543Z"
   },
   {
    "duration": 85916,
    "start_time": "2023-03-21T19:09:38.142Z"
   },
   {
    "duration": 111,
    "start_time": "2023-03-21T19:11:04.060Z"
   },
   {
    "duration": 85,
    "start_time": "2023-03-21T19:11:04.173Z"
   },
   {
    "duration": 85,
    "start_time": "2023-03-21T19:11:04.260Z"
   },
   {
    "duration": 293,
    "start_time": "2023-03-21T19:11:04.347Z"
   },
   {
    "duration": 699,
    "start_time": "2023-03-21T19:11:04.642Z"
   },
   {
    "duration": 20,
    "start_time": "2023-03-21T19:11:05.343Z"
   },
   {
    "duration": 11,
    "start_time": "2023-03-21T19:11:05.365Z"
   },
   {
    "duration": 107,
    "start_time": "2023-03-21T19:11:05.377Z"
   },
   {
    "duration": 70,
    "start_time": "2023-03-21T19:12:35.223Z"
   },
   {
    "duration": 21,
    "start_time": "2023-03-21T19:12:35.989Z"
   },
   {
    "duration": 12,
    "start_time": "2023-03-21T19:12:36.592Z"
   },
   {
    "duration": 3,
    "start_time": "2023-03-21T19:12:38.013Z"
   },
   {
    "duration": 49,
    "start_time": "2023-03-21T19:12:59.495Z"
   },
   {
    "duration": 7,
    "start_time": "2023-03-21T19:13:03.506Z"
   },
   {
    "duration": 1956,
    "start_time": "2023-03-21T19:13:14.887Z"
   },
   {
    "duration": 3693,
    "start_time": "2023-03-21T19:13:16.846Z"
   },
   {
    "duration": 1331,
    "start_time": "2023-03-21T19:13:20.541Z"
   },
   {
    "duration": 737,
    "start_time": "2023-03-21T19:13:21.874Z"
   },
   {
    "duration": 613,
    "start_time": "2023-03-21T19:13:22.613Z"
   },
   {
    "duration": 85984,
    "start_time": "2023-03-21T19:13:23.228Z"
   },
   {
    "duration": 112,
    "start_time": "2023-03-21T19:14:49.238Z"
   },
   {
    "duration": 89,
    "start_time": "2023-03-21T19:14:49.352Z"
   },
   {
    "duration": 89,
    "start_time": "2023-03-21T19:14:49.443Z"
   },
   {
    "duration": 286,
    "start_time": "2023-03-21T19:14:49.535Z"
   },
   {
    "duration": 738,
    "start_time": "2023-03-21T19:14:49.822Z"
   },
   {
    "duration": 21,
    "start_time": "2023-03-21T19:14:50.562Z"
   },
   {
    "duration": 10,
    "start_time": "2023-03-21T19:14:50.585Z"
   },
   {
    "duration": 89,
    "start_time": "2023-03-21T19:14:50.596Z"
   },
   {
    "duration": 80,
    "start_time": "2023-03-21T19:14:50.688Z"
   },
   {
    "duration": 14,
    "start_time": "2023-03-21T19:14:56.350Z"
   },
   {
    "duration": 3,
    "start_time": "2023-03-21T19:14:57.015Z"
   },
   {
    "duration": 78,
    "start_time": "2023-03-21T19:14:59.804Z"
   },
   {
    "duration": 92,
    "start_time": "2023-03-21T19:15:21.117Z"
   },
   {
    "duration": 17,
    "start_time": "2023-03-21T19:15:21.781Z"
   },
   {
    "duration": 13,
    "start_time": "2023-03-21T19:15:22.482Z"
   },
   {
    "duration": 3,
    "start_time": "2023-03-21T19:15:23.081Z"
   },
   {
    "duration": 1889,
    "start_time": "2023-03-21T19:15:50.139Z"
   },
   {
    "duration": 3486,
    "start_time": "2023-03-21T19:15:52.030Z"
   },
   {
    "duration": 1342,
    "start_time": "2023-03-21T19:15:55.519Z"
   },
   {
    "duration": 718,
    "start_time": "2023-03-21T19:15:56.864Z"
   },
   {
    "duration": 599,
    "start_time": "2023-03-21T19:15:57.584Z"
   },
   {
    "duration": 84203,
    "start_time": "2023-03-21T19:15:58.185Z"
   },
   {
    "duration": 111,
    "start_time": "2023-03-21T19:17:22.406Z"
   },
   {
    "duration": 77,
    "start_time": "2023-03-21T19:17:22.518Z"
   },
   {
    "duration": 86,
    "start_time": "2023-03-21T19:17:22.596Z"
   },
   {
    "duration": 283,
    "start_time": "2023-03-21T19:17:22.685Z"
   },
   {
    "duration": 681,
    "start_time": "2023-03-21T19:17:22.970Z"
   },
   {
    "duration": 20,
    "start_time": "2023-03-21T19:17:23.653Z"
   },
   {
    "duration": 11,
    "start_time": "2023-03-21T19:17:23.674Z"
   },
   {
    "duration": 93,
    "start_time": "2023-03-21T19:17:23.687Z"
   },
   {
    "duration": 88,
    "start_time": "2023-03-21T19:17:23.782Z"
   },
   {
    "duration": 17,
    "start_time": "2023-03-21T19:17:23.872Z"
   },
   {
    "duration": 20,
    "start_time": "2023-03-21T19:17:23.891Z"
   },
   {
    "duration": 3,
    "start_time": "2023-03-21T19:18:05.612Z"
   },
   {
    "duration": 93,
    "start_time": "2023-03-21T19:18:06.394Z"
   },
   {
    "duration": 51,
    "start_time": "2023-03-21T19:24:40.249Z"
   },
   {
    "duration": 7,
    "start_time": "2023-03-21T19:26:33.865Z"
   },
   {
    "duration": 1824,
    "start_time": "2023-03-21T19:29:09.922Z"
   },
   {
    "duration": 2641,
    "start_time": "2023-03-21T19:29:11.748Z"
   },
   {
    "duration": 4,
    "start_time": "2023-03-21T19:29:19.485Z"
   },
   {
    "duration": 1215,
    "start_time": "2023-03-21T19:29:26.617Z"
   },
   {
    "duration": 2495,
    "start_time": "2023-03-21T19:29:28.953Z"
   },
   {
    "duration": 1185,
    "start_time": "2023-03-21T19:29:31.450Z"
   },
   {
    "duration": 660,
    "start_time": "2023-03-21T19:29:32.637Z"
   },
   {
    "duration": 540,
    "start_time": "2023-03-21T19:29:33.299Z"
   },
   {
    "duration": 82368,
    "start_time": "2023-03-21T19:29:33.841Z"
   },
   {
    "duration": 159,
    "start_time": "2023-03-21T19:30:56.211Z"
   },
   {
    "duration": 98,
    "start_time": "2023-03-21T19:30:56.372Z"
   },
   {
    "duration": 89,
    "start_time": "2023-03-21T19:30:56.473Z"
   },
   {
    "duration": 288,
    "start_time": "2023-03-21T19:30:56.564Z"
   },
   {
    "duration": 710,
    "start_time": "2023-03-21T19:30:56.854Z"
   },
   {
    "duration": 20,
    "start_time": "2023-03-21T19:30:57.566Z"
   },
   {
    "duration": 20,
    "start_time": "2023-03-21T19:30:57.589Z"
   },
   {
    "duration": 82,
    "start_time": "2023-03-21T19:30:57.611Z"
   },
   {
    "duration": 3,
    "start_time": "2023-03-21T19:31:36.456Z"
   },
   {
    "duration": 718,
    "start_time": "2023-03-21T19:31:41.823Z"
   },
   {
    "duration": 3,
    "start_time": "2023-03-21T19:31:42.543Z"
   },
   {
    "duration": 657,
    "start_time": "2023-03-21T19:31:42.696Z"
   },
   {
    "duration": 385,
    "start_time": "2023-03-21T19:31:43.355Z"
   },
   {
    "duration": 6,
    "start_time": "2023-03-21T19:31:48.583Z"
   },
   {
    "duration": 118526,
    "start_time": "2023-03-21T19:31:53.688Z"
   },
   {
    "duration": 97,
    "start_time": "2023-03-21T19:33:52.219Z"
   },
   {
    "duration": 131,
    "start_time": "2023-03-21T19:35:16.401Z"
   },
   {
    "duration": 11114,
    "start_time": "2023-03-21T19:35:57.693Z"
   },
   {
    "duration": 75,
    "start_time": "2023-03-21T19:36:08.810Z"
   },
   {
    "duration": 232417,
    "start_time": "2023-03-21T19:36:37.858Z"
   },
   {
    "duration": 127,
    "start_time": "2023-03-21T19:45:21.781Z"
   },
   {
    "duration": 1415983,
    "start_time": "2023-03-21T19:45:28.933Z"
   },
   {
    "duration": 7603,
    "start_time": "2023-03-21T20:09:04.917Z"
   },
   {
    "duration": 1774,
    "start_time": "2023-03-21T20:09:59.010Z"
   },
   {
    "duration": 2815,
    "start_time": "2023-03-21T20:10:04.530Z"
   },
   {
    "duration": 1013,
    "start_time": "2023-03-21T20:10:09.053Z"
   },
   {
    "duration": 757,
    "start_time": "2023-03-21T20:10:13.226Z"
   },
   {
    "duration": 564,
    "start_time": "2023-03-21T20:10:17.147Z"
   },
   {
    "duration": 83916,
    "start_time": "2023-03-21T20:10:18.298Z"
   },
   {
    "duration": 109,
    "start_time": "2023-03-21T20:11:42.216Z"
   },
   {
    "duration": 89,
    "start_time": "2023-03-21T20:11:42.326Z"
   },
   {
    "duration": 76,
    "start_time": "2023-03-21T20:11:42.418Z"
   },
   {
    "duration": 313,
    "start_time": "2023-03-21T20:11:42.496Z"
   },
   {
    "duration": 710,
    "start_time": "2023-03-21T20:11:42.811Z"
   },
   {
    "duration": 21,
    "start_time": "2023-03-21T20:11:43.523Z"
   },
   {
    "duration": 11,
    "start_time": "2023-03-21T20:11:43.546Z"
   },
   {
    "duration": 102,
    "start_time": "2023-03-21T20:11:43.558Z"
   },
   {
    "duration": 712,
    "start_time": "2023-03-21T20:11:43.663Z"
   },
   {
    "duration": 3,
    "start_time": "2023-03-21T20:11:44.377Z"
   },
   {
    "duration": 679,
    "start_time": "2023-03-21T20:11:44.382Z"
   },
   {
    "duration": 385,
    "start_time": "2023-03-21T20:11:45.063Z"
   },
   {
    "duration": 6,
    "start_time": "2023-03-21T20:11:45.450Z"
   },
   {
    "duration": 112397,
    "start_time": "2023-03-21T20:11:49.921Z"
   },
   {
    "duration": 26328,
    "start_time": "2023-03-21T20:13:42.320Z"
   },
   {
    "duration": 862,
    "start_time": "2023-03-21T20:14:08.649Z"
   },
   {
    "duration": 224019,
    "start_time": "2023-03-21T20:15:05.102Z"
   },
   {
    "duration": 198,
    "start_time": "2023-03-21T20:18:49.123Z"
   },
   {
    "duration": 81,
    "start_time": "2023-03-21T20:18:49.322Z"
   },
   {
    "duration": 3,
    "start_time": "2023-03-21T20:18:49.405Z"
   },
   {
    "duration": 16005,
    "start_time": "2023-03-21T20:18:49.409Z"
   },
   {
    "duration": 3608,
    "start_time": "2023-03-21T20:19:05.416Z"
   },
   {
    "duration": 2,
    "start_time": "2023-03-21T20:20:02.500Z"
   },
   {
    "duration": 79,
    "start_time": "2023-03-21T20:20:37.372Z"
   },
   {
    "duration": 6211,
    "start_time": "2023-03-21T20:21:14.088Z"
   },
   {
    "duration": 453,
    "start_time": "2023-03-21T20:21:20.301Z"
   },
   {
    "duration": 15475,
    "start_time": "2023-03-21T20:21:33.645Z"
   },
   {
    "duration": 116887,
    "start_time": "2023-03-21T20:22:34.334Z"
   },
   {
    "duration": 3,
    "start_time": "2023-03-21T20:24:31.224Z"
   },
   {
    "duration": 1291,
    "start_time": "2023-03-21T20:29:40.757Z"
   },
   {
    "duration": 1090,
    "start_time": "2023-03-21T20:29:43.592Z"
   },
   {
    "duration": 865,
    "start_time": "2023-03-21T20:29:45.228Z"
   },
   {
    "duration": 740,
    "start_time": "2023-03-21T20:29:46.095Z"
   },
   {
    "duration": 90,
    "start_time": "2023-03-21T20:29:51.956Z"
   },
   {
    "duration": 109,
    "start_time": "2023-03-21T20:29:52.588Z"
   },
   {
    "duration": 340,
    "start_time": "2023-03-21T20:29:52.983Z"
   },
   {
    "duration": 867,
    "start_time": "2023-03-21T20:29:53.711Z"
   },
   {
    "duration": 38,
    "start_time": "2023-03-21T20:29:54.580Z"
   },
   {
    "duration": 12,
    "start_time": "2023-03-21T20:29:55.085Z"
   },
   {
    "duration": 97,
    "start_time": "2023-03-21T20:29:55.349Z"
   },
   {
    "duration": 807,
    "start_time": "2023-03-21T20:30:02.284Z"
   },
   {
    "duration": 2,
    "start_time": "2023-03-21T20:30:03.094Z"
   },
   {
    "duration": 616,
    "start_time": "2023-03-21T20:30:03.148Z"
   },
   {
    "duration": 385,
    "start_time": "2023-03-21T20:30:03.766Z"
   },
   {
    "duration": 8,
    "start_time": "2023-03-21T20:30:06.107Z"
   },
   {
    "duration": 2249533,
    "start_time": "2023-03-21T20:30:17.087Z"
   },
   {
    "duration": 3,
    "start_time": "2023-03-21T21:07:46.623Z"
   },
   {
    "duration": 13642,
    "start_time": "2023-03-21T21:11:20.669Z"
   },
   {
    "duration": 914,
    "start_time": "2023-03-21T21:11:34.313Z"
   },
   {
    "duration": 1449,
    "start_time": "2023-03-22T09:27:06.690Z"
   },
   {
    "duration": 6457,
    "start_time": "2023-03-22T09:27:12.064Z"
   },
   {
    "duration": 1001,
    "start_time": "2023-03-22T09:27:18.523Z"
   },
   {
    "duration": 536,
    "start_time": "2023-03-22T09:27:19.525Z"
   },
   {
    "duration": 427,
    "start_time": "2023-03-22T09:27:20.063Z"
   },
   {
    "duration": 63011,
    "start_time": "2023-03-22T09:27:20.492Z"
   },
   {
    "duration": 81,
    "start_time": "2023-03-22T09:28:23.505Z"
   },
   {
    "duration": 63,
    "start_time": "2023-03-22T09:28:23.588Z"
   },
   {
    "duration": 77,
    "start_time": "2023-03-22T09:28:23.653Z"
   },
   {
    "duration": 248,
    "start_time": "2023-03-22T09:28:23.731Z"
   },
   {
    "duration": 565,
    "start_time": "2023-03-22T09:28:23.981Z"
   },
   {
    "duration": 18,
    "start_time": "2023-03-22T09:28:24.547Z"
   },
   {
    "duration": 8,
    "start_time": "2023-03-22T09:28:24.567Z"
   },
   {
    "duration": 70,
    "start_time": "2023-03-22T09:28:24.576Z"
   },
   {
    "duration": 53,
    "start_time": "2023-03-22T09:43:58.474Z"
   },
   {
    "duration": 439,
    "start_time": "2023-03-22T09:44:32.026Z"
   },
   {
    "duration": 15,
    "start_time": "2023-03-22T09:45:32.002Z"
   },
   {
    "duration": 3,
    "start_time": "2023-03-22T09:47:07.038Z"
   },
   {
    "duration": 6,
    "start_time": "2023-03-22T09:47:12.135Z"
   },
   {
    "duration": 4,
    "start_time": "2023-03-22T09:47:18.247Z"
   },
   {
    "duration": 7,
    "start_time": "2023-03-22T09:48:02.727Z"
   },
   {
    "duration": 2,
    "start_time": "2023-03-22T09:48:17.665Z"
   },
   {
    "duration": 4,
    "start_time": "2023-03-22T09:48:20.397Z"
   },
   {
    "duration": 103,
    "start_time": "2023-03-22T09:48:30.840Z"
   },
   {
    "duration": 8,
    "start_time": "2023-03-22T09:49:18.767Z"
   },
   {
    "duration": 138,
    "start_time": "2023-03-22T09:50:16.007Z"
   },
   {
    "duration": 418,
    "start_time": "2023-03-22T09:50:33.262Z"
   },
   {
    "duration": 2,
    "start_time": "2023-03-22T09:50:35.043Z"
   },
   {
    "duration": 116,
    "start_time": "2023-03-22T09:50:36.358Z"
   },
   {
    "duration": 54,
    "start_time": "2023-03-22T09:50:47.207Z"
   },
   {
    "duration": 434,
    "start_time": "2023-03-22T09:50:48.206Z"
   },
   {
    "duration": 2,
    "start_time": "2023-03-22T09:50:49.834Z"
   },
   {
    "duration": 4,
    "start_time": "2023-03-22T09:50:56.929Z"
   },
   {
    "duration": 109,
    "start_time": "2023-03-22T09:51:03.479Z"
   },
   {
    "duration": 14,
    "start_time": "2023-03-22T09:51:18.303Z"
   },
   {
    "duration": 63,
    "start_time": "2023-03-22T09:51:21.960Z"
   },
   {
    "duration": 411,
    "start_time": "2023-03-22T09:51:22.942Z"
   },
   {
    "duration": 3,
    "start_time": "2023-03-22T09:51:24.398Z"
   },
   {
    "duration": 3,
    "start_time": "2023-03-22T09:51:25.542Z"
   },
   {
    "duration": 12,
    "start_time": "2023-03-22T09:51:26.926Z"
   },
   {
    "duration": 115,
    "start_time": "2023-03-22T09:51:31.297Z"
   },
   {
    "duration": 25,
    "start_time": "2023-03-22T09:51:41.102Z"
   },
   {
    "duration": 3,
    "start_time": "2023-03-22T09:51:59.173Z"
   },
   {
    "duration": 3,
    "start_time": "2023-03-22T09:52:00.103Z"
   },
   {
    "duration": 3,
    "start_time": "2023-03-22T09:52:05.596Z"
   },
   {
    "duration": 57,
    "start_time": "2023-03-22T09:52:07.910Z"
   },
   {
    "duration": 427,
    "start_time": "2023-03-22T09:52:08.766Z"
   },
   {
    "duration": 3,
    "start_time": "2023-03-22T09:52:09.926Z"
   },
   {
    "duration": 4,
    "start_time": "2023-03-22T09:52:10.678Z"
   },
   {
    "duration": 124,
    "start_time": "2023-03-22T09:52:12.054Z"
   },
   {
    "duration": 4,
    "start_time": "2023-03-22T09:52:13.021Z"
   },
   {
    "duration": 4,
    "start_time": "2023-03-22T09:52:19.726Z"
   },
   {
    "duration": 11,
    "start_time": "2023-03-22T09:52:23.462Z"
   },
   {
    "duration": 3,
    "start_time": "2023-03-22T09:52:29.677Z"
   },
   {
    "duration": 12,
    "start_time": "2023-03-22T09:52:40.482Z"
   },
   {
    "duration": 55,
    "start_time": "2023-03-22T09:52:44.781Z"
   },
   {
    "duration": 421,
    "start_time": "2023-03-22T09:52:45.637Z"
   },
   {
    "duration": 3,
    "start_time": "2023-03-22T09:52:47.021Z"
   },
   {
    "duration": 3,
    "start_time": "2023-03-22T09:52:49.237Z"
   },
   {
    "duration": 112,
    "start_time": "2023-03-22T09:53:06.662Z"
   },
   {
    "duration": 4,
    "start_time": "2023-03-22T09:53:12.781Z"
   },
   {
    "duration": 4,
    "start_time": "2023-03-22T09:53:13.733Z"
   },
   {
    "duration": 30,
    "start_time": "2023-03-22T09:53:29.181Z"
   },
   {
    "duration": 3,
    "start_time": "2023-03-22T09:53:40.247Z"
   },
   {
    "duration": 4,
    "start_time": "2023-03-22T09:53:44.781Z"
   },
   {
    "duration": 53,
    "start_time": "2023-03-22T09:53:48.251Z"
   },
   {
    "duration": 421,
    "start_time": "2023-03-22T09:53:48.739Z"
   },
   {
    "duration": 3,
    "start_time": "2023-03-22T09:53:49.496Z"
   },
   {
    "duration": 3,
    "start_time": "2023-03-22T09:53:49.955Z"
   },
   {
    "duration": 110,
    "start_time": "2023-03-22T09:53:50.803Z"
   },
   {
    "duration": 4,
    "start_time": "2023-03-22T09:53:51.497Z"
   },
   {
    "duration": 5,
    "start_time": "2023-03-22T09:58:08.010Z"
   },
   {
    "duration": 83525,
    "start_time": "2023-03-22T09:58:35.201Z"
   },
   {
    "duration": 427,
    "start_time": "2023-03-22T10:00:04.534Z"
   },
   {
    "duration": 16729,
    "start_time": "2023-03-22T10:00:11.596Z"
   },
   {
    "duration": 596,
    "start_time": "2023-03-22T10:00:28.327Z"
   },
   {
    "duration": 15,
    "start_time": "2023-03-22T10:01:34.098Z"
   },
   {
    "duration": 2,
    "start_time": "2023-03-22T10:01:45.244Z"
   },
   {
    "duration": 67,
    "start_time": "2023-03-22T10:04:32.238Z"
   },
   {
    "duration": 70,
    "start_time": "2023-03-22T10:05:19.853Z"
   },
   {
    "duration": 15,
    "start_time": "2023-03-22T10:05:59.060Z"
   },
   {
    "duration": 681,
    "start_time": "2023-03-22T10:07:12.548Z"
   },
   {
    "duration": 19,
    "start_time": "2023-03-22T10:07:17.658Z"
   },
   {
    "duration": 18,
    "start_time": "2023-03-22T10:07:25.579Z"
   },
   {
    "duration": 16,
    "start_time": "2023-03-22T10:07:37.875Z"
   },
   {
    "duration": 14,
    "start_time": "2023-03-22T10:07:41.435Z"
   },
   {
    "duration": 18,
    "start_time": "2023-03-22T10:07:46.804Z"
   },
   {
    "duration": 18,
    "start_time": "2023-03-22T10:08:28.496Z"
   },
   {
    "duration": 4,
    "start_time": "2023-03-22T10:08:44.906Z"
   },
   {
    "duration": 16,
    "start_time": "2023-03-22T10:08:56.618Z"
   },
   {
    "duration": 1050,
    "start_time": "2023-03-22T10:10:28.442Z"
   },
   {
    "duration": 19628,
    "start_time": "2023-03-22T10:10:37.330Z"
   },
   {
    "duration": 1152,
    "start_time": "2023-03-22T10:11:20.381Z"
   },
   {
    "duration": 2294,
    "start_time": "2023-03-22T10:11:22.721Z"
   },
   {
    "duration": 819,
    "start_time": "2023-03-22T10:11:25.804Z"
   },
   {
    "duration": 765,
    "start_time": "2023-03-22T10:11:28.222Z"
   },
   {
    "duration": 513,
    "start_time": "2023-03-22T10:11:28.989Z"
   },
   {
    "duration": 401,
    "start_time": "2023-03-22T10:11:29.503Z"
   },
   {
    "duration": 64471,
    "start_time": "2023-03-22T10:11:29.906Z"
   },
   {
    "duration": 80,
    "start_time": "2023-03-22T10:12:34.378Z"
   },
   {
    "duration": 70,
    "start_time": "2023-03-22T10:12:34.460Z"
   },
   {
    "duration": 65,
    "start_time": "2023-03-22T10:12:34.531Z"
   },
   {
    "duration": 258,
    "start_time": "2023-03-22T10:12:34.598Z"
   },
   {
    "duration": 593,
    "start_time": "2023-03-22T10:12:34.857Z"
   },
   {
    "duration": 18,
    "start_time": "2023-03-22T10:12:35.451Z"
   },
   {
    "duration": 8,
    "start_time": "2023-03-22T10:12:35.472Z"
   },
   {
    "duration": 70,
    "start_time": "2023-03-22T10:12:35.481Z"
   },
   {
    "duration": 52,
    "start_time": "2023-03-22T10:12:35.553Z"
   },
   {
    "duration": 459,
    "start_time": "2023-03-22T10:12:35.621Z"
   },
   {
    "duration": 17,
    "start_time": "2023-03-22T10:12:36.082Z"
   },
   {
    "duration": 736,
    "start_time": "2023-03-22T10:12:36.100Z"
   },
   {
    "duration": 3,
    "start_time": "2023-03-22T10:12:36.837Z"
   },
   {
    "duration": 22,
    "start_time": "2023-03-22T10:12:36.842Z"
   },
   {
    "duration": 113,
    "start_time": "2023-03-22T10:12:36.865Z"
   },
   {
    "duration": 4,
    "start_time": "2023-03-22T10:12:36.979Z"
   },
   {
    "duration": 5,
    "start_time": "2023-03-22T10:13:22.904Z"
   },
   {
    "duration": 370,
    "start_time": "2023-03-22T10:15:47.630Z"
   },
   {
    "duration": 75795,
    "start_time": "2023-03-22T10:17:10.828Z"
   },
   {
    "duration": 17,
    "start_time": "2023-03-22T10:18:29.210Z"
   },
   {
    "duration": 9,
    "start_time": "2023-03-22T10:20:36.153Z"
   },
   {
    "duration": 8,
    "start_time": "2023-03-22T10:20:46.506Z"
   },
   {
    "duration": 8,
    "start_time": "2023-03-22T10:21:10.424Z"
   },
   {
    "duration": 21732,
    "start_time": "2023-03-22T10:21:39.513Z"
   },
   {
    "duration": 677,
    "start_time": "2023-03-22T10:22:01.246Z"
   },
   {
    "duration": 560,
    "start_time": "2023-03-22T10:22:05.337Z"
   },
   {
    "duration": 20312,
    "start_time": "2023-03-22T10:22:15.293Z"
   },
   {
    "duration": 3,
    "start_time": "2023-03-22T10:23:34.959Z"
   },
   {
    "duration": 3,
    "start_time": "2023-03-22T10:23:41.759Z"
   },
   {
    "duration": 3,
    "start_time": "2023-03-22T10:23:50.894Z"
   },
   {
    "duration": 3,
    "start_time": "2023-03-22T10:24:15.799Z"
   },
   {
    "duration": 4,
    "start_time": "2023-03-22T10:24:19.622Z"
   },
   {
    "duration": 72,
    "start_time": "2023-03-22T10:24:51.966Z"
   },
   {
    "duration": 27,
    "start_time": "2023-03-22T10:29:41.475Z"
   },
   {
    "duration": 28,
    "start_time": "2023-03-22T10:29:44.962Z"
   },
   {
    "duration": 12,
    "start_time": "2023-03-22T10:30:02.306Z"
   },
   {
    "duration": 27,
    "start_time": "2023-03-22T10:30:20.562Z"
   },
   {
    "duration": 8,
    "start_time": "2023-03-22T10:31:16.810Z"
   },
   {
    "duration": 21,
    "start_time": "2023-03-22T10:31:18.010Z"
   },
   {
    "duration": 22,
    "start_time": "2023-03-22T10:31:31.850Z"
   },
   {
    "duration": 115,
    "start_time": "2023-03-22T10:32:08.994Z"
   },
   {
    "duration": 8,
    "start_time": "2023-03-22T10:32:13.209Z"
   },
   {
    "duration": 25,
    "start_time": "2023-03-22T10:32:16.857Z"
   },
   {
    "duration": 18,
    "start_time": "2023-03-22T10:32:23.073Z"
   },
   {
    "duration": 2614625,
    "start_time": "2023-03-22T10:36:39.398Z"
   },
   {
    "duration": 4,
    "start_time": "2023-03-22T11:21:03.941Z"
   },
   {
    "duration": 4,
    "start_time": "2023-03-22T11:21:05.653Z"
   },
   {
    "duration": 4,
    "start_time": "2023-03-22T11:21:06.908Z"
   },
   {
    "duration": 1234,
    "start_time": "2023-03-22T11:24:42.216Z"
   },
   {
    "duration": 3,
    "start_time": "2023-03-22T11:24:43.451Z"
   },
   {
    "duration": 868,
    "start_time": "2023-03-22T11:24:43.456Z"
   },
   {
    "duration": 603,
    "start_time": "2023-03-22T11:24:44.325Z"
   },
   {
    "duration": 471,
    "start_time": "2023-03-22T11:24:44.930Z"
   },
   {
    "duration": 66566,
    "start_time": "2023-03-22T11:24:45.403Z"
   },
   {
    "duration": 101,
    "start_time": "2023-03-22T11:25:51.994Z"
   },
   {
    "duration": 81,
    "start_time": "2023-03-22T11:25:52.097Z"
   },
   {
    "duration": 78,
    "start_time": "2023-03-22T11:25:52.180Z"
   },
   {
    "duration": 257,
    "start_time": "2023-03-22T11:25:52.261Z"
   },
   {
    "duration": 606,
    "start_time": "2023-03-22T11:25:52.521Z"
   },
   {
    "duration": 19,
    "start_time": "2023-03-22T11:25:53.129Z"
   },
   {
    "duration": 8,
    "start_time": "2023-03-22T11:25:53.149Z"
   },
   {
    "duration": 73,
    "start_time": "2023-03-22T11:25:53.160Z"
   },
   {
    "duration": 52,
    "start_time": "2023-03-22T11:25:53.234Z"
   },
   {
    "duration": 448,
    "start_time": "2023-03-22T11:25:53.288Z"
   },
   {
    "duration": 14,
    "start_time": "2023-03-22T11:25:53.737Z"
   },
   {
    "duration": 707,
    "start_time": "2023-03-22T11:25:53.752Z"
   },
   {
    "duration": 3,
    "start_time": "2023-03-22T11:25:54.461Z"
   },
   {
    "duration": 7,
    "start_time": "2023-03-22T11:25:54.465Z"
   },
   {
    "duration": 124,
    "start_time": "2023-03-22T11:25:54.474Z"
   },
   {
    "duration": 4,
    "start_time": "2023-03-22T11:25:54.599Z"
   },
   {
    "duration": 491,
    "start_time": "2023-03-22T11:25:54.605Z"
   },
   {
    "duration": 3,
    "start_time": "2023-03-22T11:25:55.097Z"
   },
   {
    "duration": 421,
    "start_time": "2023-03-22T11:25:55.102Z"
   },
   {
    "duration": 270,
    "start_time": "2023-03-22T11:25:55.525Z"
   },
   {
    "duration": 6,
    "start_time": "2023-03-22T11:25:55.796Z"
   },
   {
    "duration": 2051,
    "start_time": "2023-03-22T11:29:14.544Z"
   },
   {
    "duration": 3,
    "start_time": "2023-03-22T11:29:16.598Z"
   },
   {
    "duration": 1220,
    "start_time": "2023-03-22T11:29:16.605Z"
   },
   {
    "duration": 606,
    "start_time": "2023-03-22T11:29:17.827Z"
   },
   {
    "duration": 459,
    "start_time": "2023-03-22T11:29:18.435Z"
   },
   {
    "duration": 67165,
    "start_time": "2023-03-22T11:29:18.896Z"
   },
   {
    "duration": 133,
    "start_time": "2023-03-22T11:30:26.063Z"
   },
   {
    "duration": 115,
    "start_time": "2023-03-22T11:30:26.201Z"
   },
   {
    "duration": 116,
    "start_time": "2023-03-22T11:30:26.321Z"
   },
   {
    "duration": 275,
    "start_time": "2023-03-22T11:30:26.440Z"
   },
   {
    "duration": 710,
    "start_time": "2023-03-22T11:30:26.722Z"
   },
   {
    "duration": 19,
    "start_time": "2023-03-22T11:30:27.434Z"
   },
   {
    "duration": 9,
    "start_time": "2023-03-22T11:30:27.455Z"
   },
   {
    "duration": 76,
    "start_time": "2023-03-22T11:30:27.465Z"
   },
   {
    "duration": 53,
    "start_time": "2023-03-22T11:30:27.543Z"
   },
   {
    "duration": 464,
    "start_time": "2023-03-22T11:30:27.598Z"
   },
   {
    "duration": 19,
    "start_time": "2023-03-22T11:30:28.064Z"
   },
   {
    "duration": 702,
    "start_time": "2023-03-22T11:30:28.085Z"
   },
   {
    "duration": 3,
    "start_time": "2023-03-22T11:30:28.788Z"
   },
   {
    "duration": 8,
    "start_time": "2023-03-22T11:30:28.793Z"
   },
   {
    "duration": 121,
    "start_time": "2023-03-22T11:30:28.803Z"
   },
   {
    "duration": 4,
    "start_time": "2023-03-22T11:30:28.926Z"
   },
   {
    "duration": 14,
    "start_time": "2023-03-22T11:30:28.932Z"
   },
   {
    "duration": 222879,
    "start_time": "2023-03-22T11:30:28.947Z"
   },
   {
    "duration": 30724,
    "start_time": "2023-03-22T11:34:11.828Z"
   },
   {
    "duration": 582,
    "start_time": "2023-03-22T11:34:42.553Z"
   },
   {
    "duration": 21605,
    "start_time": "2023-03-22T11:34:43.222Z"
   },
   {
    "duration": 4,
    "start_time": "2023-03-22T11:35:04.829Z"
   },
   {
    "duration": 33,
    "start_time": "2023-03-22T11:35:04.836Z"
   },
   {
    "duration": 261,
    "start_time": "2023-03-22T11:37:08.554Z"
   }
  ],
  "kernelspec": {
   "display_name": "Python 3 (ipykernel)",
   "language": "python",
   "name": "python3"
  },
  "language_info": {
   "codemirror_mode": {
    "name": "ipython",
    "version": 3
   },
   "file_extension": ".py",
   "mimetype": "text/x-python",
   "name": "python",
   "nbconvert_exporter": "python",
   "pygments_lexer": "ipython3",
   "version": "3.10.9"
  },
  "toc": {
   "base_numbering": 1,
   "nav_menu": {},
   "number_sections": true,
   "sideBar": true,
   "skip_h1_title": true,
   "title_cell": "Table of Contents",
   "title_sidebar": "Contents",
   "toc_cell": false,
   "toc_position": {},
   "toc_section_display": true,
   "toc_window_display": false
  }
 },
 "nbformat": 4,
 "nbformat_minor": 2
}
