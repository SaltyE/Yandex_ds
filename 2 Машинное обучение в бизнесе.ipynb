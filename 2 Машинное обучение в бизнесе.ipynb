{
 "cells": [
  {
   "cell_type": "markdown",
   "metadata": {},
   "source": [
    "# Выбор локации для скважины"
   ]
  },
  {
   "cell_type": "markdown",
   "metadata": {},
   "source": [
    "Допустим, вы работаете в добывающей компании «ГлавРосГосНефть». Нужно решить, где бурить новую скважину.\n",
    "\n",
    "Вам предоставлены пробы нефти в трёх регионах: в каждом 10 000 месторождений, где измерили качество нефти и объём её запасов. Постройте модель машинного обучения, которая поможет определить регион, где добыча принесёт наибольшую прибыль. Проанализируйте возможную прибыль и риски техникой *Bootstrap.*\n",
    "\n",
    "Шаги для выбора локации:\n",
    "\n",
    "- В избранном регионе ищут месторождения, для каждого определяют значения признаков;\n",
    "- Строят модель и оценивают объём запасов;\n",
    "- Выбирают месторождения с самым высокими оценками значений. Количество месторождений зависит от бюджета компании и стоимости разработки одной скважины;\n",
    "- Прибыль равна суммарной прибыли отобранных месторождений."
   ]
  },
  {
   "cell_type": "markdown",
   "metadata": {},
   "source": [
    "## Загрузка и подготовка данных"
   ]
  },
  {
   "cell_type": "markdown",
   "metadata": {},
   "source": [
    "Этапы работы:\n",
    "изучить данные, обучить модель для каждого региона, написать функцию расчета прибыли, посчитать прибыль и риски."
   ]
  },
  {
   "cell_type": "code",
   "execution_count": 1,
   "metadata": {},
   "outputs": [],
   "source": [
    "import matplotlib.pyplot as plt\n",
    "import seaborn as sns\n",
    "import numpy as np\n",
    "import pandas as pd\n",
    "from sklearn.model_selection import train_test_split\n",
    "from sklearn.linear_model import LinearRegression\n",
    "from sklearn.metrics import mean_squared_error\n",
    "from sklearn.preprocessing import StandardScaler\n",
    "from sklearn.utils import shuffle\n",
    "from sklearn.model_selection import GridSearchCV"
   ]
  },
  {
   "cell_type": "code",
   "execution_count": 2,
   "metadata": {},
   "outputs": [],
   "source": [
    "try:\n",
    "    data_1 = pd.read_csv('C:/Users/user/Downloads/geo_data_0.csv')\n",
    "    data_2 = pd.read_csv('C:/Users/user/Downloads/geo_data_1.csv')\n",
    "    data_3 = pd.read_csv('C:/Users/user/Downloads/geo_data_2.csv')\n",
    "except:\n",
    "    data_1 = pd.read_csv('/datasets/geo_data_0.csv')\n",
    "    data_2 = pd.read_csv('/datasets/geo_data_1.csv')\n",
    "    data_3 = pd.read_csv('/datasets/geo_data_2.csv')"
   ]
  },
  {
   "cell_type": "code",
   "execution_count": 3,
   "metadata": {},
   "outputs": [
    {
     "name": "stdout",
     "output_type": "stream",
     "text": [
      "<class 'pandas.core.frame.DataFrame'>\n",
      "RangeIndex: 100000 entries, 0 to 99999\n",
      "Data columns (total 5 columns):\n",
      " #   Column   Non-Null Count   Dtype  \n",
      "---  ------   --------------   -----  \n",
      " 0   id       100000 non-null  object \n",
      " 1   f0       100000 non-null  float64\n",
      " 2   f1       100000 non-null  float64\n",
      " 3   f2       100000 non-null  float64\n",
      " 4   product  100000 non-null  float64\n",
      "dtypes: float64(4), object(1)\n",
      "memory usage: 3.8+ MB\n",
      "None id         0\n",
      "f0         0\n",
      "f1         0\n",
      "f2         0\n",
      "product    0\n",
      "dtype: int64\n",
      "<class 'pandas.core.frame.DataFrame'>\n",
      "RangeIndex: 100000 entries, 0 to 99999\n",
      "Data columns (total 5 columns):\n",
      " #   Column   Non-Null Count   Dtype  \n",
      "---  ------   --------------   -----  \n",
      " 0   id       100000 non-null  object \n",
      " 1   f0       100000 non-null  float64\n",
      " 2   f1       100000 non-null  float64\n",
      " 3   f2       100000 non-null  float64\n",
      " 4   product  100000 non-null  float64\n",
      "dtypes: float64(4), object(1)\n",
      "memory usage: 3.8+ MB\n",
      "None id         0\n",
      "f0         0\n",
      "f1         0\n",
      "f2         0\n",
      "product    0\n",
      "dtype: int64\n",
      "<class 'pandas.core.frame.DataFrame'>\n",
      "RangeIndex: 100000 entries, 0 to 99999\n",
      "Data columns (total 5 columns):\n",
      " #   Column   Non-Null Count   Dtype  \n",
      "---  ------   --------------   -----  \n",
      " 0   id       100000 non-null  object \n",
      " 1   f0       100000 non-null  float64\n",
      " 2   f1       100000 non-null  float64\n",
      " 3   f2       100000 non-null  float64\n",
      " 4   product  100000 non-null  float64\n",
      "dtypes: float64(4), object(1)\n",
      "memory usage: 3.8+ MB\n",
      "None id         0\n",
      "f0         0\n",
      "f1         0\n",
      "f2         0\n",
      "product    0\n",
      "dtype: int64\n"
     ]
    }
   ],
   "source": [
    "print(data_1.info(), data_1.isna().sum())\n",
    "print(data_2.info(), data_2.isna().sum())\n",
    "print(data_3.info(), data_3.isna().sum())"
   ]
  },
  {
   "cell_type": "code",
   "execution_count": 4,
   "metadata": {},
   "outputs": [
    {
     "name": "stdout",
     "output_type": "stream",
     "text": [
      "0\n",
      "0\n",
      "0\n"
     ]
    }
   ],
   "source": [
    "print(data_1.duplicated().sum())\n",
    "print(data_2.duplicated().sum())\n",
    "print(data_3.duplicated().sum())"
   ]
  },
  {
   "cell_type": "markdown",
   "metadata": {},
   "source": [
    "Пропусков нет. Дубликатов тоже. Есть ненужный столбец - id. Посмотрим на распределение признаков."
   ]
  },
  {
   "cell_type": "code",
   "execution_count": 5,
   "metadata": {},
   "outputs": [],
   "source": [
    "data_1 = data_1.drop(['id'],axis=1)\n",
    "data_2 = data_2.drop(['id'],axis=1)\n",
    "data_3 = data_3.drop(['id'],axis=1)"
   ]
  },
  {
   "cell_type": "code",
   "execution_count": 6,
   "metadata": {},
   "outputs": [
    {
     "data": {
      "image/png": "[encoded data removed]",
      "text/plain": [
       "<Figure size 432x288 with 1 Axes>"
      ]
     },
     "metadata": {
      "needs_background": "light"
     },
     "output_type": "display_data"
    },
    {
     "data": {
      "image/png": "[encoded data removed]",
      "text/plain": [
       "<Figure size 432x288 with 1 Axes>"
      ]
     },
     "metadata": {
      "needs_background": "light"
     },
     "output_type": "display_data"
    },
    {
     "data": {
      "image/png": "[encoded data removed]",
      "text/plain": [
       "<Figure size 432x288 with 1 Axes>"
      ]
     },
     "metadata": {
      "needs_background": "light"
     },
     "output_type": "display_data"
    },
    {
     "data": {
      "image/png": "[encoded data removed]",
      "text/plain": [
       "<Figure size 432x288 with 1 Axes>"
      ]
     },
     "metadata": {
      "needs_background": "light"
     },
     "output_type": "display_data"
    }
   ],
   "source": [
    "sns.histplot(data_1['f0'])\n",
    "plt.show()\n",
    "sns.histplot(data_1['f1'])\n",
    "plt.show()\n",
    "sns.histplot(data_1['f2'])\n",
    "plt.show()\n",
    "sns.histplot(data_1['product'])\n",
    "plt.show()"
   ]
  },
  {
   "cell_type": "code",
   "execution_count": 7,
   "metadata": {},
   "outputs": [
    {
     "data": {
      "image/png": "[encoded data removed]",
      "text/plain": [
       "<Figure size 432x288 with 1 Axes>"
      ]
     },
     "metadata": {
      "needs_background": "light"
     },
     "output_type": "display_data"
    },
    {
     "data": {
      "image/png": "[encoded data removed]",
      "text/plain": [
       "<Figure size 432x288 with 1 Axes>"
      ]
     },
     "metadata": {
      "needs_background": "light"
     },
     "output_type": "display_data"
    },
    {
     "data": {
      "image/png": "[encoded data removed]",
      "text/plain": [
       "<Figure size 432x288 with 1 Axes>"
      ]
     },
     "metadata": {
      "needs_background": "light"
     },
     "output_type": "display_data"
    },
    {
     "data": {
      "image/png": "[encoded data removed]",
      "text/plain": [
       "<Figure size 432x288 with 1 Axes>"
      ]
     },
     "metadata": {
      "needs_background": "light"
     },
     "output_type": "display_data"
    }
   ],
   "source": [
    "sns.histplot(data_2['f0'])\n",
    "plt.show()\n",
    "sns.histplot(data_2['f1'])\n",
    "plt.show()\n",
    "sns.histplot(data_2['f2'])\n",
    "plt.show()\n",
    "sns.histplot(data_2['product'])\n",
    "plt.show()"
   ]
  },
  {
   "cell_type": "code",
   "execution_count": 8,
   "metadata": {},
   "outputs": [
    {
     "data": {
      "image/png": "[encoded data removed]",
      "text/plain": [
       "<Figure size 432x288 with 1 Axes>"
      ]
     },
     "metadata": {
      "needs_background": "light"
     },
     "output_type": "display_data"
    },
    {
     "data": {
      "image/png": "[encoded data removed]",
      "text/plain": [
       "<Figure size 432x288 with 1 Axes>"
      ]
     },
     "metadata": {
      "needs_background": "light"
     },
     "output_type": "display_data"
    },
    {
     "data": {
      "image/png": "[encoded data removed]",
      "text/plain": [
       "<Figure size 432x288 with 1 Axes>"
      ]
     },
     "metadata": {
      "needs_background": "light"
     },
     "output_type": "display_data"
    },
    {
     "data": {
      "image/png": "[encoded data removed]",
      "text/plain": [
       "<Figure size 432x288 with 1 Axes>"
      ]
     },
     "metadata": {
      "needs_background": "light"
     },
     "output_type": "display_data"
    }
   ],
   "source": [
    "sns.histplot(data_3['f0'])\n",
    "plt.show()\n",
    "sns.histplot(data_3['f1'])\n",
    "plt.show()\n",
    "sns.histplot(data_3['f2'])\n",
    "plt.show()\n",
    "sns.histplot(data_3['product'])\n",
    "plt.show()"
   ]
  },
  {
   "cell_type": "markdown",
   "metadata": {},
   "source": [
    "Распределение многих признаков отличается от нормального. Маштабы признаков несильно отличаются. Пока оставим признаки как есть.\n",
    "\n",
    "Вывод: данные загружены и проверенны: дубликатов, пропусков нет, типы данных соотвутствуют. Распределение некоторых признаков отличается от нормального."
   ]
  },
  {
   "cell_type": "markdown",
   "metadata": {},
   "source": [
    "## Обучение и проверка модели"
   ]
  },
  {
   "cell_type": "markdown",
   "metadata": {},
   "source": [
    "Разделим данные на выборки и обучим модели."
   ]
  },
  {
   "cell_type": "code",
   "execution_count": 9,
   "metadata": {},
   "outputs": [
    {
     "name": "stdout",
     "output_type": "stream",
     "text": [
      "Размер тренериующей выборки 75000\n",
      "Размер валидационной выборки 25000\n"
     ]
    }
   ],
   "source": [
    "def test_split(data, target):\n",
    "    features = data.drop([target] , axis=1)\n",
    "    target = data[target]\n",
    "\n",
    "    features_train, features_valid, target_train, target_valid = train_test_split(\n",
    "    features, target, test_size=0.25, random_state=12345)\n",
    "    \n",
    "    return features_train, features_valid, target_train, target_valid\n",
    "\n",
    "features_train_1, features_valid_1, target_train_1, target_valid_1 = test_split(data_1,'product')\n",
    "features_train_2, features_valid_2, target_train_2, target_valid_2 = test_split(data_2,'product')\n",
    "features_train_3, features_valid_3, target_train_3, target_valid_3 = test_split(data_3,'product')\n",
    "print('Размер тренериующей выборки', features_train_1.shape[0])\n",
    "print('Размер валидационной выборки', features_valid_1.shape[0])"
   ]
  },
  {
   "cell_type": "code",
   "execution_count": 10,
   "metadata": {},
   "outputs": [
    {
     "name": "stdout",
     "output_type": "stream",
     "text": [
      "rmse 37.5794217150813 средний запас предсказанного сырья 92.59256778438035\n"
     ]
    }
   ],
   "source": [
    "model = LinearRegression()\n",
    "model.fit(features_train_1, target_train_1)\n",
    "predict_1 = model.predict(features_valid_1)\n",
    "rmse_1 = mean_squared_error(target_valid_1, predict_1)**0.5\n",
    "predict_mean = predict_1.mean()\n",
    "print('rmse',rmse_1,'средний запас предсказанного сырья',predict_mean)\n"
   ]
  },
  {
   "cell_type": "code",
   "execution_count": 11,
   "metadata": {},
   "outputs": [
    {
     "name": "stdout",
     "output_type": "stream",
     "text": [
      "rmse 0.893099286775617 средний запас предсказанного сырья 68.728546895446\n"
     ]
    }
   ],
   "source": [
    "model = LinearRegression()\n",
    "model.fit(features_train_2, target_train_2)\n",
    "predict_2 = model.predict(features_valid_2)\n",
    "rmse_2 = mean_squared_error(target_valid_2, predict_2)**0.5\n",
    "predict_mean = predict_2.mean()\n",
    "print('rmse',rmse_2,'средний запас предсказанного сырья',predict_mean)"
   ]
  },
  {
   "cell_type": "code",
   "execution_count": 12,
   "metadata": {},
   "outputs": [
    {
     "name": "stdout",
     "output_type": "stream",
     "text": [
      "rmse 40.02970873393434 средний запас предсказанного сырья 94.96504596800489\n"
     ]
    }
   ],
   "source": [
    "model = LinearRegression()\n",
    "model.fit(features_train_3, target_train_3)\n",
    "predict_3 = model.predict(features_valid_3)\n",
    "rmse_3 = mean_squared_error(target_valid_3, predict_3)**0.5\n",
    "predict_mean = predict_3.mean()\n",
    "print('rmse',rmse_3,'средний запас предсказанного сырья',predict_mean)"
   ]
  },
  {
   "cell_type": "markdown",
   "metadata": {},
   "source": [
    "Вывод: Лучше всего модель предсказала количество запасов во втором регионе (rmse- 0.89), но среднего количество сырья там меньше чем в 1 и 3 регионе"
   ]
  },
  {
   "cell_type": "markdown",
   "metadata": {},
   "source": [
    "## Подготовка к расчёту прибыли"
   ]
  },
  {
   "cell_type": "markdown",
   "metadata": {},
   "source": [
    "Рассчитаем достаточный объём сырья для безубыточной разработки новой скважины. Сравним полученный объём сырья со средним запасом в каждом регионе.\n",
    "\n",
    "При разведке региона исследуют 500 точек, из которых с помощью машинного обучения выбирают 200 лучших для разработки.\n",
    "Бюджет на разработку скважин в регионе — 10 млрд рублей.\n",
    "При нынешних ценах один баррель сырья приносит 450 рублей дохода. Доход с каждой единицы продукта составляет 450 тыс. рублей, поскольку объём указан в тысячах баррелей. "
   ]
  },
  {
   "cell_type": "code",
   "execution_count": 13,
   "metadata": {},
   "outputs": [],
   "source": [
    "budget = 10000000\n",
    "places = 500\n",
    "best_places = 200\n",
    "unit_price = 450"
   ]
  },
  {
   "cell_type": "code",
   "execution_count": 14,
   "metadata": {},
   "outputs": [
    {
     "name": "stdout",
     "output_type": "stream",
     "text": [
      "111.11111111111111\n"
     ]
    }
   ],
   "source": [
    "min_v = budget / (best_places * unit_price)\n",
    "print(min_v)"
   ]
  },
  {
   "cell_type": "markdown",
   "metadata": {},
   "source": [
    "Для первого и третьего региона- высокая вероятность окупить затраты. Разброс значений вокруг среднего 92.5 и 95 говорит нам о том, что существует достаточно много скважин, где запасы больше необходимого среднего.\n",
    "\n",
    "Во втором регионе тоже может быть достаточно скважин со значением выше 111. Хотя среднее значения 68.7."
   ]
  },
  {
   "cell_type": "markdown",
   "metadata": {},
   "source": [
    "## Расчёт прибыли и рисков "
   ]
  },
  {
   "cell_type": "markdown",
   "metadata": {},
   "source": [
    "Подготовим данные для работы функции."
   ]
  },
  {
   "cell_type": "code",
   "execution_count": 15,
   "metadata": {},
   "outputs": [],
   "source": [
    "predict_1 = pd.Series(predict_1)\n",
    "predict_2 = pd.Series(predict_2)\n",
    "predict_3 = pd.Series(predict_3)"
   ]
  },
  {
   "cell_type": "code",
   "execution_count": 16,
   "metadata": {},
   "outputs": [],
   "source": [
    "target_valid_1 = pd.Series(target_valid_1).reset_index(drop=True)\n",
    "target_valid_2 = pd.Series(target_valid_2).reset_index(drop=True)\n",
    "target_valid_3 = pd.Series(target_valid_3).reset_index(drop=True)"
   ]
  },
  {
   "cell_type": "code",
   "execution_count": 17,
   "metadata": {},
   "outputs": [],
   "source": [
    "def revenue(target, prob, count):\n",
    "    probs_sorted = prob.sort_values(ascending=False)\n",
    "    selected = target[probs_sorted.index][:count]\n",
    "    v = selected.sum()\n",
    "    return v * unit_price - budget"
   ]
  },
  {
   "cell_type": "markdown",
   "metadata": {},
   "source": [
    "Это функция для расчета прибыли скважин с максимальными значениями предсказаний.\n",
    "\n",
    "Далее -Посчитаем риски и прибыль для каждого региона"
   ]
  },
  {
   "cell_type": "code",
   "execution_count": 18,
   "metadata": {},
   "outputs": [],
   "source": [
    "state = np.random.RandomState(12345)\n",
    "\n",
    "def boots(target, probs):\n",
    "    values = []\n",
    "    for i in range(1000):\n",
    "        target_sample = target.sample(n=places,random_state=state,replace=True)\n",
    "        probs_sample = probs[target_sample.index]\n",
    "        values.append(revenue(target,probs_sample,best_places))\n",
    "        \n",
    "    values = pd.Series(values)\n",
    "    lower = values.quantile(0.025)\n",
    "    upper = values.quantile(0.975)\n",
    "    risk = (values < 0).sum() / 1000\n",
    "    \n",
    "    return values.sum(), lower, upper, risk"
   ]
  },
  {
   "cell_type": "code",
   "execution_count": 19,
   "metadata": {},
   "outputs": [
    {
     "name": "stdout",
     "output_type": "stream",
     "text": [
      "Средняя прибыль по региону = 396164984.80 тыс.руб.\n",
      "95% доверительный интервал от -111215.55 до 909766.94 тыс.руб.\n",
      "Процент риска 6.90%\n"
     ]
    }
   ],
   "source": [
    "average_1, lower_1, upper_1, risk_1 = boots(target_valid_1, predict_1)\n",
    "print('Средняя прибыль по региону = {:.2f} тыс.руб.'.format(average_1))\n",
    "print('95% доверительный интервал от {:.2f} до {:.2f} тыс.руб.'.format(lower_1, upper_1))\n",
    "print('Процент риска {:.2%}'.format(risk_1))"
   ]
  },
  {
   "cell_type": "code",
   "execution_count": 20,
   "metadata": {},
   "outputs": [
    {
     "name": "stdout",
     "output_type": "stream",
     "text": [
      "Средняя прибыль по региону = 461155817.28 тыс.руб.\n",
      "95% доверительный интервал от 78050.81 до 862952.06 тыс.руб.\n",
      "Процент риска 0.70%\n"
     ]
    }
   ],
   "source": [
    "average_2, lower_2, upper_2, risk_2 = boots(target_valid_2, predict_2)\n",
    "print('Средняя прибыль по региону = {:.2f} тыс.руб.'.format(average_2))\n",
    "print('95% доверительный интервал от {:.2f} до {:.2f} тыс.руб.'.format(lower_2, upper_2))\n",
    "print('Процент риска {:.2%}'.format(risk_2))"
   ]
  },
  {
   "cell_type": "code",
   "execution_count": 21,
   "metadata": {},
   "outputs": [
    {
     "name": "stdout",
     "output_type": "stream",
     "text": [
      "Средняя прибыль по региону = 392950475.17 тыс.руб.\n",
      "95% доверительный интервал от -112227.63 до 934562.91 тыс.руб.\n",
      "Процент риска 6.50%\n"
     ]
    }
   ],
   "source": [
    "average_3, lower_3, upper_3, risk_3 = boots(target_valid_3, predict_3)\n",
    "print('Средняя прибыль по региону = {:.2f} тыс.руб.'.format(average_3))\n",
    "print('95% доверительный интервал от {:.2f} до {:.2f} тыс.руб.'.format(lower_3, upper_3))\n",
    "print('Процент риска {:.2%}'.format(risk_3))"
   ]
  },
  {
   "cell_type": "markdown",
   "metadata": {},
   "source": [
    "Вывод: Первый и третий регион имеют достаточно высокий процент риска. Наилучший вариант - 2 регион. В нем средняя прибыль выше всего, процент риска 0.7, а доверительный интервал показывает, что даже при самом неудачном стечении обстоятельств - проект окупится."
   ]
  }
 ],
 "metadata": {
  "ExecuteTimeLog": [
   {
    "duration": 1453,
    "start_time": "2023-01-24T14:57:00.448Z"
   },
   {
    "duration": 911,
    "start_time": "2023-01-24T14:57:04.229Z"
   },
   {
    "duration": 19,
    "start_time": "2023-01-24T14:57:31.517Z"
   },
   {
    "duration": 19,
    "start_time": "2023-01-24T14:57:51.404Z"
   },
   {
    "duration": 13,
    "start_time": "2023-01-24T14:58:09.862Z"
   },
   {
    "duration": 19,
    "start_time": "2023-01-24T14:58:21.207Z"
   },
   {
    "duration": 45,
    "start_time": "2023-01-24T14:58:48.600Z"
   },
   {
    "duration": 121,
    "start_time": "2023-01-24T14:59:25.774Z"
   },
   {
    "duration": 15,
    "start_time": "2023-01-24T14:59:42.934Z"
   },
   {
    "duration": 12,
    "start_time": "2023-01-24T14:59:46.006Z"
   },
   {
    "duration": 126,
    "start_time": "2023-01-24T15:01:23.237Z"
   },
   {
    "duration": 12,
    "start_time": "2023-01-24T15:01:31.085Z"
   },
   {
    "duration": 13,
    "start_time": "2023-01-24T15:01:36.852Z"
   },
   {
    "duration": 13,
    "start_time": "2023-01-24T15:01:53.445Z"
   },
   {
    "duration": 14,
    "start_time": "2023-01-24T15:02:08.956Z"
   },
   {
    "duration": 8,
    "start_time": "2023-01-24T15:02:17.814Z"
   },
   {
    "duration": 370,
    "start_time": "2023-01-24T15:02:31.761Z"
   },
   {
    "duration": 8,
    "start_time": "2023-01-24T15:02:36.449Z"
   },
   {
    "duration": 12,
    "start_time": "2023-01-24T15:03:12.699Z"
   },
   {
    "duration": 49,
    "start_time": "2023-01-24T15:03:18.944Z"
   },
   {
    "duration": 4,
    "start_time": "2023-01-24T15:06:30.621Z"
   },
   {
    "duration": 20,
    "start_time": "2023-01-24T15:06:52.961Z"
   },
   {
    "duration": 14,
    "start_time": "2023-01-24T15:09:46.813Z"
   },
   {
    "duration": 16,
    "start_time": "2023-01-24T15:10:09.413Z"
   },
   {
    "duration": 377,
    "start_time": "2023-01-24T15:10:21.115Z"
   },
   {
    "duration": 15,
    "start_time": "2023-01-24T15:10:24.019Z"
   },
   {
    "duration": 1419,
    "start_time": "2023-01-24T15:22:30.620Z"
   },
   {
    "duration": 1218,
    "start_time": "2023-01-24T15:22:32.041Z"
   },
   {
    "duration": 59,
    "start_time": "2023-01-24T15:22:33.260Z"
   },
   {
    "duration": 130,
    "start_time": "2023-01-24T15:22:33.321Z"
   },
   {
    "duration": 15,
    "start_time": "2023-01-24T15:22:33.452Z"
   },
   {
    "duration": 93,
    "start_time": "2023-01-24T15:22:47.524Z"
   },
   {
    "duration": 79,
    "start_time": "2023-01-24T15:23:04.834Z"
   },
   {
    "duration": 21,
    "start_time": "2023-01-24T15:23:08.986Z"
   },
   {
    "duration": 292,
    "start_time": "2023-01-24T15:23:13.163Z"
   },
   {
    "duration": 518,
    "start_time": "2023-01-24T15:24:42.391Z"
   },
   {
    "duration": 14,
    "start_time": "2023-01-24T15:24:54.011Z"
   },
   {
    "duration": 1231,
    "start_time": "2023-01-24T15:25:07.482Z"
   },
   {
    "duration": 1178,
    "start_time": "2023-01-24T15:25:31.065Z"
   },
   {
    "duration": 1312,
    "start_time": "2023-01-24T15:26:20.609Z"
   },
   {
    "duration": 16,
    "start_time": "2023-01-25T08:07:07.883Z"
   },
   {
    "duration": 367,
    "start_time": "2023-01-25T08:07:08.523Z"
   },
   {
    "duration": 45,
    "start_time": "2023-01-25T08:07:08.933Z"
   },
   {
    "duration": 124,
    "start_time": "2023-01-25T08:07:09.387Z"
   },
   {
    "duration": 21,
    "start_time": "2023-01-25T08:07:10.275Z"
   },
   {
    "duration": 1175,
    "start_time": "2023-01-25T08:07:10.700Z"
   },
   {
    "duration": 1217,
    "start_time": "2023-01-25T08:07:12.014Z"
   },
   {
    "duration": 4,
    "start_time": "2023-01-25T08:15:10.773Z"
   },
   {
    "duration": 13,
    "start_time": "2023-01-25T08:16:49.622Z"
   },
   {
    "duration": 19,
    "start_time": "2023-01-25T08:16:55.341Z"
   },
   {
    "duration": 19,
    "start_time": "2023-01-25T08:17:06.254Z"
   },
   {
    "duration": 14,
    "start_time": "2023-01-25T08:17:16.550Z"
   },
   {
    "duration": 17,
    "start_time": "2023-01-25T08:40:16.998Z"
   },
   {
    "duration": 90,
    "start_time": "2023-01-25T08:42:06.602Z"
   },
   {
    "duration": 12,
    "start_time": "2023-01-25T08:42:14.863Z"
   },
   {
    "duration": 2,
    "start_time": "2023-01-25T08:43:06.959Z"
   },
   {
    "duration": 12,
    "start_time": "2023-01-25T08:45:28.807Z"
   },
   {
    "duration": 13,
    "start_time": "2023-01-25T08:45:36.788Z"
   },
   {
    "duration": 387,
    "start_time": "2023-01-25T08:47:21.514Z"
   },
   {
    "duration": 462,
    "start_time": "2023-01-25T08:47:42.933Z"
   },
   {
    "duration": 383,
    "start_time": "2023-01-25T08:48:15.012Z"
   },
   {
    "duration": 363,
    "start_time": "2023-01-25T08:48:32.436Z"
   },
   {
    "duration": 293,
    "start_time": "2023-01-25T08:48:42.902Z"
   },
   {
    "duration": 5,
    "start_time": "2023-01-25T08:49:05.731Z"
   },
   {
    "duration": 258,
    "start_time": "2023-01-25T08:49:10.739Z"
   },
   {
    "duration": 597,
    "start_time": "2023-01-25T08:49:49.997Z"
   },
   {
    "duration": 536,
    "start_time": "2023-01-25T08:50:21.267Z"
   },
   {
    "duration": 284,
    "start_time": "2023-01-25T08:50:26.115Z"
   },
   {
    "duration": 393,
    "start_time": "2023-01-25T08:50:39.210Z"
   },
   {
    "duration": 309,
    "start_time": "2023-01-25T08:51:01.779Z"
   },
   {
    "duration": 275,
    "start_time": "2023-01-25T08:53:41.913Z"
   },
   {
    "duration": 9,
    "start_time": "2023-01-25T08:54:47.465Z"
   },
   {
    "duration": 644,
    "start_time": "2023-01-25T08:55:04.044Z"
   },
   {
    "duration": 37,
    "start_time": "2023-01-25T08:56:41.072Z"
   },
   {
    "duration": 558,
    "start_time": "2023-01-25T08:56:54.743Z"
   },
   {
    "duration": 41,
    "start_time": "2023-01-25T09:05:22.153Z"
   },
   {
    "duration": 19,
    "start_time": "2023-01-25T09:05:59.404Z"
   },
   {
    "duration": 28,
    "start_time": "2023-01-25T09:06:17.280Z"
   },
   {
    "duration": 18,
    "start_time": "2023-01-25T09:06:21.576Z"
   },
   {
    "duration": 23,
    "start_time": "2023-01-25T09:06:43.968Z"
   },
   {
    "duration": 42,
    "start_time": "2023-01-25T09:08:06.035Z"
   },
   {
    "duration": 52,
    "start_time": "2023-01-25T12:09:02.267Z"
   },
   {
    "duration": 1633,
    "start_time": "2023-01-25T12:09:07.707Z"
   },
   {
    "duration": 988,
    "start_time": "2023-01-25T12:09:09.342Z"
   },
   {
    "duration": 61,
    "start_time": "2023-01-25T12:09:10.332Z"
   },
   {
    "duration": 149,
    "start_time": "2023-01-25T12:09:10.396Z"
   },
   {
    "duration": 18,
    "start_time": "2023-01-25T12:09:10.547Z"
   },
   {
    "duration": 1258,
    "start_time": "2023-01-25T12:09:10.567Z"
   },
   {
    "duration": 1147,
    "start_time": "2023-01-25T12:09:11.827Z"
   },
   {
    "duration": 1480,
    "start_time": "2023-01-25T12:09:12.976Z"
   },
   {
    "duration": 46,
    "start_time": "2023-01-25T12:09:14.458Z"
   },
   {
    "duration": 18,
    "start_time": "2023-01-25T12:09:14.506Z"
   },
   {
    "duration": 805,
    "start_time": "2023-01-25T12:09:14.585Z"
   },
   {
    "duration": 46,
    "start_time": "2023-01-25T12:09:39.041Z"
   },
   {
    "duration": 19,
    "start_time": "2023-01-25T12:09:39.577Z"
   },
   {
    "duration": 24,
    "start_time": "2023-01-25T12:09:40.049Z"
   },
   {
    "duration": 3,
    "start_time": "2023-01-25T12:28:39.227Z"
   },
   {
    "duration": 1704,
    "start_time": "2023-01-25T15:52:35.487Z"
   },
   {
    "duration": 1580,
    "start_time": "2023-01-25T15:52:37.194Z"
   },
   {
    "duration": 57,
    "start_time": "2023-01-25T15:52:38.776Z"
   },
   {
    "duration": 151,
    "start_time": "2023-01-25T15:52:38.836Z"
   },
   {
    "duration": 17,
    "start_time": "2023-01-25T15:52:38.989Z"
   },
   {
    "duration": 1349,
    "start_time": "2023-01-25T15:52:39.008Z"
   },
   {
    "duration": 1192,
    "start_time": "2023-01-25T15:52:40.359Z"
   },
   {
    "duration": 1512,
    "start_time": "2023-01-25T15:52:41.553Z"
   },
   {
    "duration": 37,
    "start_time": "2023-01-25T15:52:43.067Z"
   },
   {
    "duration": 40,
    "start_time": "2023-01-25T15:52:43.107Z"
   },
   {
    "duration": 191,
    "start_time": "2023-01-25T15:52:43.149Z"
   },
   {
    "duration": 131,
    "start_time": "2023-01-25T15:52:43.341Z"
   },
   {
    "duration": 704,
    "start_time": "2023-01-25T15:52:43.541Z"
   },
   {
    "duration": 4,
    "start_time": "2023-01-25T15:52:44.335Z"
   },
   {
    "duration": 4,
    "start_time": "2023-01-25T15:52:58.901Z"
   },
   {
    "duration": 4,
    "start_time": "2023-01-25T15:53:12.029Z"
   },
   {
    "duration": 4,
    "start_time": "2023-01-25T15:53:29.692Z"
   },
   {
    "duration": 11,
    "start_time": "2023-01-25T15:54:58.754Z"
   },
   {
    "duration": 3,
    "start_time": "2023-01-25T15:55:26.985Z"
   },
   {
    "duration": 12,
    "start_time": "2023-01-25T15:55:29.345Z"
   },
   {
    "duration": 4,
    "start_time": "2023-01-25T15:56:07.664Z"
   },
   {
    "duration": 4,
    "start_time": "2023-01-25T15:56:39.538Z"
   },
   {
    "duration": 3,
    "start_time": "2023-01-25T15:56:39.816Z"
   },
   {
    "duration": 5,
    "start_time": "2023-01-25T15:56:40.904Z"
   },
   {
    "duration": 4,
    "start_time": "2023-01-25T15:56:41.680Z"
   },
   {
    "duration": 11,
    "start_time": "2023-01-25T15:56:42.719Z"
   },
   {
    "duration": 13,
    "start_time": "2023-01-25T15:57:08.671Z"
   },
   {
    "duration": 10,
    "start_time": "2023-01-25T15:57:09.935Z"
   },
   {
    "duration": 4,
    "start_time": "2023-01-25T16:09:19.203Z"
   },
   {
    "duration": 4,
    "start_time": "2023-01-25T16:09:52.467Z"
   },
   {
    "duration": 119,
    "start_time": "2023-01-25T16:10:46.145Z"
   },
   {
    "duration": 5,
    "start_time": "2023-01-25T16:11:00.497Z"
   },
   {
    "duration": 1121,
    "start_time": "2023-01-25T16:11:01.705Z"
   },
   {
    "duration": 1074,
    "start_time": "2023-01-25T16:11:05.984Z"
   },
   {
    "duration": 1009,
    "start_time": "2023-01-25T16:11:19.249Z"
   },
   {
    "duration": 1042,
    "start_time": "2023-01-25T16:11:40.826Z"
   },
   {
    "duration": 1072,
    "start_time": "2023-01-25T16:11:48.448Z"
   },
   {
    "duration": 1004,
    "start_time": "2023-01-25T16:12:49.688Z"
   },
   {
    "duration": 969,
    "start_time": "2023-01-25T16:12:55.208Z"
   },
   {
    "duration": 1018,
    "start_time": "2023-01-25T16:13:51.415Z"
   },
   {
    "duration": 1015,
    "start_time": "2023-01-25T16:14:36.198Z"
   },
   {
    "duration": 1009,
    "start_time": "2023-01-25T16:20:55.680Z"
   },
   {
    "duration": 5,
    "start_time": "2023-01-25T16:21:46.984Z"
   },
   {
    "duration": 1030,
    "start_time": "2023-01-25T16:21:49.096Z"
   },
   {
    "duration": 1023,
    "start_time": "2023-01-25T16:21:53.911Z"
   },
   {
    "duration": 983,
    "start_time": "2023-01-25T16:21:59.354Z"
   },
   {
    "duration": 1004,
    "start_time": "2023-01-25T16:22:11.688Z"
   },
   {
    "duration": 992,
    "start_time": "2023-01-25T16:22:15.479Z"
   },
   {
    "duration": 1006,
    "start_time": "2023-01-25T16:22:18.991Z"
   },
   {
    "duration": 1078,
    "start_time": "2023-01-25T16:22:48.183Z"
   },
   {
    "duration": 95,
    "start_time": "2023-01-25T16:22:59.942Z"
   },
   {
    "duration": 975,
    "start_time": "2023-01-25T16:23:05.524Z"
   },
   {
    "duration": 974,
    "start_time": "2023-01-25T16:23:11.022Z"
   },
   {
    "duration": 1099,
    "start_time": "2023-01-25T16:23:28.199Z"
   },
   {
    "duration": 1025,
    "start_time": "2023-01-25T16:23:34.222Z"
   },
   {
    "duration": 1041,
    "start_time": "2023-01-25T16:23:40.654Z"
   },
   {
    "duration": 1028,
    "start_time": "2023-01-25T16:23:53.873Z"
   },
   {
    "duration": 981,
    "start_time": "2023-01-25T16:24:00.367Z"
   },
   {
    "duration": 1010,
    "start_time": "2023-01-25T16:24:03.798Z"
   },
   {
    "duration": 975,
    "start_time": "2023-01-25T16:29:43.429Z"
   },
   {
    "duration": 997,
    "start_time": "2023-01-25T16:33:59.911Z"
   },
   {
    "duration": 992,
    "start_time": "2023-01-25T16:34:35.734Z"
   },
   {
    "duration": 72,
    "start_time": "2023-01-25T16:34:49.535Z"
   },
   {
    "duration": 984,
    "start_time": "2023-01-25T16:35:44.718Z"
   },
   {
    "duration": 963,
    "start_time": "2023-01-25T16:35:51.901Z"
   },
   {
    "duration": 959,
    "start_time": "2023-01-25T16:36:19.541Z"
   },
   {
    "duration": 973,
    "start_time": "2023-01-25T16:36:26.357Z"
   },
   {
    "duration": 6,
    "start_time": "2023-01-25T16:36:33.765Z"
   },
   {
    "duration": 7,
    "start_time": "2023-01-25T16:36:54.304Z"
   },
   {
    "duration": 73,
    "start_time": "2023-01-25T16:37:06.548Z"
   },
   {
    "duration": 7,
    "start_time": "2023-01-25T16:37:18.332Z"
   },
   {
    "duration": 4,
    "start_time": "2023-01-25T16:37:27.243Z"
   },
   {
    "duration": 985,
    "start_time": "2023-01-25T16:38:10.115Z"
   },
   {
    "duration": 66,
    "start_time": "2023-01-25T17:27:16.885Z"
   },
   {
    "duration": 2048,
    "start_time": "2023-01-25T17:27:33.212Z"
   },
   {
    "duration": 1799,
    "start_time": "2023-01-25T17:27:50.155Z"
   },
   {
    "duration": 18,
    "start_time": "2023-01-25T17:27:54.805Z"
   },
   {
    "duration": 38,
    "start_time": "2023-01-25T17:28:00.661Z"
   },
   {
    "duration": 38,
    "start_time": "2023-01-25T17:28:02.901Z"
   },
   {
    "duration": 16,
    "start_time": "2023-01-25T17:28:04.860Z"
   },
   {
    "duration": 17,
    "start_time": "2023-01-25T17:28:10.873Z"
   },
   {
    "duration": 3,
    "start_time": "2023-01-25T17:28:17.229Z"
   },
   {
    "duration": 5,
    "start_time": "2023-01-25T17:28:17.981Z"
   },
   {
    "duration": 5,
    "start_time": "2023-01-25T17:28:20.374Z"
   },
   {
    "duration": 5,
    "start_time": "2023-01-25T17:28:21.165Z"
   },
   {
    "duration": 4,
    "start_time": "2023-01-25T17:28:21.845Z"
   },
   {
    "duration": 15,
    "start_time": "2023-01-25T17:28:24.926Z"
   },
   {
    "duration": 12,
    "start_time": "2023-01-25T17:28:25.540Z"
   },
   {
    "duration": 10,
    "start_time": "2023-01-25T17:28:26.449Z"
   },
   {
    "duration": 7,
    "start_time": "2023-01-25T17:28:33.597Z"
   },
   {
    "duration": 1121,
    "start_time": "2023-01-25T17:32:07.372Z"
   },
   {
    "duration": 6,
    "start_time": "2023-01-25T17:33:20.314Z"
   },
   {
    "duration": 1021,
    "start_time": "2023-01-25T17:33:21.016Z"
   },
   {
    "duration": 1032,
    "start_time": "2023-01-25T17:33:31.386Z"
   },
   {
    "duration": 1086,
    "start_time": "2023-01-25T17:34:31.779Z"
   },
   {
    "duration": 960,
    "start_time": "2023-01-25T17:34:38.234Z"
   },
   {
    "duration": 1062,
    "start_time": "2023-01-25T17:34:50.731Z"
   },
   {
    "duration": 1098,
    "start_time": "2023-01-25T17:35:56.618Z"
   },
   {
    "duration": 1087,
    "start_time": "2023-01-25T17:36:17.879Z"
   },
   {
    "duration": 919,
    "start_time": "2023-01-25T17:37:11.133Z"
   },
   {
    "duration": 1023,
    "start_time": "2023-01-25T17:37:13.616Z"
   },
   {
    "duration": 1159,
    "start_time": "2023-01-25T17:37:19.510Z"
   },
   {
    "duration": 4,
    "start_time": "2023-01-25T17:38:31.727Z"
   },
   {
    "duration": 1052,
    "start_time": "2023-01-25T17:38:33.647Z"
   },
   {
    "duration": 1086,
    "start_time": "2023-01-25T17:38:37.543Z"
   },
   {
    "duration": 957,
    "start_time": "2023-01-25T17:38:50.926Z"
   },
   {
    "duration": 976,
    "start_time": "2023-01-25T17:38:53.349Z"
   },
   {
    "duration": 1059,
    "start_time": "2023-01-25T18:37:45.294Z"
   },
   {
    "duration": 1037,
    "start_time": "2023-01-25T18:37:48.391Z"
   },
   {
    "duration": 1041,
    "start_time": "2023-01-25T18:37:53.393Z"
   },
   {
    "duration": 11,
    "start_time": "2023-01-25T18:38:53.136Z"
   },
   {
    "duration": 6,
    "start_time": "2023-01-25T18:38:56.903Z"
   },
   {
    "duration": 5,
    "start_time": "2023-01-25T18:39:01.215Z"
   },
   {
    "duration": 5,
    "start_time": "2023-01-25T18:39:10.200Z"
   },
   {
    "duration": 7,
    "start_time": "2023-01-25T18:39:12.488Z"
   },
   {
    "duration": 7,
    "start_time": "2023-01-25T18:39:14.815Z"
   },
   {
    "duration": 1573,
    "start_time": "2023-01-25T18:39:30.233Z"
   },
   {
    "duration": 484,
    "start_time": "2023-01-25T18:39:31.808Z"
   },
   {
    "duration": 82,
    "start_time": "2023-01-25T18:39:32.294Z"
   },
   {
    "duration": 191,
    "start_time": "2023-01-25T18:39:32.384Z"
   },
   {
    "duration": 20,
    "start_time": "2023-01-25T18:39:32.577Z"
   },
   {
    "duration": 1421,
    "start_time": "2023-01-25T18:39:32.600Z"
   },
   {
    "duration": 1258,
    "start_time": "2023-01-25T18:39:34.023Z"
   },
   {
    "duration": 1630,
    "start_time": "2023-01-25T18:39:35.283Z"
   },
   {
    "duration": 57,
    "start_time": "2023-01-25T18:39:36.915Z"
   },
   {
    "duration": 68,
    "start_time": "2023-01-25T18:39:36.975Z"
   },
   {
    "duration": 110,
    "start_time": "2023-01-25T18:39:37.045Z"
   },
   {
    "duration": 214,
    "start_time": "2023-01-25T18:39:37.157Z"
   },
   {
    "duration": 188,
    "start_time": "2023-01-25T18:39:37.373Z"
   },
   {
    "duration": 23,
    "start_time": "2023-01-25T18:39:37.564Z"
   },
   {
    "duration": 11,
    "start_time": "2023-01-25T18:39:37.589Z"
   },
   {
    "duration": 11,
    "start_time": "2023-01-25T18:39:37.602Z"
   },
   {
    "duration": 17,
    "start_time": "2023-01-25T18:39:37.615Z"
   },
   {
    "duration": 43,
    "start_time": "2023-01-25T18:39:37.634Z"
   },
   {
    "duration": 32,
    "start_time": "2023-01-25T18:39:37.679Z"
   },
   {
    "duration": 14,
    "start_time": "2023-01-25T18:39:37.715Z"
   },
   {
    "duration": 31,
    "start_time": "2023-01-25T18:39:37.731Z"
   },
   {
    "duration": 1258,
    "start_time": "2023-01-25T18:39:37.764Z"
   },
   {
    "duration": 1076,
    "start_time": "2023-01-25T18:39:39.024Z"
   },
   {
    "duration": 1154,
    "start_time": "2023-01-25T18:39:40.102Z"
   },
   {
    "duration": 7,
    "start_time": "2023-01-25T18:55:58.909Z"
   },
   {
    "duration": 1031,
    "start_time": "2023-01-25T18:56:00.461Z"
   },
   {
    "duration": 1055,
    "start_time": "2023-01-25T18:56:03.145Z"
   },
   {
    "duration": 1080,
    "start_time": "2023-01-25T18:56:06.317Z"
   },
   {
    "duration": 8,
    "start_time": "2023-01-25T19:10:13.414Z"
   },
   {
    "duration": 1120,
    "start_time": "2023-01-25T19:10:14.918Z"
   },
   {
    "duration": 1472,
    "start_time": "2023-01-25T19:10:17.126Z"
   },
   {
    "duration": 1132,
    "start_time": "2023-01-25T19:10:18.601Z"
   },
   {
    "duration": 138,
    "start_time": "2023-01-25T19:10:39.384Z"
   },
   {
    "duration": 9,
    "start_time": "2023-01-25T19:10:48.757Z"
   },
   {
    "duration": 8,
    "start_time": "2023-01-25T19:10:52.695Z"
   },
   {
    "duration": 112,
    "start_time": "2023-01-25T19:15:01.260Z"
   },
   {
    "duration": 1690,
    "start_time": "2023-01-25T19:15:17.729Z"
   },
   {
    "duration": 482,
    "start_time": "2023-01-25T19:15:19.423Z"
   },
   {
    "duration": 83,
    "start_time": "2023-01-25T19:15:19.907Z"
   },
   {
    "duration": 165,
    "start_time": "2023-01-25T19:15:19.993Z"
   },
   {
    "duration": 18,
    "start_time": "2023-01-25T19:15:20.160Z"
   },
   {
    "duration": 1632,
    "start_time": "2023-01-25T19:15:20.180Z"
   },
   {
    "duration": 1374,
    "start_time": "2023-01-25T19:15:21.815Z"
   },
   {
    "duration": 1597,
    "start_time": "2023-01-25T19:15:23.191Z"
   },
   {
    "duration": 64,
    "start_time": "2023-01-25T19:15:24.792Z"
   },
   {
    "duration": 23,
    "start_time": "2023-01-25T19:15:24.859Z"
   },
   {
    "duration": 22,
    "start_time": "2023-01-25T19:15:24.939Z"
   },
   {
    "duration": 193,
    "start_time": "2023-01-25T19:15:24.970Z"
   },
   {
    "duration": 12,
    "start_time": "2023-01-25T19:15:25.166Z"
   },
   {
    "duration": 186,
    "start_time": "2023-01-25T19:15:25.182Z"
   },
   {
    "duration": 9,
    "start_time": "2023-01-25T19:15:25.370Z"
   },
   {
    "duration": 9,
    "start_time": "2023-01-25T19:15:25.381Z"
   },
   {
    "duration": 9,
    "start_time": "2023-01-25T19:15:25.391Z"
   },
   {
    "duration": 24,
    "start_time": "2023-01-25T19:15:25.402Z"
   },
   {
    "duration": 1137,
    "start_time": "2023-01-25T19:15:25.428Z"
   },
   {
    "duration": 1090,
    "start_time": "2023-01-25T19:15:26.568Z"
   },
   {
    "duration": 1053,
    "start_time": "2023-01-25T19:15:27.660Z"
   },
   {
    "duration": 46,
    "start_time": "2023-01-26T09:32:51.273Z"
   },
   {
    "duration": 48,
    "start_time": "2023-01-26T09:33:25.562Z"
   },
   {
    "duration": 1540,
    "start_time": "2023-01-26T09:33:33.016Z"
   },
   {
    "duration": 1836,
    "start_time": "2023-01-26T09:33:34.558Z"
   },
   {
    "duration": 51,
    "start_time": "2023-01-26T09:33:36.396Z"
   },
   {
    "duration": 131,
    "start_time": "2023-01-26T09:33:36.450Z"
   },
   {
    "duration": 16,
    "start_time": "2023-01-26T09:33:36.583Z"
   },
   {
    "duration": 1153,
    "start_time": "2023-01-26T09:33:36.601Z"
   },
   {
    "duration": 985,
    "start_time": "2023-01-26T09:33:37.756Z"
   },
   {
    "duration": 1225,
    "start_time": "2023-01-26T09:33:38.743Z"
   },
   {
    "duration": 31,
    "start_time": "2023-01-26T09:33:39.970Z"
   },
   {
    "duration": 64,
    "start_time": "2023-01-26T09:33:40.004Z"
   },
   {
    "duration": 102,
    "start_time": "2023-01-26T09:33:40.071Z"
   },
   {
    "duration": 199,
    "start_time": "2023-01-26T09:33:40.176Z"
   },
   {
    "duration": 93,
    "start_time": "2023-01-26T09:33:40.377Z"
   },
   {
    "duration": 8,
    "start_time": "2023-01-26T09:33:40.566Z"
   },
   {
    "duration": 5,
    "start_time": "2023-01-26T09:33:40.575Z"
   },
   {
    "duration": 6,
    "start_time": "2023-01-26T09:33:40.582Z"
   },
   {
    "duration": 6,
    "start_time": "2023-01-26T09:33:40.590Z"
   },
   {
    "duration": 7,
    "start_time": "2023-01-26T09:33:40.597Z"
   },
   {
    "duration": 902,
    "start_time": "2023-01-26T09:33:40.605Z"
   },
   {
    "duration": 913,
    "start_time": "2023-01-26T09:33:41.508Z"
   },
   {
    "duration": 882,
    "start_time": "2023-01-26T09:33:42.423Z"
   },
   {
    "duration": 1316,
    "start_time": "2023-01-26T09:36:22.390Z"
   },
   {
    "duration": 379,
    "start_time": "2023-01-26T09:36:23.708Z"
   },
   {
    "duration": 49,
    "start_time": "2023-01-26T09:36:24.088Z"
   },
   {
    "duration": 113,
    "start_time": "2023-01-26T09:36:24.139Z"
   },
   {
    "duration": 17,
    "start_time": "2023-01-26T09:36:24.254Z"
   },
   {
    "duration": 1131,
    "start_time": "2023-01-26T09:36:24.273Z"
   },
   {
    "duration": 996,
    "start_time": "2023-01-26T09:36:25.406Z"
   },
   {
    "duration": 1276,
    "start_time": "2023-01-26T09:36:26.404Z"
   },
   {
    "duration": 32,
    "start_time": "2023-01-26T09:36:27.682Z"
   },
   {
    "duration": 60,
    "start_time": "2023-01-26T09:36:27.716Z"
   },
   {
    "duration": 101,
    "start_time": "2023-01-26T09:36:27.778Z"
   },
   {
    "duration": 186,
    "start_time": "2023-01-26T09:36:27.882Z"
   },
   {
    "duration": 9,
    "start_time": "2023-01-26T09:36:28.071Z"
   },
   {
    "duration": 4,
    "start_time": "2023-01-26T09:36:28.168Z"
   },
   {
    "duration": 9,
    "start_time": "2023-01-26T09:36:28.174Z"
   },
   {
    "duration": 5,
    "start_time": "2023-01-26T09:36:28.184Z"
   },
   {
    "duration": 5,
    "start_time": "2023-01-26T09:36:28.191Z"
   },
   {
    "duration": 6,
    "start_time": "2023-01-26T09:36:28.197Z"
   },
   {
    "duration": 868,
    "start_time": "2023-01-26T09:36:28.204Z"
   },
   {
    "duration": 864,
    "start_time": "2023-01-26T09:36:29.073Z"
   },
   {
    "duration": 883,
    "start_time": "2023-01-26T09:36:29.938Z"
   }
  ],
  "kernelspec": {
   "display_name": "Python 3 (ipykernel)",
   "language": "python",
   "name": "python3"
  },
  "language_info": {
   "codemirror_mode": {
    "name": "ipython",
    "version": 3
   },
   "file_extension": ".py",
   "mimetype": "text/x-python",
   "name": "python",
   "nbconvert_exporter": "python",
   "pygments_lexer": "ipython3",
   "version": "3.9.5"
  },
  "toc": {
   "base_numbering": 1,
   "nav_menu": {},
   "number_sections": true,
   "sideBar": true,
   "skip_h1_title": true,
   "title_cell": "Table of Contents",
   "title_sidebar": "Contents",
   "toc_cell": false,
   "toc_position": {},
   "toc_section_display": true,
   "toc_window_display": false
  }
 },
 "nbformat": 4,
 "nbformat_minor": 2
}
