{
 "cells": [
  {
   "cell_type": "markdown",
   "metadata": {},
   "source": [
    "# Защита персональных данных клиентов"
   ]
  },
  {
   "cell_type": "markdown",
   "metadata": {},
   "source": [
    "Вам нужно защитить данные клиентов страховой компании «Хоть потоп». Разработайте такой метод преобразования данных, чтобы по ним было сложно восстановить персональную информацию. Обоснуйте корректность его работы.\n",
    "\n",
    "Нужно защитить данные, чтобы при преобразовании качество моделей машинного обучения не ухудшилось. Подбирать наилучшую модель не требуется."
   ]
  },
  {
   "cell_type": "markdown",
   "metadata": {},
   "source": [
    "## Загрузка данных"
   ]
  },
  {
   "cell_type": "markdown",
   "metadata": {},
   "source": [
    "План проекта:\n",
    "Изучить данны, провести предобработку.\n",
    "Решить поставленные задачи.\n",
    "Предложить алгоритм преобразования данных для решения задачи.\n",
    "Запрограммировать этот алгоритм, применив матричные операции. Проверить, что качество линейной регрессии из sklearn не отличается до и после преобразования. Применить метрику R2."
   ]
  },
  {
   "cell_type": "code",
   "execution_count": 1,
   "metadata": {},
   "outputs": [],
   "source": [
    "import pandas as pd\n",
    "import numpy as np\n",
    "from sklearn.model_selection import train_test_split\n",
    "from sklearn.preprocessing import StandardScaler\n",
    "from sklearn.linear_model import LinearRegression\n",
    "from sklearn.metrics import r2_score"
   ]
  },
  {
   "cell_type": "code",
   "execution_count": 2,
   "metadata": {},
   "outputs": [
    {
     "name": "stdout",
     "output_type": "stream",
     "text": [
      "<class 'pandas.core.frame.DataFrame'>\n",
      "RangeIndex: 5000 entries, 0 to 4999\n",
      "Data columns (total 5 columns):\n",
      " #   Column             Non-Null Count  Dtype  \n",
      "---  ------             --------------  -----  \n",
      " 0   Пол                5000 non-null   int64  \n",
      " 1   Возраст            5000 non-null   float64\n",
      " 2   Зарплата           5000 non-null   float64\n",
      " 3   Члены семьи        5000 non-null   int64  \n",
      " 4   Страховые выплаты  5000 non-null   int64  \n",
      "dtypes: float64(2), int64(3)\n",
      "memory usage: 195.4 KB\n",
      "   Пол  Возраст  Зарплата  Члены семьи  Страховые выплаты\n",
      "0    1     41.0   49600.0            1                  0\n",
      "1    0     46.0   38000.0            1                  1\n",
      "2    0     29.0   21000.0            0                  0\n",
      "3    0     21.0   41700.0            2                  0\n",
      "4    1     28.0   26100.0            0                  0\n"
     ]
    }
   ],
   "source": [
    "try:\n",
    "    data = pd.read_csv('C:/Users/user/Downloads/insurance.csv')\n",
    "except:\n",
    "    data = pd.read_csv('/datasets/insurance.csv')\n",
    "data.info()\n",
    "print(data.head())"
   ]
  },
  {
   "cell_type": "code",
   "execution_count": 3,
   "metadata": {},
   "outputs": [
    {
     "name": "stdout",
     "output_type": "stream",
     "text": [
      "Пол                  0\n",
      "Возраст              0\n",
      "Зарплата             0\n",
      "Члены семьи          0\n",
      "Страховые выплаты    0\n",
      "dtype: int64\n",
      "153\n"
     ]
    }
   ],
   "source": [
    "print(data.isna().sum())"
   ]
  },
  {
   "cell_type": "code",
   "execution_count": 5,
   "metadata": {},
   "outputs": [
    {
     "data": {
      "text/html": [
       "<div>\n",
       "<style scoped>\n",
       "    .dataframe tbody tr th:only-of-type {\n",
       "        vertical-align: middle;\n",
       "    }\n",
       "\n",
       "    .dataframe tbody tr th {\n",
       "        vertical-align: top;\n",
       "    }\n",
       "\n",
       "    .dataframe thead th {\n",
       "        text-align: right;\n",
       "    }\n",
       "</style>\n",
       "<table border=\"1\" class=\"dataframe\">\n",
       "  <thead>\n",
       "    <tr style=\"text-align: right;\">\n",
       "      <th></th>\n",
       "      <th>Пол</th>\n",
       "      <th>Возраст</th>\n",
       "      <th>Зарплата</th>\n",
       "      <th>Члены семьи</th>\n",
       "      <th>Страховые выплаты</th>\n",
       "    </tr>\n",
       "  </thead>\n",
       "  <tbody>\n",
       "    <tr>\n",
       "      <th>count</th>\n",
       "      <td>5000.000000</td>\n",
       "      <td>5000.000000</td>\n",
       "      <td>5000.000000</td>\n",
       "      <td>5000.000000</td>\n",
       "      <td>5000.000000</td>\n",
       "    </tr>\n",
       "    <tr>\n",
       "      <th>mean</th>\n",
       "      <td>0.499000</td>\n",
       "      <td>30.952800</td>\n",
       "      <td>39916.360000</td>\n",
       "      <td>1.194200</td>\n",
       "      <td>0.148000</td>\n",
       "    </tr>\n",
       "    <tr>\n",
       "      <th>std</th>\n",
       "      <td>0.500049</td>\n",
       "      <td>8.440807</td>\n",
       "      <td>9900.083569</td>\n",
       "      <td>1.091387</td>\n",
       "      <td>0.463183</td>\n",
       "    </tr>\n",
       "    <tr>\n",
       "      <th>min</th>\n",
       "      <td>0.000000</td>\n",
       "      <td>18.000000</td>\n",
       "      <td>5300.000000</td>\n",
       "      <td>0.000000</td>\n",
       "      <td>0.000000</td>\n",
       "    </tr>\n",
       "    <tr>\n",
       "      <th>25%</th>\n",
       "      <td>0.000000</td>\n",
       "      <td>24.000000</td>\n",
       "      <td>33300.000000</td>\n",
       "      <td>0.000000</td>\n",
       "      <td>0.000000</td>\n",
       "    </tr>\n",
       "    <tr>\n",
       "      <th>50%</th>\n",
       "      <td>0.000000</td>\n",
       "      <td>30.000000</td>\n",
       "      <td>40200.000000</td>\n",
       "      <td>1.000000</td>\n",
       "      <td>0.000000</td>\n",
       "    </tr>\n",
       "    <tr>\n",
       "      <th>75%</th>\n",
       "      <td>1.000000</td>\n",
       "      <td>37.000000</td>\n",
       "      <td>46600.000000</td>\n",
       "      <td>2.000000</td>\n",
       "      <td>0.000000</td>\n",
       "    </tr>\n",
       "    <tr>\n",
       "      <th>max</th>\n",
       "      <td>1.000000</td>\n",
       "      <td>65.000000</td>\n",
       "      <td>79000.000000</td>\n",
       "      <td>6.000000</td>\n",
       "      <td>5.000000</td>\n",
       "    </tr>\n",
       "  </tbody>\n",
       "</table>\n",
       "</div>"
      ],
      "text/plain": [
       "               Пол      Возраст      Зарплата  Члены семьи  Страховые выплаты\n",
       "count  5000.000000  5000.000000   5000.000000  5000.000000        5000.000000\n",
       "mean      0.499000    30.952800  39916.360000     1.194200           0.148000\n",
       "std       0.500049     8.440807   9900.083569     1.091387           0.463183\n",
       "min       0.000000    18.000000   5300.000000     0.000000           0.000000\n",
       "25%       0.000000    24.000000  33300.000000     0.000000           0.000000\n",
       "50%       0.000000    30.000000  40200.000000     1.000000           0.000000\n",
       "75%       1.000000    37.000000  46600.000000     2.000000           0.000000\n",
       "max       1.000000    65.000000  79000.000000     6.000000           5.000000"
      ]
     },
     "execution_count": 5,
     "metadata": {},
     "output_type": "execute_result"
    }
   ],
   "source": [
    "data.describe()"
   ]
  },
  {
   "cell_type": "markdown",
   "metadata": {},
   "source": [
    "Данные загружены, пропусков и дубликатов нет. Можно ещё изменить типы данные в столбце Возраст и Зарплата на целочисленный."
   ]
  },
  {
   "cell_type": "code",
   "execution_count": 6,
   "metadata": {},
   "outputs": [],
   "source": [
    "data['Возраст'] = pd.to_numeric(data['Возраст'], downcast='integer')\n",
    "data['Зарплата'] = pd.to_numeric(data['Зарплата'], downcast='integer')"
   ]
  },
  {
   "cell_type": "markdown",
   "metadata": {},
   "source": [
    "Корреляционный анализ: целевой признак имеет сильную корреляцию с возрастом."
   ]
  },
  {
   "cell_type": "code",
   "execution_count": 7,
   "metadata": {},
   "outputs": [
    {
     "name": "stdout",
     "output_type": "stream",
     "text": [
      "                        Пол   Возраст  Зарплата  Члены семьи  \\\n",
      "Пол                1.000000  0.002074  0.014910    -0.008991   \n",
      "Возраст            0.002074  1.000000 -0.019093    -0.006692   \n",
      "Зарплата           0.014910 -0.019093  1.000000    -0.030296   \n",
      "Члены семьи       -0.008991 -0.006692 -0.030296     1.000000   \n",
      "Страховые выплаты  0.010140  0.651030 -0.014963    -0.036290   \n",
      "\n",
      "                   Страховые выплаты  \n",
      "Пол                         0.010140  \n",
      "Возраст                     0.651030  \n",
      "Зарплата                   -0.014963  \n",
      "Члены семьи                -0.036290  \n",
      "Страховые выплаты           1.000000  \n"
     ]
    }
   ],
   "source": [
    "corr_matrix = data.corr()\n",
    "print(corr_matrix)"
   ]
  },
  {
   "cell_type": "markdown",
   "metadata": {},
   "source": [
    "## Умножение матриц"
   ]
  },
  {
   "cell_type": "markdown",
   "metadata": {},
   "source": [
    "Обозначения:\n",
    "\n",
    "- $X$ — матрица признаков (нулевой столбец состоит из единиц)\n",
    "\n",
    "- $y$ — вектор целевого признака\n",
    "\n",
    "- $P$ — матрица, на которую умножаются признаки\n",
    "\n",
    "- $w$ — вектор весов линейной регрессии (нулевой элемент равен сдвигу)"
   ]
  },
  {
   "cell_type": "markdown",
   "metadata": {},
   "source": [
    "Предсказания:\n",
    "\n",
    "$$\n",
    "a = Xw\n",
    "$$\n",
    "\n",
    "Задача обучения:\n",
    "\n",
    "$$\n",
    "w = \\arg\\min_w MSE(Xw, y)\n",
    "$$\n",
    "\n",
    "Формула обучения:\n",
    "\n",
    "$$\n",
    "w = (X^T X)^{-1} X^T y\n",
    "$$"
   ]
  },
  {
   "cell_type": "markdown",
   "metadata": {},
   "source": [
    "Ответьте на вопрос и обоснуйте решение. \n",
    " Признаки умножают на обратимую матрицу. Изменится ли качество линейной регрессии? (Её можно обучить заново.)\n",
    " a. Изменится. Приведите примеры матриц.\n",
    " b. Не изменится. Укажите, как связаны параметры линейной регрессии в исходной задаче и в преобразованной."
   ]
  },
  {
   "cell_type": "markdown",
   "metadata": {},
   "source": [
    "**Ответ:** b. Не изменится. При умножении признаков на обратимую матрицу, параметры линейной регрессии также будут умножены на эту матрицу, что не изменит их отношение друг к другу. То есть, если в исходной задаче параметр a был в два раза больше параметра b, то после умножения признаков на матрицу это соотношение останется неизменным. Поэтому качество линейной регрессии не изменится.\n",
    "\n",
    "**Обоснование:** \n",
    "Предположим, что мы умножаем матрицу признаков X на обратимую матрицу P, тогда\n",
    "\n",
    "$X' = X * P$\n",
    "\n",
    "вектор весов можно вычислить как:\n",
    "\n",
    "$w' = ((X * P)^T * X * P)^{-1}* (X * P)^T * y$\n",
    "\n",
    "\n",
    "раскроем скобки и воспользуемся свойствами транспонирования и свойствами обратной матрицы $(AB)^{-1} = B^{-1}A^{-1}$\n",
    "\n",
    "\n",
    "$= P^{-1}((XP)^{T}X)^{-1} (XP)^Ty =$\n",
    "\n",
    "$= P^{-1}((XP)^{T}X)^{-1} P^TX^Ty =$\n",
    "\n",
    "$= P^{-1}(P^TX^TX)^{-1} P^TX^Ty =$\n",
    "\n",
    "$= P^{-1}(X^TX)^{-1}(P^T)^{-1} P^TX^Ty$\n",
    "\n",
    "умножение $(P^{T})^{-1} P^T = E$\n",
    "\n",
    "$w' = P^{-1}(X^TX)^{-1} X^Ty$\n",
    "\n",
    "$w' = P^{-1}w$\n",
    "\n",
    "подставим значения в формулу для расчета предсказаний a':\n",
    "\n",
    "$a'=X'w' = XPP^{-1}w = Xw = a$\n",
    "\n"
   ]
  },
  {
   "cell_type": "markdown",
   "metadata": {},
   "source": [
    "## Алгоритм преобразования"
   ]
  },
  {
   "cell_type": "markdown",
   "metadata": {},
   "source": [
    "**Алгоритм**\n",
    "\n",
    "Алгоритм для защиты информации на этапе поиска коэффициентов регрессии и предсказаний регрессии с использованием обратимой матрицы Y:\n",
    "\n",
    "1. Сгенерировать случайную матрицу Y размера (m, m), где m - количество признаков.\n",
    "\n",
    "2. Проверить, что матрица Y обратима. Если не обратима, повторить шаг 1.\n",
    "\n",
    "3. Умножить матрицу признаков X на матрицу Y\n",
    "\n",
    "4. Найти коэффициенты регрессии для матрицы X' и предсказать значение целевой переменной для новых данных."
   ]
  },
  {
   "cell_type": "markdown",
   "metadata": {},
   "source": [
    "**Обоснование**\n",
    "\n",
    "Умножение матрицы признаков на обратимую матрицу Y не изменяет качество модели регрессии. Это позволяет защитить информацию о признаках от злоумышленников, которые могут попытаться получить доступ к данным через коэффициенты регрессии или предсказанные значения целевой переменной. Обратимость матрицы Y необходима для того, чтобы можно было вернуться к исходным данным, если потребуется."
   ]
  },
  {
   "cell_type": "markdown",
   "metadata": {},
   "source": [
    "## Проверка алгоритма"
   ]
  },
  {
   "cell_type": "markdown",
   "metadata": {},
   "source": [
    "Запрограммируйте этот алгоритм, применив матричные операции. Проверьте, что качество линейной регрессии из sklearn не отличается до и после преобразования. Примените метрику R2.\n",
    "\n",
    "Исследуем качество модели без преобразования."
   ]
  },
  {
   "cell_type": "code",
   "execution_count": 8,
   "metadata": {},
   "outputs": [],
   "source": [
    "features = data.drop('Страховые выплаты',axis=1)\n",
    "target = data['Страховые выплаты']"
   ]
  },
  {
   "cell_type": "code",
   "execution_count": 9,
   "metadata": {},
   "outputs": [],
   "source": [
    "features_train, features_test, target_train, target_test = train_test_split(\n",
    "    features, target, test_size=0.25, random_state=12345)"
   ]
  },
  {
   "cell_type": "code",
   "execution_count": 10,
   "metadata": {},
   "outputs": [
    {
     "name": "stdout",
     "output_type": "stream",
     "text": [
      "0.4358187383756974\n"
     ]
    }
   ],
   "source": [
    "model = LinearRegression()\n",
    "model.fit(features_train, target_train)\n",
    "R2_score = r2_score(target_test, np.round(model.predict(features_test),2))\n",
    "print(R2_score)"
   ]
  },
  {
   "cell_type": "code",
   "execution_count": 11,
   "metadata": {},
   "outputs": [],
   "source": [
    "def transform_features(X):\n",
    "    np.random.seed(12345)\n",
    "    Y = np.random.rand(X.shape[1], X.shape[1])\n",
    "    while np.linalg.det(Y) == 0:\n",
    "        np.random.seed(12345)\n",
    "        Y = np.random.rand(X.shape[1], X.shape[1])\n",
    "    X_transformed = X.dot(Y)\n",
    "    \n",
    "    return X_transformed, Y"
   ]
  },
  {
   "cell_type": "code",
   "execution_count": 12,
   "metadata": {},
   "outputs": [],
   "source": [
    "features, key = transform_features(features)\n",
    "features_train, features_test, target_train, target_test = train_test_split(\n",
    "    features, target, test_size=0.25, random_state=12345)"
   ]
  },
  {
   "cell_type": "code",
   "execution_count": 13,
   "metadata": {},
   "outputs": [
    {
     "name": "stdout",
     "output_type": "stream",
     "text": [
      "0.4352275712706788\n"
     ]
    }
   ],
   "source": [
    "model = LinearRegression()\n",
    "model.fit(features_train, target_train)\n",
    "R2_score = r2_score(target_test, model.predict(features_test))\n",
    "print(R2_score)"
   ]
  },
  {
   "cell_type": "markdown",
   "metadata": {},
   "source": [
    "R2 не изменился после преобразования."
   ]
  },
  {
   "cell_type": "markdown",
   "metadata": {},
   "source": [
    "Вывод:\n",
    "\n",
    "Данные загружены и изучены, ошибок, дубликатов и пропусков нет.\n",
    "Качество линейной регресии не изменилось при умножении признаков на обратимую матрицу.\n",
    "Исследован алгоритм преобразования данных и проверена метрика R2 для данных без преобразования и с ним."
   ]
  },
  {
   "cell_type": "code",
   "execution_count": 14,
   "metadata": {},
   "outputs": [],
   "source": [
    "class Cipher:\n",
    "    def __init__(self):\n",
    "        self.key = None\n",
    "        \n",
    "    def transform_features(self, X):\n",
    "        np.random.seed(12345)\n",
    "        Y = np.random.rand(X.shape[1], X.shape[1])\n",
    "        while np.linalg.det(Y) == 0:\n",
    "            np.random.seed(12345)\n",
    "            Y = np.random.rand(X.shape[1], X.shape[1])\n",
    "        X_transformed = X.dot(Y)\n",
    "        self.key = Y\n",
    "        return X_transformed\n",
    "    \n",
    "    def decrypt(self, X):\n",
    "        if self.key is None:\n",
    "            raise ValueError(\"Key not found\")\n",
    "        Y_inv = np.linalg.inv(self.key)\n",
    "        X_transformed = X.dot(Y_inv)\n",
    "        return X_transformed"
   ]
  },
  {
   "cell_type": "code",
   "execution_count": 15,
   "metadata": {},
   "outputs": [
    {
     "data": {
      "text/html": [
       "<div>\n",
       "<style scoped>\n",
       "    .dataframe tbody tr th:only-of-type {\n",
       "        vertical-align: middle;\n",
       "    }\n",
       "\n",
       "    .dataframe tbody tr th {\n",
       "        vertical-align: top;\n",
       "    }\n",
       "\n",
       "    .dataframe thead th {\n",
       "        text-align: right;\n",
       "    }\n",
       "</style>\n",
       "<table border=\"1\" class=\"dataframe\">\n",
       "  <thead>\n",
       "    <tr style=\"text-align: right;\">\n",
       "      <th></th>\n",
       "      <th>0</th>\n",
       "      <th>1</th>\n",
       "      <th>2</th>\n",
       "      <th>3</th>\n",
       "    </tr>\n",
       "  </thead>\n",
       "  <tbody>\n",
       "    <tr>\n",
       "      <th>0</th>\n",
       "      <td>37169.983952</td>\n",
       "      <td>32441.905747</td>\n",
       "      <td>37126.682258</td>\n",
       "      <td>47708.455342</td>\n",
       "    </tr>\n",
       "    <tr>\n",
       "      <th>1</th>\n",
       "      <td>28484.575966</td>\n",
       "      <td>24863.156593</td>\n",
       "      <td>28457.829124</td>\n",
       "      <td>36560.358528</td>\n",
       "    </tr>\n",
       "    <tr>\n",
       "      <th>2</th>\n",
       "      <td>15743.503414</td>\n",
       "      <td>13742.238084</td>\n",
       "      <td>15729.981916</td>\n",
       "      <td>20206.383593</td>\n",
       "    </tr>\n",
       "    <tr>\n",
       "      <th>3</th>\n",
       "      <td>31241.345787</td>\n",
       "      <td>27266.582942</td>\n",
       "      <td>31200.559759</td>\n",
       "      <td>40101.520436</td>\n",
       "    </tr>\n",
       "    <tr>\n",
       "      <th>4</th>\n",
       "      <td>19563.289157</td>\n",
       "      <td>17075.165256</td>\n",
       "      <td>19542.546847</td>\n",
       "      <td>25108.599330</td>\n",
       "    </tr>\n",
       "  </tbody>\n",
       "</table>\n",
       "</div>"
      ],
      "text/plain": [
       "              0             1             2             3\n",
       "0  37169.983952  32441.905747  37126.682258  47708.455342\n",
       "1  28484.575966  24863.156593  28457.829124  36560.358528\n",
       "2  15743.503414  13742.238084  15729.981916  20206.383593\n",
       "3  31241.345787  27266.582942  31200.559759  40101.520436\n",
       "4  19563.289157  17075.165256  19542.546847  25108.599330"
      ]
     },
     "execution_count": 15,
     "metadata": {},
     "output_type": "execute_result"
    }
   ],
   "source": [
    "features.head()"
   ]
  },
  {
   "cell_type": "code",
   "execution_count": 16,
   "metadata": {},
   "outputs": [],
   "source": [
    "Cipher = Cipher()"
   ]
  },
  {
   "cell_type": "code",
   "execution_count": 17,
   "metadata": {},
   "outputs": [
    {
     "name": "stdout",
     "output_type": "stream",
     "text": [
      "              0             1             2             3\n",
      "0  81176.508646  60423.457129  80137.811351  95800.305440\n",
      "1  62214.092816  46309.769007  61418.780048  73422.188263\n",
      "2  34387.011678  25596.474878  33947.376855  40581.644354\n",
      "3  68225.069199  50782.794298  67352.480015  80517.040622\n",
      "4  42726.508581  31803.459702  42179.585267  50422.926067\n"
     ]
    }
   ],
   "source": [
    "new_f = Cipher.transform_features(features)\n",
    "print(new_f.head())"
   ]
  },
  {
   "cell_type": "code",
   "execution_count": 18,
   "metadata": {},
   "outputs": [
    {
     "name": "stdout",
     "output_type": "stream",
     "text": [
      "              0             1             2             3\n",
      "0  37169.983952  32441.905747  37126.682258  47708.455342\n",
      "1  28484.575966  24863.156593  28457.829124  36560.358528\n",
      "2  15743.503414  13742.238084  15729.981916  20206.383593\n",
      "3  31241.345787  27266.582942  31200.559759  40101.520436\n",
      "4  19563.289157  17075.165256  19542.546847  25108.599330\n"
     ]
    }
   ],
   "source": [
    "old_f = Cipher.decrypt(new_f)\n",
    "print(old_f.head())"
   ]
  },
  {
   "cell_type": "markdown",
   "metadata": {},
   "source": [
    "Код работает. "
   ]
  }
 ],
 "metadata": {
  "ExecuteTimeLog": [
   {
    "duration": 1094,
    "start_time": "2023-03-12T01:31:44.791Z"
   },
   {
    "duration": 187,
    "start_time": "2023-03-12T01:32:48.713Z"
   },
   {
    "duration": 128,
    "start_time": "2023-03-12T01:33:00.712Z"
   },
   {
    "duration": 88,
    "start_time": "2023-03-12T01:33:15.608Z"
   },
   {
    "duration": 91,
    "start_time": "2023-03-12T01:33:33.160Z"
   },
   {
    "duration": 7,
    "start_time": "2023-03-12T01:33:38.091Z"
   },
   {
    "duration": 12,
    "start_time": "2023-03-12T01:34:09.296Z"
   },
   {
    "duration": 7,
    "start_time": "2023-03-12T01:34:22.808Z"
   },
   {
    "duration": 6,
    "start_time": "2023-03-12T01:36:17.794Z"
   },
   {
    "duration": 7,
    "start_time": "2023-03-12T01:36:23.112Z"
   },
   {
    "duration": 13,
    "start_time": "2023-03-12T01:36:27.032Z"
   },
   {
    "duration": 39,
    "start_time": "2023-03-12T01:37:03.456Z"
   },
   {
    "duration": 11,
    "start_time": "2023-03-12T08:20:11.310Z"
   },
   {
    "duration": 15,
    "start_time": "2023-03-12T08:20:32.678Z"
   },
   {
    "duration": 22,
    "start_time": "2023-03-12T08:20:37.411Z"
   },
   {
    "duration": 15,
    "start_time": "2023-03-12T08:20:44.343Z"
   },
   {
    "duration": 11,
    "start_time": "2023-03-12T08:21:34.330Z"
   },
   {
    "duration": 7,
    "start_time": "2023-03-12T08:21:47.335Z"
   },
   {
    "duration": 7,
    "start_time": "2023-03-12T08:21:58.458Z"
   },
   {
    "duration": 133,
    "start_time": "2023-03-12T08:30:33.617Z"
   },
   {
    "duration": 11,
    "start_time": "2023-03-12T08:35:32.108Z"
   },
   {
    "duration": 7,
    "start_time": "2023-03-12T08:39:38.006Z"
   },
   {
    "duration": 5,
    "start_time": "2023-03-12T08:39:50.772Z"
   },
   {
    "duration": 8,
    "start_time": "2023-03-12T08:40:17.230Z"
   },
   {
    "duration": 9,
    "start_time": "2023-03-12T08:40:54.059Z"
   },
   {
    "duration": 23,
    "start_time": "2023-03-12T08:41:00.394Z"
   },
   {
    "duration": 18,
    "start_time": "2023-03-12T08:41:02.806Z"
   },
   {
    "duration": 3,
    "start_time": "2023-03-12T08:41:08.939Z"
   },
   {
    "duration": 17,
    "start_time": "2023-03-12T08:41:11.202Z"
   },
   {
    "duration": 11,
    "start_time": "2023-03-12T08:41:20.074Z"
   },
   {
    "duration": 19,
    "start_time": "2023-03-12T08:41:21.910Z"
   },
   {
    "duration": 1385,
    "start_time": "2023-03-12T08:49:28.814Z"
   },
   {
    "duration": 153,
    "start_time": "2023-03-12T08:49:30.200Z"
   },
   {
    "duration": 17,
    "start_time": "2023-03-12T08:49:30.358Z"
   },
   {
    "duration": 172,
    "start_time": "2023-03-12T08:49:30.377Z"
   },
   {
    "duration": 167,
    "start_time": "2023-03-12T08:49:30.550Z"
   },
   {
    "duration": 69,
    "start_time": "2023-03-12T08:49:30.718Z"
   },
   {
    "duration": 124,
    "start_time": "2023-03-12T08:49:30.789Z"
   },
   {
    "duration": 183,
    "start_time": "2023-03-12T08:49:30.916Z"
   },
   {
    "duration": 105,
    "start_time": "2023-03-12T08:49:31.108Z"
   },
   {
    "duration": 219,
    "start_time": "2023-03-12T08:49:31.218Z"
   },
   {
    "duration": 102,
    "start_time": "2023-03-12T08:49:31.443Z"
   },
   {
    "duration": 47,
    "start_time": "2023-03-13T03:53:46.774Z"
   },
   {
    "duration": 8,
    "start_time": "2023-03-13T03:53:55.966Z"
   },
   {
    "duration": 1064,
    "start_time": "2023-03-13T03:53:58.758Z"
   },
   {
    "duration": 115,
    "start_time": "2023-03-13T03:54:01.885Z"
   },
   {
    "duration": 69,
    "start_time": "2023-03-13T03:56:15.734Z"
   },
   {
    "duration": 5,
    "start_time": "2023-03-13T03:56:21.564Z"
   },
   {
    "duration": 11,
    "start_time": "2023-03-13T03:56:38.572Z"
   },
   {
    "duration": 5,
    "start_time": "2023-03-13T03:56:54.372Z"
   },
   {
    "duration": 13,
    "start_time": "2023-03-13T03:56:58.732Z"
   },
   {
    "duration": 16,
    "start_time": "2023-03-13T03:57:18.843Z"
   },
   {
    "duration": 14,
    "start_time": "2023-03-13T03:57:31.003Z"
   },
   {
    "duration": 11,
    "start_time": "2023-03-13T03:57:45.467Z"
   },
   {
    "duration": 4,
    "start_time": "2023-03-13T03:57:55.515Z"
   },
   {
    "duration": 9,
    "start_time": "2023-03-13T03:58:00.378Z"
   },
   {
    "duration": 5,
    "start_time": "2023-03-13T04:37:20.757Z"
   },
   {
    "duration": 7,
    "start_time": "2023-03-13T04:37:28.949Z"
   },
   {
    "duration": 8,
    "start_time": "2023-03-13T04:39:58.676Z"
   },
   {
    "duration": 3,
    "start_time": "2023-03-13T04:40:04.779Z"
   },
   {
    "duration": 80,
    "start_time": "2023-03-13T04:40:05.228Z"
   },
   {
    "duration": 6,
    "start_time": "2023-03-13T04:40:05.612Z"
   },
   {
    "duration": 3,
    "start_time": "2023-03-13T04:40:06.061Z"
   },
   {
    "duration": 20,
    "start_time": "2023-03-13T04:40:06.468Z"
   },
   {
    "duration": 5,
    "start_time": "2023-03-13T04:40:07.739Z"
   },
   {
    "duration": 6,
    "start_time": "2023-03-13T04:40:08.444Z"
   },
   {
    "duration": 4,
    "start_time": "2023-03-13T04:40:13.787Z"
   },
   {
    "duration": 5,
    "start_time": "2023-03-13T04:40:14.195Z"
   },
   {
    "duration": 8,
    "start_time": "2023-03-13T04:40:15.131Z"
   },
   {
    "duration": 8,
    "start_time": "2023-03-13T04:40:29.115Z"
   },
   {
    "duration": 10,
    "start_time": "2023-03-13T04:40:53.092Z"
   },
   {
    "duration": 8,
    "start_time": "2023-03-13T04:40:58.500Z"
   },
   {
    "duration": 64,
    "start_time": "2023-03-13T04:41:48.658Z"
   },
   {
    "duration": 13,
    "start_time": "2023-03-13T04:41:59.082Z"
   },
   {
    "duration": 8,
    "start_time": "2023-03-13T04:42:11.627Z"
   },
   {
    "duration": 12,
    "start_time": "2023-03-13T04:42:46.930Z"
   },
   {
    "duration": 7,
    "start_time": "2023-03-13T04:43:14.642Z"
   },
   {
    "duration": 4,
    "start_time": "2023-03-13T04:44:24.304Z"
   },
   {
    "duration": 5,
    "start_time": "2023-03-13T04:44:27.928Z"
   },
   {
    "duration": 8,
    "start_time": "2023-03-13T04:44:48.064Z"
   },
   {
    "duration": 5,
    "start_time": "2023-03-13T04:45:06.840Z"
   },
   {
    "duration": 9,
    "start_time": "2023-03-13T04:45:22.224Z"
   },
   {
    "duration": 8,
    "start_time": "2023-03-13T04:45:24.887Z"
   },
   {
    "duration": 6,
    "start_time": "2023-03-13T04:45:33.343Z"
   },
   {
    "duration": 7,
    "start_time": "2023-03-13T04:45:39.223Z"
   },
   {
    "duration": 4,
    "start_time": "2023-03-13T04:46:00.703Z"
   },
   {
    "duration": 3,
    "start_time": "2023-03-13T04:46:49.622Z"
   },
   {
    "duration": 6,
    "start_time": "2023-03-13T04:49:09.766Z"
   },
   {
    "duration": 8,
    "start_time": "2023-03-13T04:49:10.916Z"
   },
   {
    "duration": 5,
    "start_time": "2023-03-13T09:50:07.757Z"
   },
   {
    "duration": 8,
    "start_time": "2023-03-13T09:51:40.749Z"
   },
   {
    "duration": 7,
    "start_time": "2023-03-13T09:51:46.525Z"
   },
   {
    "duration": 10,
    "start_time": "2023-03-13T09:53:01.019Z"
   },
   {
    "duration": 9,
    "start_time": "2023-03-13T09:53:37.187Z"
   },
   {
    "duration": 5,
    "start_time": "2023-03-13T09:55:13.509Z"
   },
   {
    "duration": 8,
    "start_time": "2023-03-13T09:55:15.929Z"
   },
   {
    "duration": 7,
    "start_time": "2023-03-13T09:58:02.755Z"
   },
   {
    "duration": 3,
    "start_time": "2023-03-13T09:58:12.715Z"
   },
   {
    "duration": 9,
    "start_time": "2023-03-13T09:58:26.167Z"
   },
   {
    "duration": 4,
    "start_time": "2023-03-13T09:58:51.511Z"
   },
   {
    "duration": 7,
    "start_time": "2023-03-13T09:58:54.167Z"
   },
   {
    "duration": 7,
    "start_time": "2023-03-13T09:58:57.463Z"
   },
   {
    "duration": 3,
    "start_time": "2023-03-13T09:59:28.262Z"
   },
   {
    "duration": 3,
    "start_time": "2023-03-13T09:59:31.558Z"
   },
   {
    "duration": 8,
    "start_time": "2023-03-13T09:59:35.990Z"
   },
   {
    "duration": 80,
    "start_time": "2023-03-13T09:59:53.269Z"
   },
   {
    "duration": 6,
    "start_time": "2023-03-13T09:59:55.804Z"
   },
   {
    "duration": 8,
    "start_time": "2023-03-13T10:02:09.330Z"
   },
   {
    "duration": 4,
    "start_time": "2023-03-13T10:02:12.507Z"
   },
   {
    "duration": 8,
    "start_time": "2023-03-13T10:02:13.427Z"
   },
   {
    "duration": 10,
    "start_time": "2023-03-13T10:02:25.108Z"
   },
   {
    "duration": 7,
    "start_time": "2023-03-13T10:02:37.009Z"
   },
   {
    "duration": 10,
    "start_time": "2023-03-13T10:02:46.059Z"
   },
   {
    "duration": 8,
    "start_time": "2023-03-13T10:03:13.843Z"
   },
   {
    "duration": 8,
    "start_time": "2023-03-13T10:03:25.533Z"
   },
   {
    "duration": 8,
    "start_time": "2023-03-13T10:03:28.410Z"
   },
   {
    "duration": 8,
    "start_time": "2023-03-13T10:03:44.928Z"
   },
   {
    "duration": 2,
    "start_time": "2023-03-13T10:03:50.230Z"
   },
   {
    "duration": 5,
    "start_time": "2023-03-13T10:03:52.726Z"
   },
   {
    "duration": 3,
    "start_time": "2023-03-13T10:03:55.188Z"
   },
   {
    "duration": 9,
    "start_time": "2023-03-13T10:04:06.019Z"
   },
   {
    "duration": 2,
    "start_time": "2023-03-13T10:04:09.285Z"
   },
   {
    "duration": 8,
    "start_time": "2023-03-13T10:04:26.834Z"
   },
   {
    "duration": 8,
    "start_time": "2023-03-13T10:04:40.137Z"
   },
   {
    "duration": 8,
    "start_time": "2023-03-13T10:04:43.562Z"
   },
   {
    "duration": 5,
    "start_time": "2023-03-13T10:04:45.084Z"
   },
   {
    "duration": 2,
    "start_time": "2023-03-13T10:04:46.242Z"
   },
   {
    "duration": 8,
    "start_time": "2023-03-13T10:04:48.146Z"
   },
   {
    "duration": 10,
    "start_time": "2023-03-13T10:04:54.929Z"
   },
   {
    "duration": 4,
    "start_time": "2023-03-13T10:04:57.690Z"
   },
   {
    "duration": 2,
    "start_time": "2023-03-13T10:04:58.546Z"
   },
   {
    "duration": 8,
    "start_time": "2023-03-13T10:05:00.369Z"
   },
   {
    "duration": 7,
    "start_time": "2023-03-13T10:05:39.449Z"
   },
   {
    "duration": 8,
    "start_time": "2023-03-13T10:06:02.714Z"
   },
   {
    "duration": 4,
    "start_time": "2023-03-13T10:06:05.013Z"
   },
   {
    "duration": 2,
    "start_time": "2023-03-13T10:06:06.368Z"
   },
   {
    "duration": 9,
    "start_time": "2023-03-13T10:06:10.266Z"
   },
   {
    "duration": 3,
    "start_time": "2023-03-13T10:06:14.737Z"
   },
   {
    "duration": 5,
    "start_time": "2023-03-13T10:06:20.488Z"
   },
   {
    "duration": 2,
    "start_time": "2023-03-13T10:06:25.160Z"
   },
   {
    "duration": 4,
    "start_time": "2023-03-13T10:06:29.405Z"
   },
   {
    "duration": 10,
    "start_time": "2023-03-13T10:06:33.120Z"
   },
   {
    "duration": 3,
    "start_time": "2023-03-13T10:07:05.854Z"
   },
   {
    "duration": 9,
    "start_time": "2023-03-13T10:07:14.806Z"
   },
   {
    "duration": 7,
    "start_time": "2023-03-13T10:07:20.488Z"
   },
   {
    "duration": 7,
    "start_time": "2023-03-13T10:07:31.751Z"
   },
   {
    "duration": 8,
    "start_time": "2023-03-13T10:07:42.335Z"
   },
   {
    "duration": 6,
    "start_time": "2023-03-13T10:07:51.816Z"
   },
   {
    "duration": 5,
    "start_time": "2023-03-13T10:08:25.164Z"
   },
   {
    "duration": 7,
    "start_time": "2023-03-13T10:08:26.919Z"
   },
   {
    "duration": 2,
    "start_time": "2023-03-13T10:08:27.923Z"
   },
   {
    "duration": 5,
    "start_time": "2023-03-13T10:08:28.589Z"
   },
   {
    "duration": 6,
    "start_time": "2023-03-13T10:08:29.821Z"
   },
   {
    "duration": 1112,
    "start_time": "2023-03-13T10:09:30.014Z"
   },
   {
    "duration": 92,
    "start_time": "2023-03-13T10:09:31.128Z"
   },
   {
    "duration": 7,
    "start_time": "2023-03-13T10:09:31.222Z"
   },
   {
    "duration": 33,
    "start_time": "2023-03-13T10:09:31.231Z"
   },
   {
    "duration": 86,
    "start_time": "2023-03-13T10:09:31.266Z"
   },
   {
    "duration": 17,
    "start_time": "2023-03-13T10:09:31.354Z"
   },
   {
    "duration": 27,
    "start_time": "2023-03-13T10:09:31.372Z"
   },
   {
    "duration": 57,
    "start_time": "2023-03-13T10:09:31.401Z"
   },
   {
    "duration": 42,
    "start_time": "2023-03-13T10:09:31.459Z"
   },
   {
    "duration": 37,
    "start_time": "2023-03-13T10:09:31.503Z"
   },
   {
    "duration": 24,
    "start_time": "2023-03-13T10:09:31.541Z"
   },
   {
    "duration": 57,
    "start_time": "2023-03-13T10:09:31.567Z"
   },
   {
    "duration": 43,
    "start_time": "2023-03-13T10:09:31.626Z"
   },
   {
    "duration": 36,
    "start_time": "2023-03-13T10:09:31.670Z"
   },
   {
    "duration": 42,
    "start_time": "2023-03-13T10:09:31.708Z"
   },
   {
    "duration": 26,
    "start_time": "2023-03-13T10:09:31.751Z"
   },
   {
    "duration": 33,
    "start_time": "2023-03-13T10:09:31.779Z"
   },
   {
    "duration": 67,
    "start_time": "2023-03-13T10:09:31.814Z"
   }
  ],
  "kernelspec": {
   "display_name": "Python 3 (ipykernel)",
   "language": "python",
   "name": "python3"
  },
  "language_info": {
   "codemirror_mode": {
    "name": "ipython",
    "version": 3
   },
   "file_extension": ".py",
   "mimetype": "text/x-python",
   "name": "python",
   "nbconvert_exporter": "python",
   "pygments_lexer": "ipython3",
   "version": "3.10.9"
  },
  "toc": {
   "base_numbering": 1,
   "nav_menu": {},
   "number_sections": true,
   "sideBar": true,
   "skip_h1_title": true,
   "title_cell": "Содержание",
   "title_sidebar": "Contents",
   "toc_cell": true,
   "toc_position": {},
   "toc_section_display": true,
   "toc_window_display": true
  }
 },
 "nbformat": 4,
 "nbformat_minor": 2
}
